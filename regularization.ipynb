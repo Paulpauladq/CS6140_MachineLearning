{
 "cells": [
  {
   "cell_type": "code",
   "execution_count": null,
   "metadata": {},
   "outputs": [],
   "source": []
  },
  {
   "cell_type": "raw",
   "metadata": {},
   "source": [
    "# CS6140 Assignments\n",
    "\n",
    "**Instructions**\n",
    "1. In each assignment cell, look for the block:\n",
    " ```\n",
    "  #BEGIN YOUR CODE\n",
    "  raise NotImplementedError.new()\n",
    "  #END YOUR CODE\n",
    " ```\n",
    "1. Replace this block with your solution.\n",
    "1. Test your solution by running the cells following your block (indicated by ##TEST##)\n",
    "1. Click the \"Validate\" button above to validate the work.\n",
    "\n",
    "**Notes**\n",
    "* You may add other cells and functions as needed\n",
    "* Keep all code in the same notebook\n",
    "* In order to receive credit, code must \"Validate\" on the JupyterHub server\n",
    "\n",
    "---"
   ]
  },
  {
   "cell_type": "code",
   "execution_count": null,
   "metadata": {},
   "outputs": [],
   "source": []
  },
  {
   "cell_type": "markdown",
   "metadata": {},
   "source": [
    "# Assignment 5: Model Evaluation and Regularization\n",
    "\n",
    "\n",
    "In this assignment, we will investigate two evaluation methods and two ways that regularization can be used to control the behavior of linear models. Most of the code here will be copied or refactored from previous assignments. You are encouraged to copy **your code only** from previous assignments."
   ]
  },
  {
   "cell_type": "code",
   "execution_count": 2,
   "metadata": {},
   "outputs": [
    {
     "data": {
      "text/plain": [
       "false"
      ]
     },
     "execution_count": 2,
     "metadata": {},
     "output_type": "execute_result"
    }
   ],
   "source": [
    "require './assignment_lib'"
   ]
  },
  {
   "cell_type": "markdown",
   "metadata": {},
   "source": [
    "# Question 1.1 (1 Point)\n",
    "\n",
    "Copy **YOUR** implementation of ```StochasticGradientDescent``` from [Assignment 4](../assignment-4/assignment-4.ipynb) into the following cell."
   ]
  },
  {
   "cell_type": "code",
   "execution_count": 3,
   "metadata": {
    "deletable": false,
    "nbgrader": {
     "checksum": "9d2c75967facbcccd8bf764b464cdaea",
     "grade": false,
     "grade_id": "cell-302b13014a2e7383",
     "locked": false,
     "schema_version": 1,
     "solution": true
    }
   },
   "outputs": [
    {
     "data": {
      "text/plain": [
       ":update_weights"
      ]
     },
     "execution_count": 3,
     "metadata": {},
     "output_type": "execute_result"
    }
   ],
   "source": [
    "# BEGIN YOUR CODE\n",
    "# raise NotImplementedError.new()\n",
    "#END YOUR CODE\n",
    "\n",
    "class StochasticGradientDescent\n",
    "  attr_reader :weights\n",
    "  attr_reader :objective\n",
    "  def initialize obj, w_0, lr = 0.01\n",
    "    @objective = obj\n",
    "    @weights = w_0\n",
    "    @n = 1.0\n",
    "    @lr = lr\n",
    "  end\n",
    "  def update x\n",
    "    # BEGIN YOUR CODE\n",
    "    curr_lr = @lr / Math.sqrt(@n)\n",
    "    @objective.func(x, @weights)\n",
    "    grad = @objective.grad(x, @weights)\n",
    "    @weights = update_weights(@weights, grad, curr_lr)\n",
    "    @n += 1\n",
    "    #END YOUR CODE\n",
    "  end\n",
    "  \n",
    "  def update_weights(w, dw, lr)\n",
    "    w_copy = w.clone()\n",
    "    dw_copy = dw.clone()\n",
    "  \n",
    "    dw_copy.each do |k, v|\n",
    "      dw_copy[k] *= lr\n",
    "    end\n",
    "  \n",
    "    w_copy.each do |k, v|\n",
    "      if dw_copy.key?(k)\n",
    "        w_copy[k] -= dw_copy[k]\n",
    "      end\n",
    "    end\n",
    "    w_copy\n",
    "  end\n",
    "  \n",
    "end"
   ]
  },
  {
   "cell_type": "code",
   "execution_count": 4,
   "metadata": {
    "deletable": false,
    "editable": false,
    "nbgrader": {
     "checksum": "07f27ff123a189dc5d56c0daf17b45f4",
     "grade": true,
     "grade_id": "cell-6b98a23865128aa3",
     "locked": true,
     "points": 1,
     "schema_version": 1,
     "solution": false
    }
   },
   "outputs": [],
   "source": [
    "### Hidden Test (See Test 1.1 from Assignment 5) ###\n",
    "assert_not_nil(StochasticGradientDescent.class)"
   ]
  },
  {
   "cell_type": "markdown",
   "metadata": {},
   "source": [
    "## Question 1.2 (1 point)\n",
    "\n",
    "Copy **YOUR** implementation of the ```dot``` product and ```norm``` functions from [Assignment 3](../assignment-3/assignment-3.ipynb) into the following cell. Please copy the whole function, not just the parts within the comments."
   ]
  },
  {
   "cell_type": "code",
   "execution_count": 5,
   "metadata": {
    "deletable": false,
    "nbgrader": {
     "checksum": "30028c7c84bfe7cbbf5a285c0034c120",
     "grade": false,
     "grade_id": "cell-92f3de7f5b9a8b90",
     "locked": false,
     "schema_version": 1,
     "solution": true
    }
   },
   "outputs": [
    {
     "data": {
      "text/plain": [
       ":norm"
      ]
     },
     "execution_count": 5,
     "metadata": {},
     "output_type": "execute_result"
    }
   ],
   "source": [
    "# BEGIN YOUR CODE\n",
    "# raise NotImplementedError.new()\n",
    "#END YOUR CODE\n",
    "\n",
    "#Implement the error function given a weight vector, w\n",
    "def dot x, w\n",
    "  \n",
    "  res = 0.0\n",
    "\n",
    "  x.each do |k, v|\n",
    "    if w[k] != nil\n",
    "      res += v * w[k]\n",
    "    end\n",
    "  end\n",
    "  return res  \n",
    "end\n",
    "\n",
    "def norm w\n",
    "  return Math.sqrt(dot(w,w))\n",
    "end"
   ]
  },
  {
   "cell_type": "code",
   "execution_count": 6,
   "metadata": {
    "deletable": false,
    "editable": false,
    "nbgrader": {
     "checksum": "f6f4390260fb87bf76202385454d1c0a",
     "grade": true,
     "grade_id": "cell-c0a5c2a265dea170",
     "locked": true,
     "points": 1,
     "schema_version": 1,
     "solution": false
    }
   },
   "outputs": [],
   "source": [
    "def test_12()\n",
    "  assert_in_delta 2.0, norm({\"a\" => 1.41421, \"b\" => 1.41421}), 1e-2\n",
    "  assert_in_delta 2.0, norm({\"a\" => -1.41421, \"b\" => 1.41421}), 1e-2\n",
    "  assert_in_delta 0.0, norm({}), 1e-2\n",
    "\n",
    "  assert_in_delta 6.0, dot({\"a\" => 2.0}, {\"a\" => 3.0}), 1e-6\n",
    "  assert_in_delta 6.0, dot({\"a\" => 2.0}, {\"a\" => 3.0, \"b\" => 4.0}), 1e-6\n",
    "  assert_equal 0.0, dot({}, {})\n",
    "  assert_equal 0.0, dot({\"a\" => 1.0}, {\"b\" => 1.0})\n",
    "end\n",
    "\n",
    "test_12()"
   ]
  },
  {
   "cell_type": "markdown",
   "metadata": {},
   "source": [
    "## Question 1.3 (1 Point)\n",
    "\n",
    "Refactor **YOUR** $z$-score normalization method from [Assignment 4](../assignment-4/assignment-4.ipynb), where we called it ```create_zspambase```. It should be general enough to normalize any dataset. Only normalize features in the ```features``` key.\n",
    "\n",
    "Note: Watch out for zero-stdev features."
   ]
  },
  {
   "cell_type": "code",
   "execution_count": 7,
   "metadata": {
    "deletable": false,
    "nbgrader": {
     "checksum": "ab794f199cdb7647057279d6879187ef",
     "grade": false,
     "grade_id": "cell-7c0c300e6a7b2de7",
     "locked": false,
     "schema_version": 1,
     "solution": true
    }
   },
   "outputs": [
    {
     "data": {
      "text/plain": [
       ":z_normalize"
      ]
     },
     "execution_count": 7,
     "metadata": {},
     "output_type": "execute_result"
    }
   ],
   "source": [
    "def hashMean data\n",
    "  res = Hash.new\n",
    "  count = Hash.new\n",
    "  data.each do |sample|\n",
    "    sample[\"features\"].each do |key, value|\n",
    "      if res[key] == nil\n",
    "        res[key] = 0.0\n",
    "      end\n",
    "      if count[key] == nil\n",
    "        count[key] = 0\n",
    "      end\n",
    "      res[key] += value\n",
    "      count[key] += 1\n",
    "    end\n",
    "  end\n",
    "  res.each do |key, value|\n",
    "    res[key] = value / count[key]\n",
    "  end\n",
    "  return res\n",
    "end\n",
    "\n",
    "def hashStd data, mean\n",
    "  res = Hash.new\n",
    "  count = Hash.new\n",
    "  data.each do |sample|\n",
    "    sample[\"features\"].each do |key, value|\n",
    "      if res[key] == nil\n",
    "        res[key] = 0.0\n",
    "      end\n",
    "      if count[key] == nil\n",
    "        count[key] = 0\n",
    "      end\n",
    "      res[key] += (value - mean[key])**2\n",
    "      count[key] += 1\n",
    "    end\n",
    "  end\n",
    "  res.each do |key, value|\n",
    "    if count[key] > 1\n",
    "      res[key] = Math.sqrt(value / (count[key] - 1))\n",
    "    else\n",
    "      res[key] = Math.sqrt(value)\n",
    "    end\n",
    "  end\n",
    "  return res\n",
    "end\n",
    "\n",
    "def z_normalize dataset\n",
    "  zdataset = dataset.clone\n",
    "  zdataset[\"data\"] = dataset[\"data\"].collect do |r|\n",
    "    u = r.clone\n",
    "    u[\"features\"] = r[\"features\"].clone\n",
    "    u\n",
    "  end\n",
    "\n",
    "  # BEGIN YOUR CODE\n",
    "  mean = hashMean(zdataset[\"data\"])\n",
    "  std = hashStd(zdataset[\"data\"], mean)\n",
    "  zdataset[\"data\"].each do |sample|\n",
    "    sample[\"features\"].each do |key, value|\n",
    "      if std[key] > 0.0\n",
    "        sample[\"features\"][key] = (value - mean[key]) / std[key]\n",
    "      else\n",
    "        sample[\"features\"][key] = 0.0\n",
    "      end\n",
    "    end\n",
    "  end\n",
    "  #END YOUR CODE\n",
    "  return zdataset\n",
    "end"
   ]
  },
  {
   "cell_type": "code",
   "execution_count": 8,
   "metadata": {
    "deletable": false,
    "editable": false,
    "nbgrader": {
     "checksum": "20296cc052a36277656f0780d762677b",
     "grade": true,
     "grade_id": "cell-9141ec6c68600cb3",
     "locked": true,
     "points": 1,
     "schema_version": 1,
     "solution": false
    }
   },
   "outputs": [],
   "source": [
    "### TEST ###\n",
    "def test_13()\n",
    "  spambase = read_sparse_data_from_csv \"spambase\"\n",
    "  zspambase = z_normalize spambase\n",
    "\n",
    "  assert_in_delta 0.27, spambase[\"data\"].first[\"features\"][\"word_freq_our\"], 1e-5\n",
    "  assert_in_delta -0.628106690674003, zspambase[\"data\"].first[\"features\"][\"word_freq_our\"], 1e-5\n",
    "\n",
    "  assert_in_delta 607.0, spambase[\"data\"].first[\"features\"][\"capital_run_length_total\"], 1e-5\n",
    "  assert_in_delta 0.53386, zspambase[\"data\"].first[\"features\"][\"capital_run_length_total\"], 1e-5\n",
    "end\n",
    "\n",
    "test_13()"
   ]
  },
  {
   "cell_type": "markdown",
   "metadata": {},
   "source": [
    "## Question 2.1 (10 Points)\n",
    "\n",
    "Change your ```LinearRegression``` implementation from  [Assignment 4](../assignment-4/assignment-4.ipynb) to implement regularization. The new implementation requires a value for $\\lambda$. The regularization objective function for linear regression in a mini-batch is as follows:\n",
    "\n",
    "# $L(w,X) = \\frac{\\lambda}{2} \\left\\lVert w \\right\\rVert ^ 2 + \\frac{1}{n} \\sum_{i} \\frac{1}{2} \\left(f(w,x_i) - y_i\\right) ^ 2$\n",
    "\n",
    "where ```reg_param``` corresponds to $\\lambda$ in the formula above.\n",
    "\n",
    "Note that there is no $\\frac{1}{n}$ in front of the regularizer penalty. The ```predict``` and ```adjust``` methods have been provided for you. \n",
    "\n",
    "Hint: Use ```dot``` and ```norm``` as needed."
   ]
  },
  {
   "cell_type": "code",
   "execution_count": 9,
   "metadata": {
    "deletable": false,
    "nbgrader": {
     "checksum": "4b9f790f64f8c5a40a0dd0bee58d2b39",
     "grade": false,
     "grade_id": "cell-51eeafda9ff5400f",
     "locked": false,
     "schema_version": 1,
     "solution": true
    }
   },
   "outputs": [
    {
     "data": {
      "text/plain": [
       ":func"
      ]
     },
     "execution_count": 9,
     "metadata": {},
     "output_type": "execute_result"
    }
   ],
   "source": [
    "class LinearRegressionModelL2\n",
    "  def initialize reg_param\n",
    "    @reg_param = reg_param\n",
    "  end\n",
    "\n",
    "  def predict row, w\n",
    "    x = row[\"features\"]    \n",
    "    yhat = dot(w, x)\n",
    "  end\n",
    "  \n",
    "  def adjust w\n",
    "    w.each_key {|k| w[k] = 0.0 if w[k].nan? or w[k].infinite?}\n",
    "    w.each_key {|k| w[k] = 0.0 if w[k].abs > 1e5 }\n",
    "  end\n",
    "  \n",
    "  def func data, w\n",
    "    # BEGIN YOUR CODE\n",
    "    res = 0.0\n",
    "    data.each do |record|\n",
    "      predict_value = predict record, w\n",
    "      loss_value = (predict_value - record[\"label\"]) ** 2 / (2 * data.length)\n",
    "      res += loss_value\n",
    "    end\n",
    "    res += @reg_param * norm(w) ** 2 / 2\n",
    "    #END YOUR CODE\n",
    "  end\n",
    "end"
   ]
  },
  {
   "cell_type": "code",
   "execution_count": 10,
   "metadata": {
    "deletable": false,
    "editable": false,
    "nbgrader": {
     "checksum": "3ab21a3e07e8524b0233e8ab667473f0",
     "grade": true,
     "grade_id": "cell-d0ce9f8960464aaa",
     "locked": true,
     "points": 10,
     "schema_version": 1,
     "solution": false
    }
   },
   "outputs": [],
   "source": [
    "### TEST ###\n",
    "def test_21()\n",
    "  m = LinearRegressionModelL2.new 0.0\n",
    "  w = {\"x1\" => 1.0, \"x2\" => -3.0}\n",
    "  x = [\n",
    "      {\"features\" => {\"x1\" => 0.7, \"x2\" => -0.3}, \"label\" => 0.97},\n",
    "      {\"features\" => {\"x1\" => -2.7, \"x2\" => -1.3}, \"label\" => -1.0}  \n",
    "  ]\n",
    "  \n",
    "  e1 = 0.19845\n",
    "  assert_in_delta e1, m.func(x[0,1], w), 1e-2, \"1\"\n",
    "  \n",
    "  e2 = 2.42\n",
    "  assert_in_delta e2, m.func(x[1,1], w), 1e-2, \"2\"    \n",
    "  assert_in_delta (e1 + e2) / 2.0, m.func(x, w), 1e-2, \"3\"  \n",
    "\n",
    "  assert_in_delta 3.1622776602, norm(w), 1e-2, \"4\"\n",
    "  m2 = LinearRegressionModelL2.new 1.7\n",
    "  assert_in_delta 9.809225, m2.func(x, w), 1e-2, \"5\"\n",
    "end\n",
    "\n",
    "test_21()"
   ]
  },
  {
   "cell_type": "markdown",
   "metadata": {},
   "source": [
    "## Question 2.2 (10 Points)\n",
    "\n",
    "Implement the gradient for the regularized linear regression using the above objective function."
   ]
  },
  {
   "cell_type": "code",
   "execution_count": 11,
   "metadata": {
    "deletable": false,
    "nbgrader": {
     "checksum": "1e36b3be7098e5219b4279bcea6f10e4",
     "grade": false,
     "grade_id": "cell-fc654986b9148891",
     "locked": false,
     "schema_version": 1,
     "solution": true
    }
   },
   "outputs": [
    {
     "data": {
      "text/plain": [
       ":grad"
      ]
     },
     "execution_count": 11,
     "metadata": {},
     "output_type": "execute_result"
    }
   ],
   "source": [
    "class LinearRegressionModelL2\n",
    "  def grad data, w\n",
    "    # BEGIN YOUR CODE\n",
    "    grad_res = Hash.new\n",
    "    \n",
    "    data.each do |record|\n",
    "      record[\"features\"].each do |key, value|\n",
    "        if(!grad_res.key?(key))\n",
    "          grad_res[key] = 0.0\n",
    "        end\n",
    "        grad_res[key] += value * ((predict record, w) - record[\"label\"]) / data.length\n",
    "      end\n",
    "    end\n",
    "      \n",
    "    grad_res.each do |key, value|\n",
    "      grad_res[key] += @reg_param * w[key]\n",
    "    end\n",
    "    #END YOUR CODE\n",
    "    grad_res\n",
    "  end\n",
    "end"
   ]
  },
  {
   "cell_type": "code",
   "execution_count": 12,
   "metadata": {
    "deletable": false,
    "editable": false,
    "nbgrader": {
     "checksum": "65f2593fdbd24f407adf2daf10e369e9",
     "grade": true,
     "grade_id": "cell-ac6e14131548a546",
     "locked": true,
     "points": 10,
     "schema_version": 1,
     "solution": false
    }
   },
   "outputs": [],
   "source": [
    "### TEST ###\n",
    "def test_22()\n",
    "  m = LinearRegressionModelL2.new 0.0\n",
    "  w = {\"x1\" => 1.0, \"x2\" => -3.0}\n",
    "  x = [\n",
    "      {\"features\" => {\"x1\" => 0.7, \"x2\" => -0.3}, \"label\" => 0.97},\n",
    "      {\"features\" => {\"x1\" => -2.7, \"x2\" => -1.3}, \"label\" => -1.0}  \n",
    "  ]\n",
    "  \n",
    "  g1_1 = 0.441\n",
    "  assert_in_delta g1_1, m.grad(x[0,1], w)[\"x1\"], 1e-2, \"1\"\n",
    "  \n",
    "  g2_1 = -5.94\n",
    "  assert_in_delta g2_1, m.grad(x[1,1], w)[\"x1\"], 1e-2, \"2\"    \n",
    "  assert_in_delta (g1_1 + g2_1) / 2.0, m.grad(x, w)[\"x1\"], 1e-2, \"3\"  \n",
    "\n",
    "  m2 = LinearRegressionModelL2.new 1.7\n",
    "  assert_in_delta -1.0495, m2.grad(x, w)[\"x1\"], 1e-2, \"5\"\n",
    "end\n",
    "\n",
    "test_22()"
   ]
  },
  {
   "cell_type": "markdown",
   "metadata": {},
   "source": [
    "## Question 2.3 (10 Points)\n",
    "\n",
    "Implement a function that calculates the Root Mean Squared Error (RMSE) for a given dataset for a prediction model and weights.\n",
    "\n",
    "RMSE is defined as follows:\n",
    "\n",
    "# $e = \\sqrt{\\frac{\\sum_{i=1}^N{ \\left( \\hat{y} - y \\right) ^ 2 }}{N}}$\n",
    "\n",
    "where $N$ is the number of examples in the dataset.\n",
    "\n",
    "Hint: Use the ```mean``` function in the assignment library."
   ]
  },
  {
   "cell_type": "code",
   "execution_count": 13,
   "metadata": {
    "deletable": false,
    "nbgrader": {
     "checksum": "3c69bb947bf945ea48b0ffdb5aff9849",
     "grade": false,
     "grade_id": "cell-890117c7468edfd7",
     "locked": false,
     "schema_version": 1,
     "solution": true
    }
   },
   "outputs": [
    {
     "data": {
      "text/plain": [
       ":score_regression_model_rmse"
      ]
     },
     "execution_count": 13,
     "metadata": {},
     "output_type": "execute_result"
    }
   ],
   "source": [
    "def score_regression_model_rmse(data, weights, model)\n",
    "  # BEGIN YOUR CODE\n",
    "  res = 0.0\n",
    "  \n",
    "  \n",
    "  record_num = data.length\n",
    "  data.each do |record|\n",
    "    y_predict = model.predict(record, weights)\n",
    "    y_truth = record[\"label\"]\n",
    "    \n",
    "    res += (y_predict - y_truth) ** 2 / record_num\n",
    "  end\n",
    "  \n",
    "  e = Math.sqrt(res)\n",
    "  e\n",
    "  \n",
    "  # END YOUR CODE\n",
    "end"
   ]
  },
  {
   "cell_type": "code",
   "execution_count": 14,
   "metadata": {
    "deletable": false,
    "editable": false,
    "nbgrader": {
     "checksum": "f77d224a43112b93e71344b87728d0ef",
     "grade": true,
     "grade_id": "cell-76971a96370a4069",
     "locked": true,
     "points": 10,
     "schema_version": 1,
     "solution": false
    }
   },
   "outputs": [],
   "source": [
    "### TEST ###\n",
    "def test_23()\n",
    "  m = LinearRegressionModelL2.new 0.0\n",
    "  w = {\"x1\" => 1.0, \"x2\" => -3.0}\n",
    "  x = [\n",
    "      {\"features\" => {\"x1\" => 0.7, \"x2\" => -0.3}, \"label\" => 0.97},\n",
    "      {\"features\" => {\"x1\" => -2.7, \"x2\" => -1.3}, \"label\" => -1.0}  \n",
    "  ]\n",
    "  \n",
    "  e1 = (((0.7 + -3 * -0.3) - 0.97) ** 2)\n",
    "  e2 = (((-2.7 + -3.0 * -1.3) - -1.0) ** 2)\n",
    "  \n",
    "  rmse = Math.sqrt((e1 + e2) / 2.0)\n",
    "  assert_in_delta rmse, score_regression_model_rmse(x, w, m), 1e-2, \"3\"  \n",
    "end\n",
    "\n",
    "test_23()"
   ]
  },
  {
   "cell_type": "markdown",
   "metadata": {},
   "source": [
    "## Question 3.1 (10 Points)\n",
    "\n",
    "Using a small provided dataset, shown below, we will investigate model complexity. First, implement a _polynomial_ feature representation. \n",
    "\n",
    "Call the bias feature \"1\" for this part. For a dataset with two features, $x_1$ and $x_2$, a polynomial representation of degree 0 is as follows:\n",
    "\n",
    "# $\\phi(x, k = 0) = \\left( 1 \\right)$\n",
    "\n",
    "degree 1:\n",
    "\n",
    "# $\\phi(x, k = 1) = \\left( 1, x_1, x_2 \\right)$\n",
    "\n",
    "degree 2: \n",
    "\n",
    "# $\\phi(x, k = 2) = \\left( 1, x_1, x_2, x_1^2, x_2^2, x_1 x_2  \\right)$\n",
    "\n",
    "and more generally, for degree $k$:\n",
    "\n",
    "# $\\phi(x, k) = \\left(1, x_1 \\phi(x,k-1), x_2 \\phi(x,k-1) \\right)$\n",
    "\n",
    "For your convenience, the function ```poly_features``` emits, for degree $k$, the names of the features to be multiplied. After generating the features, apply ```z_normalize``` to only the newly added features (i.e., not the original features or the bias).\n",
    "\n",
    "Note: You may notice that the dataset we plan to use only has one feature and therefore the above seems overly complex. Don't worry, we will see this again. ;)"
   ]
  },
  {
   "cell_type": "code",
   "execution_count": 15,
   "metadata": {
    "deletable": false,
    "editable": false,
    "nbgrader": {
     "checksum": "dd54552301931cc2f2a656ed8226fb4f",
     "grade": false,
     "grade_id": "cell-7be23edc4f33cc01",
     "locked": true,
     "schema_version": 1,
     "solution": false
    }
   },
   "outputs": [
    {
     "name": "stdout",
     "output_type": "stream",
     "text": [
      "Polydata Regression Dataset\n"
     ]
    },
    {
     "data": {
      "text/html": [
       "<div id='vis-c1117160-4d33-419d-838c-3b45c8a4649a'></div>\n",
       "<script>\n",
       "(function(){\n",
       "    var render = function(){\n",
       "        var model = {\"panes\":[{\"diagrams\":[{\"type\":\"scatter\",\"options\":{\"x\":\"x1\",\"y\":\"x2\"},\"data\":\"54cafdb9-4765-473f-9f91-d077eda13a81\"}],\"options\":{\"x_label\":\"X1\",\"y_label\":\"Label\",\"legend\":false,\"zoom\":true,\"width\":700,\"xrange\":[5.62850407100423,34.2002350155681],\"yrange\":[-2.52858273819375,4.60878015052933]}}],\"data\":{\"54cafdb9-4765-473f-9f91-d077eda13a81\":[{\"x1\":12.8132597900148,\"x2\":2.34582297038399},{\"x1\":20.9519416573912,\"x2\":0.452979606820325},{\"x1\":34.2002350155681,\"x2\":3.49824462078296},{\"x1\":23.944830630756,\"x2\":3.85829855272372},{\"x1\":17.5232184731391,\"x2\":0.101246545837047},{\"x1\":19.5963152079201,\"x2\":2.44340629887528},{\"x1\":20.5996209812623,\"x2\":3.48748405031445},{\"x1\":19.734268228103,\"x2\":-2.52858273819375},{\"x1\":18.6124126482613,\"x2\":0.624277395873692},{\"x1\":30.921573310742,\"x2\":3.28536421891722},{\"x1\":26.7268739284682,\"x2\":0.498349362531655},{\"x1\":12.4210737567904,\"x2\":0.49508093700895},{\"x1\":12.909926115632,\"x2\":-0.434298486506457},{\"x1\":24.8847089121944,\"x2\":4.60878015052933},{\"x1\":18.2852296618375,\"x2\":2.87302562930614},{\"x1\":11.6604413992448,\"x2\":0.558164244683808},{\"x1\":25.2930222271897,\"x2\":3.21165483623472},{\"x1\":28.3287362416209,\"x2\":1.96593302920447},{\"x1\":5.62850407100423,\"x2\":1.56778902835322},{\"x1\":7.91105832790954,\"x2\":-1.71128243421354}]},\"extension\":[]}\n",
       "        var id_name = '#vis-c1117160-4d33-419d-838c-3b45c8a4649a';\n",
       "        Nyaplot.core.parse(model, id_name);\n",
       "\n",
       "        require(['downloadable'], function(downloadable){\n",
       "          var svg = d3.select(id_name).select(\"svg\");\n",
       "\t  if(!svg.empty())\n",
       "\t    svg.call(downloadable().filename('fig'));\n",
       "\t});\n",
       "    };\n",
       "    if(window['Nyaplot']==undefined){\n",
       "        window.addEventListener('load_nyaplot', render, false);\n",
       "\treturn;\n",
       "    } else {\n",
       "       render();\n",
       "    }\n",
       "})();\n",
       "</script>\n"
      ],
      "text/plain": [
       "#<Nyaplot::Plot:0x00000000033ee9e8 @properties={:diagrams=>[#<Nyaplot::Diagram:0x00000000033c84c8 @properties={:type=>:scatter, :options=>{:x=>:x1, :y=>:x2}, :data=>\"54cafdb9-4765-473f-9f91-d077eda13a81\"}, @xrange=[5.62850407100423, 34.2002350155681], @yrange=[-2.52858273819375, 4.60878015052933]>], :options=>{:x_label=>\"X1\", :y_label=>\"Label\", :legend=>false, :zoom=>true, :width=>700, :xrange=>[5.62850407100423, 34.2002350155681], :yrange=>[-2.52858273819375, 4.60878015052933]}}>"
      ]
     },
     "execution_count": 15,
     "metadata": {},
     "output_type": "execute_result"
    }
   ],
   "source": [
    "polydata = read_sparse_data_from_csv \"polydata\"\n",
    "x1 = polydata[\"data\"].collect {|r| r[\"features\"][\"x1\"]}\n",
    "x2 = polydata[\"data\"].collect {|r| r[\"label\"]}\n",
    "puts \"Polydata Regression Dataset\"\n",
    "Daru::DataFrame.new({x1: x1, x2: x2})\n",
    ".plot(type: :scatter, x: :x1, y: :x2) do |plot, diagram|\n",
    "  plot.x_label \"X1\"\n",
    "  plot.y_label \"Label\"\n",
    "  plot.legend false\n",
    "end"
   ]
  },
  {
   "cell_type": "code",
   "execution_count": 16,
   "metadata": {
    "deletable": false,
    "editable": false,
    "nbgrader": {
     "checksum": "7c50bd053e4cc638aa998e199af52716",
     "grade": false,
     "grade_id": "cell-7381e666dbe11a64",
     "locked": true,
     "schema_version": 1,
     "solution": false
    }
   },
   "outputs": [
    {
     "data": {
      "text/plain": [
       "[\"1\", \"x1\", \"x2\", \"1*x1*x1\", \"1*x1*x2\", \"1*x2*x2\", \"1*x1*x1*x1\", \"1*x1*x1*x2\", \"1*x1*x2*x2\", \"1*x2*x2*x2\"]"
      ]
     },
     "execution_count": 16,
     "metadata": {},
     "output_type": "execute_result"
    }
   ],
   "source": [
    "def poly_features features, degree\n",
    "  poly_features = [\"1\"]\n",
    "\n",
    "  degree.times do |i|\n",
    "    poly_features += poly_features.flat_map do |x_prev|\n",
    "      features.reject {|x| x == \"1\" or x == \"bias\"}.collect do |x|\n",
    "        [x, x_prev.split(\"*\")].flatten.sort.join(\"*\")\n",
    "      end\n",
    "    end\n",
    "    poly_features.uniq!\n",
    "  end\n",
    "  poly_features.collect {|k| k.gsub /^1\\*([^\\*]*)$/, '\\1'}\n",
    "end\n",
    "\n",
    "poly_features [\"x1\", \"x2\"], 3"
   ]
  },
  {
   "cell_type": "code",
   "execution_count": 17,
   "metadata": {
    "deletable": false,
    "nbgrader": {
     "checksum": "8601239861b56daa6c54c2e4a2844e21",
     "grade": false,
     "grade_id": "cell-f3c20b1351e644d5",
     "locked": false,
     "schema_version": 1,
     "solution": true
    }
   },
   "outputs": [
    {
     "data": {
      "text/plain": [
       ":create_polynomial_features"
      ]
     },
     "execution_count": 17,
     "metadata": {},
     "output_type": "execute_result"
    }
   ],
   "source": [
    "def assign_formula poly_feature, feature_val \n",
    "  single_feature = poly_feature.split(\"\\*\")\n",
    "  curr = 1\n",
    "  single_feature.each do |single|\n",
    "    if(feature_val != nil && feature_val.key?(single))\n",
    "      curr *= feature_val[single]\n",
    "    end\n",
    "  end\n",
    "  curr\n",
    "end\n",
    "\n",
    "def create_polynomial_features dataset, degree\n",
    "  degree += 1\n",
    "  polydataset = dataset.clone\n",
    "  features = poly_features dataset[\"features\"], degree\n",
    "  polydataset[\"data\"] = dataset[\"data\"].collect do |r|\n",
    "    u = r.clone\n",
    "    u[\"features\"] = r[\"features\"].clone\n",
    "    u\n",
    "  end\n",
    "  \n",
    "  # BEGIN YOUR CODE\n",
    "  dataset[\"data\"].each_with_index do |record, index|\n",
    "    curr_record = Hash.new\n",
    "    curr_record[\"features\"] = Hash.new\n",
    "    features_clone = record[\"features\"].clone\n",
    "    features.each do |single_feature|\n",
    "      curr_record[\"features\"][single_feature] = assign_formula(single_feature, features_clone)\n",
    "    end\n",
    "    curr_record[\"label\"] = record[\"label\"].clone\n",
    "    polydataset[\"data\"][index] = curr_record\n",
    "  end\n",
    "  \n",
    "  polydataset = z_normalize(polydataset)\n",
    "  polydataset[\"data\"].each_with_index do |record, index|\n",
    "    ori_record = dataset[\"data\"][index]\n",
    "    curr_record = polydataset[\"data\"][index]\n",
    "    ori_record[\"features\"].each do |key, value|\n",
    "      if(curr_record[\"features\"].key?(key))\n",
    "        curr_record[\"features\"][key] = value.clone\n",
    "      end\n",
    "    end\n",
    "  end\n",
    "#   puts polydataset[\"data\"].first[\"features\"]\n",
    "  return polydataset\n",
    "end"
   ]
  },
  {
   "cell_type": "code",
   "execution_count": 18,
   "metadata": {
    "deletable": false,
    "editable": false,
    "nbgrader": {
     "checksum": "5b0854f5022da663273a14ff8e2519a9",
     "grade": true,
     "grade_id": "cell-1ecdd36c24cd8684",
     "locked": true,
     "points": 10,
     "schema_version": 1,
     "solution": false
    }
   },
   "outputs": [],
   "source": [
    "def test_31()\n",
    "  data = read_sparse_data_from_csv \"polydata\"\n",
    "  assert_in_delta 12.8132, data[\"data\"].first[\"features\"][\"x1\"], 1e-2, \"1\"\n",
    "  \n",
    "  polydata = create_polynomial_features data, 3\n",
    "  \n",
    "  xp = polydata[\"data\"].first[\"features\"]\n",
    "  assert_in_delta 12.8132, xp[\"x1\"], 1e-2, \"2: Does not normalize original features\"\n",
    "  assert_in_delta -0.905, xp[\"1*x1*x1\"], 1e-2, \"3: Applies normalization to new features\"\n",
    "  assert_in_delta -0.827, xp[\"1*x1*x1*x1\"], 1e-2, \"4: Applies normalization to new features\"\n",
    "end\n",
    "\n",
    "test_31()"
   ]
  },
  {
   "cell_type": "markdown",
   "metadata": {},
   "source": [
    "## Question 3.2 (5 Points)\n",
    "\n",
    "Let's fit this dataset with different polynomial degrees. First, let's see how well linear regression fits the training data. \n",
    "\n",
    "Implement a training function that, given a training and testing dataset, trains the model using mini-batch SGD and returns the RMSE error value on both training and testing sets."
   ]
  },
  {
   "cell_type": "code",
   "execution_count": 19,
   "metadata": {
    "deletable": false,
    "nbgrader": {
     "checksum": "dc3a9a3243de06953072e87341a085e9",
     "grade": false,
     "grade_id": "cell-c62959d2c5c0fccb",
     "locked": false,
     "schema_version": 1,
     "solution": true
    }
   },
   "outputs": [
    {
     "data": {
      "text/plain": [
       ":train"
      ]
     },
     "execution_count": 19,
     "metadata": {},
     "output_type": "execute_result"
    }
   ],
   "source": [
    "def train(sgd, obj, w, train_set, test_set, num_epoch = 100, batch_size = 20)\n",
    "  # BEGIN YOUR CODE\n",
    "\n",
    "  num_iter = train_set[\"data\"].length / batch_size\n",
    "  total_iter = num_iter * num_epoch\n",
    "  \n",
    "  total_iter.times do |i|\n",
    "    data = train_set[\"data\"].sample(batch_size)\n",
    "    sgd.update(data)\n",
    "  end\n",
    "  \n",
    "  train_rmse = score_regression_model_rmse(train_set[\"data\"], sgd.weights, obj)\n",
    "  test_rmse = score_regression_model_rmse(train_set[\"data\"], sgd.weights, obj)\n",
    "  #END YOUR CODE\n",
    "  return [train_rmse, test_rmse]\n",
    "end"
   ]
  },
  {
   "cell_type": "code",
   "execution_count": 20,
   "metadata": {
    "deletable": false,
    "editable": false,
    "nbgrader": {
     "checksum": "2f1f5e1f2cd9004d1c1fe5f725f7e309",
     "grade": true,
     "grade_id": "cell-f472d45ada3dee64",
     "locked": true,
     "points": 5,
     "schema_version": 1,
     "solution": false
    }
   },
   "outputs": [],
   "source": [
    "def test_32()\n",
    "  data = read_sparse_data_from_csv \"polydata\"\n",
    "  polydata = create_polynomial_features data, 1\n",
    "  x1 = polydata[\"data\"].collect {|r| r[\"features\"][\"x1\"]}\n",
    "  x2 = polydata[\"data\"].collect {|r| r[\"label\"]}\n",
    "  \n",
    "  w = Hash.new {|h,k| h[k] = 0.0}\n",
    "  lr = 1e-3\n",
    "  obj = LinearRegressionModelL2.new 0.0\n",
    "  sgd = StochasticGradientDescent.new obj, w, lr\n",
    "\n",
    "  train_set = polydata\n",
    "  test_set = polydata\n",
    "  train_rmse, test_rmse = train(sgd, obj, w, train_set, test_set, num_epoch = 100, batch_size = 20)\n",
    "  assert_true train_rmse < 2, \"1\"\n",
    "  assert_true test_rmse < 2, \"2\"\n",
    "  assert_true train_rmse > 0, \"3\"\n",
    "  assert_true test_rmse > 0, \"4\"\n",
    "  assert_in_delta train_rmse, test_rmse, 1e-5, \"5\"\n",
    "end\n",
    "\n",
    "test_32()"
   ]
  },
  {
   "cell_type": "markdown",
   "metadata": {},
   "source": [
    "## Question 3.3 (10 Points)\n",
    "\n",
    "Implement a simplified version of Gaussian Complexity. Observe that as model complexity increases, test error worsens.\n",
    "\n",
    "In this simplification, we will compute the average loss of a randomly permuted datasets. Let $H(X,Y)$ be the loss on the training set on a function trained on input examples $x_i\\in X$ with labels $y_i\\in Y$. Permute the training labels as $y^\\prime_i = g y_i$ where $g ~ N(0,1)$ is sampled from a normal distribution with mean 0 and standard deviation 1. Compute the following Gaussian Complexity:\n",
    "\n",
    "# $R_G(X,H) = -\\frac{1}{K} \\sum_k H(X,Y^\\prime) $\n",
    "\n",
    "which, in words, is the average of $K$ separate trainings each with a randomly permuted label. We use negative RMSE here to indicate that a more complex model should be more sensitive to permutation and therefore its loss should be lower.\n"
   ]
  },
  {
   "cell_type": "code",
   "execution_count": 21,
   "metadata": {
    "deletable": false,
    "nbgrader": {
     "checksum": "e00a578b719986bb150dd39fd6620d71",
     "grade": false,
     "grade_id": "cell-512cc2e8d8e39163",
     "locked": false,
     "schema_version": 1,
     "solution": true
    }
   },
   "outputs": [
    {
     "data": {
      "text/plain": [
       ":gaussian_complexity"
      ]
     },
     "execution_count": 21,
     "metadata": {},
     "output_type": "execute_result"
    }
   ],
   "source": [
    "def gaussian_complexity(dataset, obj)\n",
    "  rng = Distribution::Normal.rng(0,1, 293891)\n",
    "  lr = 1e-2\n",
    "  tr_rmses = []\n",
    "  te_rmses = []\n",
    "  norms = []\n",
    "  100.times do |i|\n",
    "    # BEGIN YOUR CODE\n",
    "    weight = Hash.new{|h, k| h[k] = 0.0}\n",
    "    sgd = StochasticGradientDescent.new obj, weight, lr\n",
    "    \n",
    "    train_set = dataset.clone\n",
    "    train_set[\"data\"] = dataset[\"data\"].collect do |r|\n",
    "      u = r.clone\n",
    "      u[\"features\"] = r[\"features\"].clone\n",
    "      u\n",
    "    end\n",
    "    \n",
    "    test_set = dataset.clone\n",
    "    test_set[\"data\"] = dataset[\"data\"].collect do |r|\n",
    "      u = r.clone\n",
    "      u[\"features\"] = r[\"features\"].clone\n",
    "      u\n",
    "    end\n",
    "    \n",
    "    train_set[\"data\"].each do |train_record|\n",
    "      train_record[\"label\"] *= rng.call\n",
    "    end\n",
    "    \n",
    "    test_set[\"data\"].each do |test_record|\n",
    "      test_record[\"label\"] *= rng.call\n",
    "    end\n",
    "    \n",
    "    batch_size = 20\n",
    "    train_batch = train_set[\"data\"].sample(batch_size)\n",
    "    test_batch = test_set[\"data\"].sample(batch_size)\n",
    "    sgd.update(train_batch)\n",
    "    \n",
    "    tr_rmses << score_regression_model_rmse(train_batch, sgd.weights, obj)\n",
    "    te_rmses << score_regression_model_rmse(test_batch, sgd.weights, obj)\n",
    "    \n",
    "    norms << norm(sgd.weights)\n",
    "    #END YOUR CODE\n",
    "  end  \n",
    "\n",
    "  result = [mean(tr_rmses), mean(norms), mean(te_rmses)]\n",
    "  puts result.join(\"\\t\")\n",
    "  result\n",
    "end"
   ]
  },
  {
   "cell_type": "code",
   "execution_count": 22,
   "metadata": {
    "deletable": false,
    "editable": false,
    "nbgrader": {
     "checksum": "86fb6246509e7fcb4d3f3f3ac42aef61",
     "grade": true,
     "grade_id": "cell-a6fa85464f66be18",
     "locked": true,
     "points": 10,
     "schema_version": 1,
     "solution": false
    }
   },
   "outputs": [
    {
     "name": "stdout",
     "output_type": "stream",
     "text": [
      "3.0395113971800107\t0.10539173136710334\t3.4765620236368124\n",
      "3.0394342639466174\t0.10559820703380213\t3.4773625843288083\n",
      "3.0391406769717086\t0.10585072106472174\t3.478077093585965\n",
      "3.0386317891517676\t0.10614177186035872\t3.4786909628158504\n",
      "3.0379318722668502\t0.10646029866000922\t3.4792111401140393\n",
      "3.0370714135708603\t0.10679705669721341\t3.479651879045765\n",
      "3.036080032936978\t0.1071452359503917\t3.4800283100597067\n",
      "3.0349838834388745\t0.10750002170864127\t3.480354057467837\n"
     ]
    },
    {
     "data": {
      "text/html": [
       "<div id='vis-bcbe68d9-3839-47d4-a920-741d7e04394c'></div>\n",
       "<script>\n",
       "(function(){\n",
       "    var render = function(){\n",
       "        var model = {\"panes\":[{\"diagrams\":[{\"type\":\"line\",\"options\":{\"x\":\"data0\",\"y\":\"data1\",\"color\":\"black\"},\"data\":\"9e180de8-54d4-45cf-be12-13d55a9bcfa7\"}],\"options\":{\"x_label\":\"Model Complexity\",\"y_label\":\"Test RMSE\",\"zoom\":true,\"width\":700,\"xrange\":[-3.0395113971800107,-3.0349838834388745],\"yrange\":[3.4765620236368124,3.480354057467837]}}],\"data\":{\"9e180de8-54d4-45cf-be12-13d55a9bcfa7\":[{\"data0\":-3.0395113971800107,\"data1\":3.4765620236368124},{\"data0\":-3.0394342639466174,\"data1\":3.4773625843288083},{\"data0\":-3.0391406769717086,\"data1\":3.478077093585965},{\"data0\":-3.0386317891517676,\"data1\":3.4786909628158504},{\"data0\":-3.0379318722668502,\"data1\":3.4792111401140393},{\"data0\":-3.0370714135708603,\"data1\":3.479651879045765},{\"data0\":-3.036080032936978,\"data1\":3.4800283100597067},{\"data0\":-3.0349838834388745,\"data1\":3.480354057467837}]},\"extension\":[]}\n",
       "        var id_name = '#vis-bcbe68d9-3839-47d4-a920-741d7e04394c';\n",
       "        Nyaplot.core.parse(model, id_name);\n",
       "\n",
       "        require(['downloadable'], function(downloadable){\n",
       "          var svg = d3.select(id_name).select(\"svg\");\n",
       "\t  if(!svg.empty())\n",
       "\t    svg.call(downloadable().filename('fig'));\n",
       "\t});\n",
       "    };\n",
       "    if(window['Nyaplot']==undefined){\n",
       "        window.addEventListener('load_nyaplot', render, false);\n",
       "\treturn;\n",
       "    } else {\n",
       "       render();\n",
       "    }\n",
       "})();\n",
       "</script>\n"
      ],
      "text/plain": [
       "#<Nyaplot::Frame:0x000000000379f970 @properties={:panes=>[#<Nyaplot::Plot:0x00000000037a1338 @properties={:diagrams=>[#<Nyaplot::Diagram:0x000000000379ffb0 @properties={:type=>:line, :options=>{:x=>\"data0\", :y=>\"data1\", :color=>:black}, :data=>\"9e180de8-54d4-45cf-be12-13d55a9bcfa7\"}, @xrange=[-3.0395113971800107, -3.0349838834388745], @yrange=[3.4765620236368124, 3.480354057467837]>], :options=>{:x_label=>\"Model Complexity\", :y_label=>\"Test RMSE\", :zoom=>true, :width=>700, :xrange=>[-3.0395113971800107, -3.0349838834388745], :yrange=>[3.4765620236368124, 3.480354057467837]}}>], :data=>{\"9e180de8-54d4-45cf-be12-13d55a9bcfa7\"=>#<Nyaplot::DataFrame:0x00000000037a0d20 @name=\"9e180de8-54d4-45cf-be12-13d55a9bcfa7\", @rows=[{:data0=>-3.0395113971800107, :data1=>3.4765620236368124}, {:data0=>-3.0394342639466174, :data1=>3.4773625843288083}, {:data0=>-3.0391406769717086, :data1=>3.478077093585965}, {:data0=>-3.0386317891517676, :data1=>3.4786909628158504}, {:data0=>-3.0379318722668502, :data1=>3.4792111401140393}, {:data0=>-3.0370714135708603, :data1=>3.479651879045765}, {:data0=>-3.036080032936978, :data1=>3.4800283100597067}, {:data0=>-3.0349838834388745, :data1=>3.480354057467837}]>}, :extension=>[]}>"
      ]
     },
     "metadata": {},
     "output_type": "display_data"
    }
   ],
   "source": [
    "def test_33()\n",
    "  stats = Hash.new {|h,k| h[k] = []}\n",
    "  \n",
    "  8.times do |i|\n",
    "    data = read_sparse_data_from_csv \"polydata\"\n",
    "    polydata = create_polynomial_features data, i\n",
    "    obj = LinearRegressionModelL2.new 0.0\n",
    "    tr_rmse, w_norm, te_rmse = gaussian_complexity(polydata, obj)\n",
    "    \n",
    "    stats[:degree] << i\n",
    "    stats[:train_rmse] << tr_rmse    \n",
    "    stats[:test_rmse] << te_rmse\n",
    "    stats[:complexity] << -tr_rmse\n",
    "  end\n",
    "  tr_rmse = stats[:train_rmse]\n",
    "  assert_true(tr_rmse[0] > 0.0)\n",
    "  assert_true(tr_rmse[0] > tr_rmse[1])\n",
    "  assert_true(tr_rmse[1] > tr_rmse[2])\n",
    "  assert_true(tr_rmse[2] > tr_rmse[3])\n",
    "  assert_true(tr_rmse[2] < 10.0)\n",
    "  \n",
    "  te_rmse = stats[:test_rmse]\n",
    "  assert_true(te_rmse[0] > 0.0)\n",
    "  assert_true(te_rmse[0] < te_rmse[1])\n",
    "  assert_true(te_rmse[1] < te_rmse[2])\n",
    "  assert_true(te_rmse.last < 10.0)\n",
    "  \n",
    "  z_plot = Nyaplot::Plot.new\n",
    "  z_plot.x_label(\"Model Complexity\").y_label(\"Test RMSE\")\n",
    "  z_plot.add(:line, stats[:complexity], stats[:test_rmse]).color(:black)\n",
    "  z_plot.show()  \n",
    "end\n",
    "test_33()"
   ]
  },
  {
   "cell_type": "markdown",
   "metadata": {},
   "source": [
    "## Question 3.4 (5 points)\n",
    "\n",
    "Does regularization reduce the Gaussian Complexity? Copy ```test_33``` above and modify it to select a fixed value for the polynomial degree, say $k=5$. Validate that both norm and complexity decreases as you increase the regularization parameter. Due to limitations in SGD, some large regularization values may cause the trainer to diverge. Try adjusting the learning rate. \n"
   ]
  },
  {
   "cell_type": "code",
   "execution_count": 23,
   "metadata": {
    "deletable": false,
    "nbgrader": {
     "checksum": "61e3c314d54cc65a5d6754177b5adb64",
     "grade": false,
     "grade_id": "cell-c38f15b4d5b724ff",
     "locked": false,
     "schema_version": 1,
     "solution": true
    }
   },
   "outputs": [
    {
     "data": {
      "text/plain": [
       ":complexity_vs_norm"
      ]
     },
     "execution_count": 23,
     "metadata": {},
     "output_type": "execute_result"
    }
   ],
   "source": [
    "def complexity_vs_norm()\n",
    "  stats = Hash.new {|h,k| h[k] = []}\n",
    "  data = read_sparse_data_from_csv \"polydata\"\n",
    "\n",
    "  [0.0, 0.1, 0.5, 1.0, 1.5, 2.0, 5.0, 10.0, 15.0, 100.0].each do |reg|\n",
    "    # BEGIN YOUR CODE\n",
    "    polydata = create_polynomial_features data, 3\n",
    "    obj = LinearRegressionModelL2.new reg\n",
    "    tr_rmse, w_norm, te_rmse = gaussian_complexity(polydata, obj)\n",
    "    #END YOUR CODE\n",
    "    stats[:regularizer] << reg\n",
    "    stats[:train_rmse] << tr_rmse    \n",
    "    stats[:test_rmse] << te_rmse\n",
    "    stats[:norms] << w_norm    \n",
    "    stats[:complexity] << -tr_rmse\n",
    "  end\n",
    "  \n",
    "  return stats\n",
    "end"
   ]
  },
  {
   "cell_type": "code",
   "execution_count": 23,
   "metadata": {
    "deletable": false,
    "editable": false,
    "nbgrader": {
     "checksum": "43fdffa7ef6c8e4ebc8064bb96abc4aa",
     "grade": true,
     "grade_id": "cell-f31f60f16e70ba4e",
     "locked": true,
     "points": 10,
     "schema_version": 1,
     "solution": false
    }
   },
   "outputs": [
    {
     "name": "stdout",
     "output_type": "stream",
     "text": [
      "3.0386317891517676\t0.10614177186035874\t3.4786909628158504\n",
      "3.0386317891517676\t0.10614177186035872\t3.478690962815851\n",
      "3.0386317891517676\t0.10614177186035872\t3.4786909628158504\n",
      "3.0386317891517676\t0.10614177186035872\t3.478690962815851\n",
      "3.0386317891517676\t0.10614177186035872\t3.478690962815851\n",
      "3.0386317891517676\t0.10614177186035874\t3.4786909628158504\n",
      "3.0386317891517676\t0.10614177186035872\t3.478690962815851\n",
      "3.0386317891517676\t0.10614177186035872\t3.478690962815851\n",
      "3.0386317891517685\t0.10614177186035872\t3.4786909628158504\n",
      "3.0386317891517676\t0.10614177186035872\t3.4786909628158504\n"
     ]
    },
    {
     "data": {
      "text/html": [
       "<div id='vis-8949c702-0840-4774-887a-c2873069cd8f'></div>\n",
       "<script>\n",
       "(function(){\n",
       "    var render = function(){\n",
       "        var model = {\"panes\":[{\"diagrams\":[{\"type\":\"line\",\"options\":{\"x\":\"data0\",\"y\":\"data1\",\"color\":\"black\"},\"data\":\"217db284-0626-40df-8041-bb7ee46c1621\"}],\"options\":{\"x_label\":\"Weight Norm\",\"y_label\":\"Model Complexity\",\"zoom\":true,\"width\":700,\"xrange\":[0.10614177186035872,0.10614177186035874],\"yrange\":[-3.0386317891517685,-3.0386317891517676]}}],\"data\":{\"217db284-0626-40df-8041-bb7ee46c1621\":[{\"data0\":0.10614177186035874,\"data1\":-3.0386317891517676},{\"data0\":0.10614177186035872,\"data1\":-3.0386317891517676},{\"data0\":0.10614177186035872,\"data1\":-3.0386317891517676},{\"data0\":0.10614177186035872,\"data1\":-3.0386317891517676},{\"data0\":0.10614177186035872,\"data1\":-3.0386317891517676},{\"data0\":0.10614177186035874,\"data1\":-3.0386317891517676},{\"data0\":0.10614177186035872,\"data1\":-3.0386317891517676},{\"data0\":0.10614177186035872,\"data1\":-3.0386317891517676},{\"data0\":0.10614177186035872,\"data1\":-3.0386317891517685},{\"data0\":0.10614177186035872,\"data1\":-3.0386317891517676}]},\"extension\":[]}\n",
       "        var id_name = '#vis-8949c702-0840-4774-887a-c2873069cd8f';\n",
       "        Nyaplot.core.parse(model, id_name);\n",
       "\n",
       "        require(['downloadable'], function(downloadable){\n",
       "          var svg = d3.select(id_name).select(\"svg\");\n",
       "\t  if(!svg.empty())\n",
       "\t    svg.call(downloadable().filename('fig'));\n",
       "\t});\n",
       "    };\n",
       "    if(window['Nyaplot']==undefined){\n",
       "        window.addEventListener('load_nyaplot', render, false);\n",
       "\treturn;\n",
       "    } else {\n",
       "       render();\n",
       "    }\n",
       "})();\n",
       "</script>\n"
      ],
      "text/plain": [
       "#<Nyaplot::Frame:0x0000000002d0fe60 @properties={:panes=>[#<Nyaplot::Plot:0x0000000002d11a30 @properties={:diagrams=>[#<Nyaplot::Diagram:0x0000000002d10630 @properties={:type=>:line, :options=>{:x=>\"data0\", :y=>\"data1\", :color=>:black}, :data=>\"217db284-0626-40df-8041-bb7ee46c1621\"}, @xrange=[0.10614177186035872, 0.10614177186035874], @yrange=[-3.0386317891517685, -3.0386317891517676]>], :options=>{:x_label=>\"Weight Norm\", :y_label=>\"Model Complexity\", :zoom=>true, :width=>700, :xrange=>[0.10614177186035872, 0.10614177186035874], :yrange=>[-3.0386317891517685, -3.0386317891517676]}}>], :data=>{\"217db284-0626-40df-8041-bb7ee46c1621\"=>#<Nyaplot::DataFrame:0x0000000002d11418 @name=\"217db284-0626-40df-8041-bb7ee46c1621\", @rows=[{:data0=>0.10614177186035874, :data1=>-3.0386317891517676}, {:data0=>0.10614177186035872, :data1=>-3.0386317891517676}, {:data0=>0.10614177186035872, :data1=>-3.0386317891517676}, {:data0=>0.10614177186035872, :data1=>-3.0386317891517676}, {:data0=>0.10614177186035872, :data1=>-3.0386317891517676}, {:data0=>0.10614177186035874, :data1=>-3.0386317891517676}, {:data0=>0.10614177186035872, :data1=>-3.0386317891517676}, {:data0=>0.10614177186035872, :data1=>-3.0386317891517676}, {:data0=>0.10614177186035872, :data1=>-3.0386317891517685}, {:data0=>0.10614177186035872, :data1=>-3.0386317891517676}]>}, :extension=>[]}>"
      ]
     },
     "metadata": {},
     "output_type": "display_data"
    }
   ],
   "source": [
    "def test_34()\n",
    "  stats = complexity_vs_norm()\n",
    "  \n",
    "  assert_true(stats[:train_rmse].all? {|t| t > 0 and t < 5})\n",
    "  assert_true(stats[:test_rmse].all? {|t| t > 0 and t < 5})  \n",
    "  assert_true(stats[:norms].all? {|t| t > 0 and t < 10})    \n",
    "  z_plot = Nyaplot::Plot.new\n",
    "  z_plot.x_label(\"Weight Norm\").y_label(\"Model Complexity\")\n",
    "  z_plot.add(:line, stats[:norms], stats[:complexity]).color(:black)\n",
    "  z_plot.show()  \n",
    "end\n",
    "\n",
    "test_34()"
   ]
  },
  {
   "cell_type": "markdown",
   "metadata": {},
   "source": [
    "## Question 4.1 (10 Points)\n",
    "\n",
    "Moving on to classification, implement L2 regularization for Logisitic Regression. This should follow closely what you did in Question 2.X above. \n",
    "\n",
    "Use the Log Loss formulation, $\\log(1 + \\exp(-y\\cdot \\hat{y}))$ when calculating the objective value."
   ]
  },
  {
   "cell_type": "code",
   "execution_count": 24,
   "metadata": {
    "deletable": false,
    "nbgrader": {
     "checksum": "01b379b0d26f2e1b8116404f8cd38a1d",
     "grade": false,
     "grade_id": "cell-07e2446bcbbb508d",
     "locked": false,
     "schema_version": 1,
     "solution": true
    }
   },
   "outputs": [
    {
     "data": {
      "text/plain": [
       ":func"
      ]
     },
     "execution_count": 24,
     "metadata": {},
     "output_type": "execute_result"
    }
   ],
   "source": [
    "class LogisticRegressionModelL2\n",
    "  def initialize reg_param\n",
    "    @reg_param = reg_param\n",
    "  end\n",
    "\n",
    "  def predict row, w\n",
    "    x = row[\"features\"]    \n",
    "    1.0 / (1 + Math.exp(-dot(w, x)))\n",
    "  end\n",
    "  \n",
    "  def adjust w\n",
    "    w.each_key {|k| w[k] = 0.0 if w[k].nan? or w[k].infinite?}\n",
    "    w.each_key {|k| w[k] = 0.0 if w[k].abs > 1e5 }\n",
    "  end\n",
    "  \n",
    "  def func data, w\n",
    "    # BEGIN YOUR CODE\n",
    "#     raise NotImplementedError.new()\n",
    "    update_value = 0.0\n",
    "    data.each do |record|\n",
    "      if record[\"label\"] == -1\n",
    "        record[\"label\"] = 0\n",
    "      end\n",
    "      predict_value = predict(record, w)\n",
    "      update_value -= record[\"label\"] * Math.log(predict_value) + (1 - record[\"label\"]) * Math.log(1 - predict_value) \n",
    "    end\n",
    "    res = (@reg_param / 2) * norm(w) ** 2 + update_value / data.length\n",
    "    #END YOUR CODE\n",
    "  end\n",
    "end"
   ]
  },
  {
   "cell_type": "code",
   "execution_count": 25,
   "metadata": {
    "deletable": false,
    "editable": false,
    "nbgrader": {
     "checksum": "bcbf9888c35631621f59f3637f840e7d",
     "grade": true,
     "grade_id": "cell-0a9f2ab984b41ba5",
     "locked": true,
     "points": 10,
     "schema_version": 1,
     "solution": false
    }
   },
   "outputs": [],
   "source": [
    "### TEST ###\n",
    "def test_41()\n",
    "  m = LogisticRegressionModelL2.new 0.0\n",
    "  w = {\"x1\" => 1.0, \"x2\" => -3.0}\n",
    "  x = [\n",
    "      {\"features\" => {\"x1\" => 0.7, \"x2\" => -0.3}, \"label\" => 1.0},\n",
    "      {\"features\" => {\"x1\" => -2.7, \"x2\" => -1.3}, \"label\" => -1.0}  \n",
    "  ]\n",
    "  \n",
    "  e1 = 0.1839007409\n",
    "  assert_in_delta e1, m.func(x[0,1], w), 1e-2, \"1\"\n",
    "  \n",
    "  e2 = 1.4632824673\n",
    "  assert_in_delta e2, m.func(x[1,1], w), 1e-2, \"2\"    \n",
    "  assert_in_delta (e1 + e2) / 2.0, m.func(x, w), 1e-2, \"3\"  \n",
    "\n",
    "  assert_in_delta 3.1622776602, norm(w), 1e-2, \"4\"\n",
    "  m2 = LogisticRegressionModelL2.new 1.7\n",
    "  assert_in_delta 9.3235916041, m2.func(x, w), 1e-2, \"5\"\n",
    "end\n",
    "\n",
    "test_41()"
   ]
  },
  {
   "cell_type": "markdown",
   "metadata": {},
   "source": [
    "## Question 4.2 (10 Points)\n",
    "\n",
    "Implement the gradient for L2 regularized Logisitic Regression. As in Assignment 5, use the 0 / 1 version of the loss to simplify the derivation."
   ]
  },
  {
   "cell_type": "code",
   "execution_count": 26,
   "metadata": {
    "deletable": false,
    "nbgrader": {
     "checksum": "e810ebcba9bd6d75f820c4a8c33ef7b4",
     "grade": false,
     "grade_id": "cell-66a9fef971a48fd7",
     "locked": false,
     "schema_version": 1,
     "solution": true
    }
   },
   "outputs": [
    {
     "data": {
      "text/plain": [
       ":grad"
      ]
     },
     "execution_count": 26,
     "metadata": {},
     "output_type": "execute_result"
    }
   ],
   "source": [
    "class LogisticRegressionModelL2\n",
    "  def grad data, w\n",
    "    # BEGIN YOUR CODE\n",
    "    \n",
    "    g = Hash.new\n",
    "    count = Hash.new\n",
    "    \n",
    "    data.each do |record|\n",
    "      record[\"features\"].each do |key, value|\n",
    "        if !g.key?(key)\n",
    "          g[key] = 0.0\n",
    "        end\n",
    "        if !count.key?(key)\n",
    "          count[key] = 0\n",
    "        end\n",
    "        if record[\"label\"] == -1\n",
    "          record[\"label\"] = 0\n",
    "        end\n",
    "        predict_value = predict(record, w)\n",
    "        update_value = value * (predict_value - record[\"label\"])\n",
    "        g[key] += update_value\n",
    "        count[key] += 1\n",
    "      end\n",
    "    end\n",
    "    \n",
    "    g.each do |key, value|\n",
    "      g[key] = @reg_param * w[key] + value / count[key]\n",
    "    end\n",
    "    #END YOUR CODE  \n",
    "    return g\n",
    "  end\n",
    "end"
   ]
  },
  {
   "cell_type": "code",
   "execution_count": 27,
   "metadata": {
    "deletable": false,
    "editable": false,
    "nbgrader": {
     "checksum": "a51733c8f16f893b74a8f0fbfc860668",
     "grade": true,
     "grade_id": "cell-e964eeb5016b4f19",
     "locked": true,
     "points": 0,
     "schema_version": 1,
     "solution": false
    }
   },
   "outputs": [],
   "source": [
    "### TEST ###\n",
    "def test_42()\n",
    "  m = LogisticRegressionModelL2.new 0.0\n",
    "  w = {\"x1\" => 1.0, \"x2\" => -3.0}\n",
    "  x = [\n",
    "      {\"features\" => {\"x1\" => 0.7, \"x2\" => -0.3}, \"label\" => 1.0},\n",
    "      {\"features\" => {\"x1\" => -2.7, \"x2\" => -1.3}, \"label\" => -1.0}  \n",
    "  ]\n",
    "  \n",
    "  g1_1 = -0.1175871304\n",
    "  assert_in_delta g1_1, m.grad(x[0,1], w)[\"x1\"], 1e-2, \"1\"\n",
    "  \n",
    "  g2_1 =  -2.0750169154\n",
    "  assert_in_delta g2_1, m.grad(x[1,1], w)[\"x1\"], 1e-2, \"2\"    \n",
    "  assert_in_delta (g1_1 + g2_1) / 2.0, m.grad(x, w)[\"x1\"], 1e-2, \"3\"  \n",
    "\n",
    "  m2 = LogisticRegressionModelL2.new 1.7\n",
    "  assert_in_delta 1.0 * 1.7 + (g1_1 + g2_1) / 2.0, m2.grad(x, w)[\"x1\"], 1e-2, \"5\"\n",
    "end\n",
    "\n",
    "test_42()"
   ]
  },
  {
   "cell_type": "markdown",
   "metadata": {},
   "source": [
    "## Question 4.3 (2 points)\n",
    "\n",
    "Implement a function that will score your logistic regression model and return an array of pairs of (score, class label)."
   ]
  },
  {
   "cell_type": "code",
   "execution_count": 28,
   "metadata": {
    "deletable": false,
    "nbgrader": {
     "checksum": "6cdc98a4f86b9aadc9d426a892e1836e",
     "grade": false,
     "grade_id": "cell-75eafcbbd387d5df",
     "locked": false,
     "schema_version": 1,
     "solution": true
    }
   },
   "outputs": [
    {
     "data": {
      "text/plain": [
       ":score_binary_classification_model"
      ]
     },
     "execution_count": 28,
     "metadata": {},
     "output_type": "execute_result"
    }
   ],
   "source": [
    "def score_binary_classification_model(data, weights, model)\n",
    "  # BEGIN YOUR CODE\n",
    "  \n",
    "  scores = Array.new\n",
    "    \n",
    "  data.each do |record|\n",
    "    score = model.predict(record, weights)\n",
    "    label = record[\"label\"]\n",
    "    scores << [score, label]\n",
    "  end\n",
    "  \n",
    "  #END YOUR CODE\n",
    "  return scores\n",
    "end"
   ]
  },
  {
   "cell_type": "code",
   "execution_count": 29,
   "metadata": {
    "deletable": false,
    "editable": false,
    "nbgrader": {
     "checksum": "fe77a6289e41974c4ed628ab15448b57",
     "grade": true,
     "grade_id": "cell-f2ea4529b7661a32",
     "locked": true,
     "points": 2,
     "schema_version": 1,
     "solution": false
    }
   },
   "outputs": [],
   "source": [
    "### TEST ###\n",
    "def test_43()\n",
    "  m = LogisticRegressionModelL2.new 888.0\n",
    "  w = {\"x1\" => 1.0, \"x2\" => -3.0}\n",
    "  x = [\n",
    "      {\"features\" => {\"x1\" => 0.7, \"x2\" => -0.3}, \"label\" => 1.0},\n",
    "      {\"features\" => {\"x1\" => -2.7, \"x2\" => -1.3}, \"label\" => 0.0}  \n",
    "  ]\n",
    "  \n",
    "  e1 = 0.8320183851\n",
    "  e2 = 0.7685247835\n",
    "  \n",
    "  scores = score_binary_classification_model(x, w, m)\n",
    "  assert_in_delta e1, scores[0][0], 1e-2, \"1\"\n",
    "  assert_in_delta e2, scores[1][0], 1e-2, \"2\"  \n",
    "  assert_in_delta 1.0, scores[0][1], 1e-2, \"3\"\n",
    "  assert_in_delta 0.0, scores[1][1], 1e-2, \"4\"  \n",
    "end\n",
    "\n",
    "test_43()"
   ]
  },
  {
   "cell_type": "markdown",
   "metadata": {},
   "source": [
    "## Question 5.1 (10 Points)\n",
    "\n",
    "Given an array of pairs of score and class label (0,1), calculate the AUC metric. It is not necessary to draw the curve, but you are welcome to do that. Assume scores are not sorted.\n",
    "\n",
    "Recall the definition of AUC as either the area under the ROC curve or the probability of mis-ranking a positive example. Choose one of these methods for the implementation. "
   ]
  },
  {
   "cell_type": "code",
   "execution_count": 30,
   "metadata": {
    "deletable": false,
    "nbgrader": {
     "checksum": "f484b5c54fa762cff8e57ab60e49c64d",
     "grade": false,
     "grade_id": "cell-1768e36e21c260fb",
     "locked": false,
     "schema_version": 1,
     "solution": true
    }
   },
   "outputs": [
    {
     "data": {
      "text/plain": [
       ":calc_auc_only"
      ]
     },
     "execution_count": 30,
     "metadata": {},
     "output_type": "execute_result"
    }
   ],
   "source": [
    "def calc_auc_only(scores)\n",
    "  # BEGIN YOUR CODE\n",
    "  res = Array.new\n",
    "  \n",
    "  min = (scores.min{|a,b| a[0] <=> b[0]})[0]\n",
    "  max = (scores.max{|a,b| a[0] <=> b[0]})[0]\n",
    "  num = 50\n",
    "  step = (max - min) / num\n",
    "  \n",
    "  (min..max).step(step).to_a.each do |threshold|\n",
    "    false_neg = 0.0 \n",
    "    true_pos = 0.0\n",
    "    true_neg = 0.0\n",
    "    false_pos = 0.0\n",
    "    scores.each do |record|\n",
    "      if(record[1] == 0 or record[1] == -1) and record[0] >= threshold\n",
    "        true_neg += 1.0\n",
    "      end\n",
    "      if(record[1] == 0 or record[1] == -1) and record[0] < threshold\n",
    "        false_pos += 1.0\n",
    "      end\n",
    "      if(record[1] == 1 and record[0] >= threshold)\n",
    "        true_pos += 1.0\n",
    "      end\n",
    "      if(record[1] == 1 and record[0] < threshold)\n",
    "        false_neg += 1.0\n",
    "      end\n",
    "    end\n",
    "    res << [(false_pos / (false_pos + true_neg)), (true_pos / (true_pos + false_neg))]    \n",
    "  end\n",
    "  auc = 0.0\n",
    "  sorted = res.sort{|a,b| a[0] <=> b[0]}\n",
    "  (1..res.length - 1).each do |index|\n",
    "    width = res[index][0] - res[index - 1][0]\n",
    "    height = res[index - 1][1]\n",
    "    auc += width * height\n",
    "  end\n",
    "\n",
    "  #END YOUR CODE\n",
    "  return auc\n",
    "end\n"
   ]
  },
  {
   "cell_type": "code",
   "execution_count": 31,
   "metadata": {
    "deletable": false,
    "editable": false,
    "nbgrader": {
     "checksum": "54872efa78ff7e94e643624cdec1f61d",
     "grade": true,
     "grade_id": "cell-75993046270a7c4b",
     "locked": true,
     "points": 10,
     "schema_version": 1,
     "solution": false
    }
   },
   "outputs": [],
   "source": [
    "def test_51()\n",
    "  good_model = [[0.9, 1], [0.89, 1], [0.7, 0], [0.8, 1], [0.8, 0], [0.7, 1], [0.6, 0], [0.5, 0], [0.1, 0]]\n",
    "  assert_true(calc_auc_only(good_model) > 0.8)\n",
    "  assert_true(calc_auc_only(good_model) < 1)\n",
    "  \n",
    "  srand(777)\n",
    "  ok_model = Array.new(100) {|i| [100 - i, (rand < (100 - i) / 100.0) ? 1 : 0] }\n",
    "  ok_auc = calc_auc_only(ok_model)\n",
    "  assert_in_delta(0.8631239935587761, ok_auc, 1e-3)\n",
    "  \n",
    "  bad_model = Array.new(1000) {|i| [1000 - i, rand < 0.5 ? 1 : 0] }\n",
    "  bad_auc = calc_auc_only(bad_model)\n",
    "  assert_in_delta(0.5, bad_auc, 5e-2)\n",
    "\n",
    "end\n",
    "\n",
    "test_51()"
   ]
  },
  {
   "cell_type": "markdown",
   "metadata": {},
   "source": [
    "## Question 5.2 (10 Points)\n",
    "\n",
    "The following dataset has _irrelevant features_. Find them and use regularization to control them. \n",
    "\n",
    "Implement a training method that trains a logistic regression model and returns training and testing AUC values. This follows closely question 3.2 above. Next, fill in the driver code that trains the model for each regularization value and populates an array of training AUC, testing AUC, and weight vector norm values.\n",
    "\n",
    "Hint: The weights for regularization parameter are displayed."
   ]
  },
  {
   "cell_type": "code",
   "execution_count": 32,
   "metadata": {
    "deletable": false,
    "nbgrader": {
     "checksum": "81f003c01f00e981ca2ee596a0274bdc",
     "grade": false,
     "grade_id": "cell-e345def53c509c4b",
     "locked": false,
     "schema_version": 1,
     "solution": true
    }
   },
   "outputs": [
    {
     "data": {
      "text/plain": [
       ":train_logistic_regression"
      ]
     },
     "execution_count": 32,
     "metadata": {},
     "output_type": "execute_result"
    }
   ],
   "source": [
    "def train_logistic_regression(sgd, obj, w, train_set, test_set, num_epoch = 100, batch_size = 20)\n",
    "  # BEGIN YOUR CODE\n",
    "  num_iter = train_set[\"data\"].length / batch_size\n",
    "  total_iter = num_iter * num_epoch\n",
    "  \n",
    "  total_iter.times do |i|\n",
    "    data = train_set[\"data\"].sample(batch_size)\n",
    "    sgd.update(data)\n",
    "  end\n",
    "  \n",
    "  train_score = score_binary_classification_model(train_set[\"data\"], sgd.weights, obj)\n",
    "  test_score = score_binary_classification_model(test_set[\"data\"], sgd.weights, obj)\n",
    "  \n",
    "  train_auc = calc_auc_only(train_score)\n",
    "  test_auc = calc_auc_only(test_score)\n",
    "  #END YOUR CODE\n",
    "  return [train_auc, test_auc]\n",
    "end\n"
   ]
  },
  {
   "cell_type": "code",
   "execution_count": 43,
   "metadata": {
    "deletable": false,
    "nbgrader": {
     "checksum": "8f5c7cbf909195e93636f4e0c120c101",
     "grade": false,
     "grade_id": "cell-6776506c206e8278",
     "locked": false,
     "schema_version": 1,
     "solution": true
    }
   },
   "outputs": [
    {
     "data": {
      "text/plain": [
       ":test_logistic_regularizers"
      ]
     },
     "execution_count": 43,
     "metadata": {},
     "output_type": "execute_result"
    }
   ],
   "source": [
    "def test_logistic_regularizers(corner)\n",
    "  stats = Hash.new {|h,k| h[k] = Array.new}\n",
    "  [0.0, 0.01, 0.05, 0.1, 0.15, 0.2, 0.5, 1.0, 10.0].each do |reg|\n",
    "    tr_aucs = []\n",
    "    te_aucs = []\n",
    "    w_norms = []\n",
    "\n",
    "    cross_validate corner, 2 do |tr, te, fold|\n",
    "      w = Hash.new {|h,k| h[k] = 0.0}\n",
    "      lr = 1e-2\n",
    "      m = LogisticRegressionModelL2.new reg\n",
    "      sgd = StochasticGradientDescent.new m, w, lr\n",
    "      # BEGIN YOUR CODE\n",
    "      res = train_logistic_regression(sgd, m, w, tr, te, 30, batch_size = 20)\n",
    "      tr_aucs << res[0]\n",
    "      te_aucs << res[1]\n",
    "      w_norms << norm(sgd.weights)\n",
    "      w = sgd.weights\n",
    "      #END YOUR CODE\n",
    "      puts w if fold == 0\n",
    "    end\n",
    "    puts [reg, mean(w_norms), mean(tr_aucs), mean(te_aucs), stdev(te_aucs)].join(\"\\t\")\n",
    "    stats[:reg] << reg\n",
    "    stats[:tr_aucs] << mean(tr_aucs)\n",
    "    stats[:w_norms] << mean(w_norms)\n",
    "    stats[:te_aucs] << mean(te_aucs)    \n",
    "  end\n",
    "  \n",
    "  return stats\n",
    "end"
   ]
  },
  {
   "cell_type": "code",
   "execution_count": 44,
   "metadata": {
    "deletable": false,
    "editable": false,
    "nbgrader": {
     "checksum": "a973dc2334292d207bdfd0ef84ef5378",
     "grade": true,
     "grade_id": "cell-3466fb23ace898e9",
     "locked": true,
     "points": 5,
     "schema_version": 1,
     "solution": false
    }
   },
   "outputs": [
    {
     "name": "stdout",
     "output_type": "stream",
     "text": [
      "{\"x1\"=>0.006668614241375083, \"x2\"=>-0.01527417788870782, \"x3\"=>-0.02463687745903464, \"x4\"=>-0.009122212336865415, \"x5\"=>0.0014261509170007034, \"x6\"=>-0.00946291246872394, \"1\"=>0.0}\n",
      "0.0\t0.028645676154739286\t0.9643851820947096\t0.9527316386766381\t0.015579358237889925\n",
      "{\"x1\"=>0.00903537173447664, \"x2\"=>-0.026198290867591664, \"x3\"=>-0.016517410488557868, \"x4\"=>-0.008969163507992877, \"x5\"=>0.007931864505250505, \"x6\"=>-0.0012269517286207941, \"1\"=>0.0}\n",
      "0.01\t0.03292452747166931\t0.9115628156764487\t0.94915881047865\t0.036376944821047606\n",
      "{\"x1\"=>0.016711644171778724, \"x2\"=>-0.0049917288634013035, \"x3\"=>-0.016289191960523745, \"x4\"=>0.01144666850493519, \"x5\"=>-0.005907964847962639, \"x6\"=>0.003662339994143011, \"1\"=>0.0}\n",
      "0.05\t0.027700974010504677\t0.9386305736439899\t0.9637561893895275\t0.002354513689117949\n",
      "{\"x1\"=>0.006898754369550028, \"x2\"=>-0.028983405954304296, \"x3\"=>-0.022716105796524524, \"x4\"=>-0.013064184469441605, \"x5\"=>0.006242389028959988, \"x6\"=>-0.002820437709138653, \"1\"=>0.0}\n",
      "0.1\t0.03345811308925547\t0.9535743680188125\t0.9021642731166539\t0.05119887799883868\n",
      "{\"x1\"=>-0.0002042733529139594, \"x2\"=>-0.01773659534196306, \"x3\"=>-0.014160007249276073, \"x4\"=>-0.0017222467100797849, \"x5\"=>-0.011176154336563835, \"x6\"=>-0.008438820909468164, \"1\"=>0.0}\n",
      "0.15\t0.03199446962335577\t0.9213325988624865\t0.8961105786794552\t0.008103319428609826\n",
      "{\"x1\"=>0.002012753840000449, \"x2\"=>-0.0009456445647442568, \"x3\"=>-0.0330711845006806, \"x4\"=>0.011488992798657253, \"x5\"=>-0.01091717825249133, \"x6\"=>0.0020004992125165462, \"1\"=>0.0}\n",
      "0.2\t0.034398090149566365\t0.9231552868060804\t0.8850751658688167\t0.031998259497685026\n",
      "{\"x1\"=>0.003349964676112592, \"x2\"=>-0.013962443398794289, \"x3\"=>-0.01632457661447958, \"x4\"=>0.009936232965470075, \"x5\"=>-0.0030727336153224378, \"x6\"=>0.0011015672852703851, \"1\"=>0.0}\n",
      "0.5\t0.02328376021738819\t0.9702868852459015\t0.9608948087431695\t0.021493341368033634\n",
      "{\"x1\"=>0.00994680670607695, \"x2\"=>-0.015447604701793934, \"x3\"=>-0.02090628195180293, \"x4\"=>0.011311873748644093, \"x5\"=>-0.009352141748415728, \"x6\"=>-9.583133961712535e-06, \"1\"=>0.0}\n",
      "1.0\t0.02505475376633256\t0.9553112869334638\t0.8539934679313119\t0.1392472859125778\n",
      "{\"x1\"=>0.0006778058814396028, \"x2\"=>-0.001699294717616319, \"x3\"=>-0.00164196239697847, \"x4\"=>0.0017807696615782158, \"x5\"=>0.001456250334479471, \"x6\"=>0.0020829090374192643, \"1\"=>0.0}\n",
      "10.0\t0.005417096594480025\t0.8816768086544965\t0.9008478953800412\t0.12587931435331792\n"
     ]
    },
    {
     "data": {
      "text/html": [
       "<b> Daru::DataFrame(9x4) </b>\n",
       "<table>\n",
       "  <thead>\n",
       "  \n",
       "    <tr>\n",
       "      <th></th>\n",
       "      \n",
       "        <th>reg</th>\n",
       "      \n",
       "        <th>tr_aucs</th>\n",
       "      \n",
       "        <th>w_norms</th>\n",
       "      \n",
       "        <th>te_aucs</th>\n",
       "      \n",
       "    </tr>\n",
       "  \n",
       "</thead>\n",
       "  <tbody>\n",
       "  \n",
       "    <tr>\n",
       "      <td>0</td>\n",
       "      \n",
       "        <td>0.0</td>\n",
       "      \n",
       "        <td>0.9643851820947096</td>\n",
       "      \n",
       "        <td>0.028645676154739286</td>\n",
       "      \n",
       "        <td>0.9527316386766381</td>\n",
       "      \n",
       "    </tr>\n",
       "  \n",
       "    <tr>\n",
       "      <td>1</td>\n",
       "      \n",
       "        <td>0.01</td>\n",
       "      \n",
       "        <td>0.9115628156764487</td>\n",
       "      \n",
       "        <td>0.03292452747166931</td>\n",
       "      \n",
       "        <td>0.94915881047865</td>\n",
       "      \n",
       "    </tr>\n",
       "  \n",
       "    <tr>\n",
       "      <td>2</td>\n",
       "      \n",
       "        <td>0.05</td>\n",
       "      \n",
       "        <td>0.9386305736439899</td>\n",
       "      \n",
       "        <td>0.027700974010504677</td>\n",
       "      \n",
       "        <td>0.9637561893895275</td>\n",
       "      \n",
       "    </tr>\n",
       "  \n",
       "    <tr>\n",
       "      <td>3</td>\n",
       "      \n",
       "        <td>0.1</td>\n",
       "      \n",
       "        <td>0.9535743680188125</td>\n",
       "      \n",
       "        <td>0.03345811308925547</td>\n",
       "      \n",
       "        <td>0.9021642731166539</td>\n",
       "      \n",
       "    </tr>\n",
       "  \n",
       "    <tr>\n",
       "      <td>4</td>\n",
       "      \n",
       "        <td>0.15</td>\n",
       "      \n",
       "        <td>0.9213325988624865</td>\n",
       "      \n",
       "        <td>0.03199446962335577</td>\n",
       "      \n",
       "        <td>0.8961105786794552</td>\n",
       "      \n",
       "    </tr>\n",
       "  \n",
       "    <tr>\n",
       "      <td>5</td>\n",
       "      \n",
       "        <td>0.2</td>\n",
       "      \n",
       "        <td>0.9231552868060804</td>\n",
       "      \n",
       "        <td>0.034398090149566365</td>\n",
       "      \n",
       "        <td>0.8850751658688167</td>\n",
       "      \n",
       "    </tr>\n",
       "  \n",
       "    <tr>\n",
       "      <td>6</td>\n",
       "      \n",
       "        <td>0.5</td>\n",
       "      \n",
       "        <td>0.9702868852459015</td>\n",
       "      \n",
       "        <td>0.02328376021738819</td>\n",
       "      \n",
       "        <td>0.9608948087431695</td>\n",
       "      \n",
       "    </tr>\n",
       "  \n",
       "    <tr>\n",
       "      <td>7</td>\n",
       "      \n",
       "        <td>1.0</td>\n",
       "      \n",
       "        <td>0.9553112869334638</td>\n",
       "      \n",
       "        <td>0.02505475376633256</td>\n",
       "      \n",
       "        <td>0.8539934679313119</td>\n",
       "      \n",
       "    </tr>\n",
       "  \n",
       "    <tr>\n",
       "      <td>8</td>\n",
       "      \n",
       "        <td>10.0</td>\n",
       "      \n",
       "        <td>0.8816768086544965</td>\n",
       "      \n",
       "        <td>0.005417096594480025</td>\n",
       "      \n",
       "        <td>0.9008478953800412</td>\n",
       "      \n",
       "    </tr>\n",
       "  \n",
       "\n",
       "  \n",
       "</tbody>\n",
       "</table>"
      ],
      "text/plain": [
       "#<Daru::DataFrame(9x4)>\n",
       "                   reg    tr_aucs    w_norms    te_aucs\n",
       "          0        0.0 0.96438518 0.02864567 0.95273163\n",
       "          1       0.01 0.91156281 0.03292452 0.94915881\n",
       "          2       0.05 0.93863057 0.02770097 0.96375618\n",
       "          3        0.1 0.95357436 0.03345811 0.90216427\n",
       "          4       0.15 0.92133259 0.03199446 0.89611057\n",
       "          5        0.2 0.92315528 0.03439809 0.88507516\n",
       "          6        0.5 0.97028688 0.02328376 0.96089480\n",
       "          7        1.0 0.95531128 0.02505475 0.85399346\n",
       "          8       10.0 0.88167680 0.00541709 0.90084789"
      ]
     },
     "execution_count": 44,
     "metadata": {},
     "output_type": "execute_result"
    }
   ],
   "source": [
    "def test_52()\n",
    "  corner = z_normalize(read_sparse_data_from_csv(\"corner\"))\n",
    "  corner[\"data\"].first\n",
    "  \n",
    "  stats = test_logistic_regularizers(corner)\n",
    "  assert_true(stats[:tr_aucs].all? {|a| a > 0.7 and a < 1.0}, \"1\")\n",
    "  assert_true(stats[:te_aucs].all? {|a| a > 0.7 and a < 1.0}, \"2\")\n",
    "  assert_true(stats[:w_norms][0] > stats[:w_norms][6], \"3\")\n",
    "  assert_true(stats[:w_norms][6] > stats[:w_norms].last, \"4\")  \n",
    "  Daru::DataFrame.new stats\n",
    "end\n",
    "\n",
    "test_52()"
   ]
  },
  {
   "cell_type": "markdown",
   "metadata": {},
   "source": [
    "## Question 5.3 (5 Points)\n",
    "\n",
    "Make the function below return an array of feature names you think are irrelevant."
   ]
  },
  {
   "cell_type": "code",
   "execution_count": 39,
   "metadata": {
    "deletable": false,
    "nbgrader": {
     "checksum": "b6f35fb66ab0d03261c09b9e8f4e5be0",
     "grade": false,
     "grade_id": "cell-1db59fbc2e27be51",
     "locked": false,
     "schema_version": 1,
     "solution": true
    }
   },
   "outputs": [
    {
     "data": {
      "text/plain": [
       ":guess_irrelevant_features"
      ]
     },
     "execution_count": 39,
     "metadata": {},
     "output_type": "execute_result"
    }
   ],
   "source": [
    "def guess_irrelevant_features()\n",
    "  # BEGIN YOUR CODE\n",
    "  answer = [\"1\", \"x4\", \"x6\"]\n",
    "  #END YOUR CODE\n",
    "  return answer\n",
    "end"
   ]
  },
  {
   "cell_type": "code",
   "execution_count": 40,
   "metadata": {
    "deletable": false,
    "editable": false,
    "nbgrader": {
     "checksum": "b1c5d71ff4eb824db310dd32f352f881",
     "grade": true,
     "grade_id": "cell-f6112841216e9542",
     "locked": true,
     "points": 5,
     "schema_version": 1,
     "solution": false
    }
   },
   "outputs": [],
   "source": [
    "corner = read_sparse_data_from_csv(\"corner\")\n",
    "\n",
    "t53_answer = guess_irrelevant_features()\n",
    "assert_true(t53_answer.is_a?(Array))\n",
    "assert_false(t53_answer.empty?)\n",
    "assert_false((corner[\"features\"] & t53_answer).empty?)\n"
   ]
  },
  {
   "cell_type": "code",
   "execution_count": null,
   "metadata": {},
   "outputs": [],
   "source": []
  },
  {
   "cell_type": "code",
   "execution_count": null,
   "metadata": {},
   "outputs": [],
   "source": []
  },
  {
   "cell_type": "code",
   "execution_count": null,
   "metadata": {},
   "outputs": [],
   "source": []
  },
  {
   "cell_type": "code",
   "execution_count": null,
   "metadata": {},
   "outputs": [],
   "source": []
  },
  {
   "cell_type": "code",
   "execution_count": null,
   "metadata": {},
   "outputs": [],
   "source": []
  },
  {
   "cell_type": "code",
   "execution_count": null,
   "metadata": {},
   "outputs": [],
   "source": []
  },
  {
   "cell_type": "code",
   "execution_count": null,
   "metadata": {},
   "outputs": [],
   "source": []
  },
  {
   "cell_type": "code",
   "execution_count": null,
   "metadata": {},
   "outputs": [],
   "source": []
  },
  {
   "cell_type": "code",
   "execution_count": null,
   "metadata": {},
   "outputs": [],
   "source": []
  },
  {
   "cell_type": "code",
   "execution_count": null,
   "metadata": {},
   "outputs": [],
   "source": []
  }
 ],
 "metadata": {
  "kernelspec": {
   "display_name": "Ruby 2.5.1",
   "language": "ruby",
   "name": "ruby"
  },
  "language_info": {
   "file_extension": ".rb",
   "mimetype": "application/x-ruby",
   "name": "ruby",
   "version": "2.5.1"
  }
 },
 "nbformat": 4,
 "nbformat_minor": 2
}
