{
 "cells": [
  {
   "cell_type": "markdown",
   "metadata": {},
   "source": [
    "# CS6140 Assignments\n",
    "\n",
    "**Instructions**\n",
    "1. In each assignment cell, look for the block:\n",
    " ```\n",
    "  #BEGIN YOUR CODE\n",
    "  raise NotImplementedError.new()\n",
    "  #END YOUR CODE\n",
    " ```\n",
    "1. Replace this block with your solution.\n",
    "1. Test your solution by running the cells following your block (indicated by ##TEST##)\n",
    "1. Click the \"Validate\" button above to validate the work.\n",
    "\n",
    "**Notes**\n",
    "* You may add other cells and functions as needed\n",
    "* Keep all code in the same notebook\n",
    "* In order to receive credit, code must \"Validate\" on the JupyterHub server\n",
    "\n",
    "---"
   ]
  },
  {
   "cell_type": "code",
   "execution_count": null,
   "metadata": {},
   "outputs": [],
   "source": []
  },
  {
   "cell_type": "markdown",
   "metadata": {
    "deletable": false,
    "editable": false,
    "nbgrader": {
     "checksum": "9d09897b4a8b4e15f9e660234bd03c2c",
     "grade": false,
     "grade_id": "cell-2db1ec9fd61f5d6b",
     "locked": true,
     "schema_version": 1,
     "solution": false
    }
   },
   "source": [
    "# Assignment 4: Linear Models (2)\n",
    "\n",
    "\n",
    "In this exercise, we will transform our gradient descent algorithm into stochastic gradent descent. We will then implement linear regression and logistic regression. Finally, we will run these models on a real-world dataset."
   ]
  },
  {
   "cell_type": "code",
   "execution_count": null,
   "metadata": {
    "deletable": false,
    "editable": false,
    "nbgrader": {
     "checksum": "9ca0d151ba43bb4deb857d7f8c49f505",
     "grade": false,
     "grade_id": "cell-af1d85683fc29192",
     "locked": true,
     "schema_version": 1,
     "solution": false
    }
   },
   "outputs": [],
   "source": [
    "require './assignment_lib'"
   ]
  },
  {
   "cell_type": "markdown",
   "metadata": {},
   "source": [
    "## Question 1.1 (10 points)\n",
    "\n",
    "Transform your batch gradient descent into a stochastic gradient descent algorithm. Using a class here allows the SGD algorithm to maintain state, such as learning rate and weights. Test your algorithm on the coin dataset and Binomial model you coded in Assignment 3. Plot the likelihood measured for each batch of 100 examples on one pass of the dataset.\n",
    "\n",
    "We will implement mini-batch SGD. Therefore you will not have to alter your Binomial Model. \n",
    "\n",
    "Stochasic gradient descent requires a learning rate that decreases with each iteration. Use the following learning rate:\n",
    "\n",
    "## $\\eta = \\frac{\\eta_{0}}{\\sqrt{t}}$\n",
    "\n",
    "where $\\eta_{0}$ is the initial learning rate and $t$ is the number of mini-batch iterations."
   ]
  },
  {
   "cell_type": "code",
   "execution_count": null,
   "metadata": {
    "deletable": false,
    "nbgrader": {
     "checksum": "9660cfb6ed8d474caab10b4cd3ecccbb",
     "grade": false,
     "grade_id": "cell-8692d024ef034147",
     "locked": false,
     "schema_version": 1,
     "solution": true
    }
   },
   "outputs": [],
   "source": [
    "class StochasticGradientDescent\n",
    "  attr_reader :weights\n",
    "  attr_reader :objective\n",
    "  def initialize obj, w_0, lr = 0.01\n",
    "    @objective = obj\n",
    "    @weights = w_0\n",
    "    @n = 1.0\n",
    "    @lr = lr\n",
    "  end\n",
    "  def update x\n",
    "    # BEGIN YOUR CODE\n",
    "    curr_lr = @lr / Math.sqrt(@n)\n",
    "    @objective.func(x, @weights)\n",
    "    grad = @objective.grad(x, @weights)\n",
    "    @weights = update_weights(@weights, grad, curr_lr)\n",
    "    @n += 1\n",
    "    #END YOUR CODE\n",
    "  end\n",
    "  \n",
    "  def update_weights(w, dw, lr)\n",
    "    w_copy = w.clone()\n",
    "    dw_copy = dw.clone()\n",
    "  \n",
    "    dw_copy.each do |k, v|\n",
    "      dw_copy[k] *= lr\n",
    "    end\n",
    "  \n",
    "    w_copy.each do |k, v|\n",
    "      if dw_copy.key?(k)\n",
    "        w_copy[k] -= dw_copy[k]\n",
    "      end\n",
    "    end\n",
    "    w_copy\n",
    "  end\n",
    "  \n",
    "end"
   ]
  },
  {
   "cell_type": "code",
   "execution_count": null,
   "metadata": {
    "deletable": false,
    "editable": false,
    "nbgrader": {
     "checksum": "bd7cd791abbea9dfafe3ddfeaf2ea601",
     "grade": true,
     "grade_id": "cell-653e55c495e9df88",
     "locked": true,
     "points": 10,
     "schema_version": 1,
     "solution": false
    }
   },
   "outputs": [],
   "source": [
    "### TEST ###\n",
    "# Testing on a known objective\n",
    "class ParabolaObjective\n",
    "  def func x, w\n",
    "    0.5 * ((w[\"0\"] - 1) ** 2.0 + (w[\"1\"] - 2) ** 2.0)\n",
    "  end\n",
    "  def grad x, w\n",
    "    dw = {\"0\" => (w[\"0\"] - 1), \"1\" => (w[\"1\"] - 2)}\n",
    "  end\n",
    "  def adjust w\n",
    "  end\n",
    "end\n",
    "\n",
    "t1_w = {\"0\" => 0.0, \"1\" => 0.0}\n",
    "t1_obj = ParabolaObjective.new\n",
    "t1_sgd = StochasticGradientDescent.new t1_obj, t1_w, 0.25\n",
    "t1_lik = 1.0\n",
    "1000.times do \n",
    "  t1_sgd.update([])\n",
    "  t1_lik = t1_obj.func([], t1_sgd.weights)\n",
    "end\n",
    "\n",
    "assert_true(t1_lik < 0.1, \"SGD converges with simple objective\")\n",
    "assert_in_delta 1.0, t1_sgd.weights[\"0\"], 0.1, \"Weight 0 expected to be 1.0\"\n",
    "assert_in_delta 2.0, t1_sgd.weights[\"1\"], 0.1, \"Weight 1 expected to be 2.0\"\n",
    "\n",
    "t1_w"
   ]
  },
  {
   "cell_type": "markdown",
   "metadata": {},
   "source": [
    "## Begin Question 2.1 (10 points)\n",
    "\n",
    "Implement linear regression as an objective function for use with stochastic gradient descent. First, we will implement the predict function. For a weight vector, $w$ and a single ```Row``` with features, $x$, implement:\n",
    "\n",
    "### $f(w,x) = w^T x$\n",
    "\n",
    "Note that you already did this in [Assignment 4](../assignment-4/assignment-4.ipynb)."
   ]
  },
  {
   "cell_type": "code",
   "execution_count": null,
   "metadata": {
    "deletable": false,
    "nbgrader": {
     "checksum": "0d1bad1b96670e69c22ab3eb42d447cd",
     "grade": false,
     "grade_id": "cell-513d6dcc72afdb50",
     "locked": false,
     "schema_version": 1,
     "solution": true
    }
   },
   "outputs": [],
   "source": [
    "class LinearRegressionModel  \n",
    "  def predict row, w\n",
    "    res = 0.0\n",
    "    row[\"features\"].each do |key, value|\n",
    "      if(w.key? (key))\n",
    "        res += value * w[key]\n",
    "      end\n",
    "    end\n",
    "    res\n",
    "  end\n",
    "end"
   ]
  },
  {
   "cell_type": "code",
   "execution_count": null,
   "metadata": {
    "deletable": false,
    "editable": false,
    "nbgrader": {
     "checksum": "d00bc15f77435d218fb4a379e4de2411",
     "grade": true,
     "grade_id": "cell-b49b45d9c251f254",
     "locked": true,
     "points": 10,
     "schema_version": 1,
     "solution": false
    }
   },
   "outputs": [],
   "source": [
    "### TEST ###\n",
    "t2_lr = LinearRegressionModel.new\n",
    "\n",
    "assert_in_delta 6.0, t2_lr.predict({\"features\" => {\"a\" => 2.0}}, {\"a\" => 3.0}), 1e-6\n",
    "assert_in_delta 6.0, t2_lr.predict({\"features\" => {\"a\" => 2.0}}, {\"a\" => 3.0, \"b\" => 4.0}), 1e-6\n",
    "assert_equal 0.0, t2_lr.predict({\"features\" => {}}, {})\n",
    "assert_equal 0.0, t2_lr.predict({\"features\" => {\"a\" => 1.0}}, {\"a\" => 0.0, \"b\" => 1.0})"
   ]
  },
  {
   "cell_type": "markdown",
   "metadata": {},
   "source": [
    "\n",
    "\n",
    "\n",
    "## Begin Question 2.2 (10 points)\n",
    "\n",
    "Continuing the implementation, implement the $L_2$ loss, which applies to a mini-batch of $n$ points. Use the ```predict``` function you implemented earlier.\n",
    "\n",
    "### $L(w,X) = \\frac{1}{n} \\sum_{i} \\frac{1}{2} \\left(f(w,x_i) - y_i\\right) ^ 2$\n"
   ]
  },
  {
   "cell_type": "code",
   "execution_count": null,
   "metadata": {
    "deletable": false,
    "nbgrader": {
     "checksum": "a3084f061b575feda9fe737e5bbd4611",
     "grade": false,
     "grade_id": "cell-ef24b617c1a0ecd5",
     "locked": false,
     "schema_version": 1,
     "solution": true
    }
   },
   "outputs": [],
   "source": [
    "class LinearRegressionModel\n",
    "  def func data, w\n",
    "    # BEGIN YOUR CODE\n",
    "    res = 0.0\n",
    "    data.each do |record|\n",
    "      update_value = ((predict record, w) - record[\"label\"]) ** 2 / 2\n",
    "      res += update_value\n",
    "    end\n",
    "    res = res / data.length\n",
    "    res\n",
    "    #END YOUR CODE\n",
    "  end\n",
    "  \n",
    "  ## Adjusts the parameter to be within the allowable range\n",
    "  def adjust w\n",
    "  end\n",
    "end"
   ]
  },
  {
   "cell_type": "code",
   "execution_count": null,
   "metadata": {
    "deletable": false,
    "editable": false,
    "nbgrader": {
     "checksum": "4e0b66491efad74390ec2fb3575a7556",
     "grade": true,
     "grade_id": "cell-930a1ec55478e6d9",
     "locked": true,
     "points": 10,
     "schema_version": 1,
     "solution": false
    }
   },
   "outputs": [],
   "source": [
    "### TEST ###\n",
    "t22_data = coin_dataset(1000)\n",
    "\n",
    "t22_model = LinearRegressionModel.new\n",
    "t22_w = Hash.new\n",
    "t22_w[\"bias\"] = 0.1\n",
    "\n",
    "t22_f = t22_model.func t22_data[\"data\"], t22_w\n",
    "assert_in_delta 0.300, t22_f, 0.050, \"Expected loss within [250, 350]\"\n",
    "\n",
    "t22_w[\"bias\"] = 0.77\n",
    "t22_f = t22_model.func t22_data[\"data\"], t22_w\n",
    "assert_in_delta 0.090, t22_f, 0.050, \"Expected loss for a closer guess to be within [40, 140]\""
   ]
  },
  {
   "cell_type": "markdown",
   "metadata": {},
   "source": [
    "## Begin Question 2.3 (10 points)\n",
    "\n",
    "Continuing the implementation, now implement the gradient function. This returns a gradient value for the mini-batch of $n$ points.\n"
   ]
  },
  {
   "cell_type": "code",
   "execution_count": null,
   "metadata": {
    "deletable": false,
    "nbgrader": {
     "checksum": "9755d5d5e1bfe507dd8972b5636d7b42",
     "grade": false,
     "grade_id": "cell-d96f7fe6f72bf82c",
     "locked": false,
     "schema_version": 1,
     "solution": true
    }
   },
   "outputs": [],
   "source": [
    "class LinearRegressionModel\n",
    "  def grad data, w\n",
    "    # BEGIN YOUR CODE\n",
    "    grad_res = Hash.new\n",
    "    \n",
    "    data.each do |record|\n",
    "      record[\"features\"].each do |key, value|\n",
    "        if(!grad_res.key?(key))\n",
    "          grad_res[key] = 0.0\n",
    "        end\n",
    "        grad_res[key] += (value * (predict record, w) - record[\"label\"]) / data.length\n",
    "      end\n",
    "    end\n",
    "    grad_res\n",
    "    #END YOUR CODE\n",
    "  end\n",
    "end"
   ]
  },
  {
   "cell_type": "code",
   "execution_count": null,
   "metadata": {
    "deletable": false,
    "editable": false,
    "nbgrader": {
     "checksum": "4ced679c62665c25f724cd2b6401d44f",
     "grade": true,
     "grade_id": "cell-6581a7319efd449e",
     "locked": true,
     "points": 10,
     "schema_version": 1,
     "solution": false
    }
   },
   "outputs": [],
   "source": [
    "### TEST ###\n",
    "\n",
    "t23_data = coin_dataset(1000)\n",
    "t23_model = LinearRegressionModel.new\n",
    "t23_w = Hash.new\n",
    "t23_w[\"bias\"] = 0.1\n",
    "\n",
    "t23_g = t23_model.grad t23_data[\"data\"], t23_w\n",
    "assert_in_delta -0.69, t23_g[\"bias\"], 0.2, \"Expected loss within [-0.49, -0.89]\"\n",
    "\n",
    "t23_w[\"bias\"] = 0.77\n",
    "t23_g = t23_model.grad t23_data[\"data\"], t23_w\n",
    "assert_in_delta 0.0, t23_g[\"bias\"], 0.1, \"Expected loss for a better guess to be within [-0.1, 0.1]\""
   ]
  },
  {
   "cell_type": "markdown",
   "metadata": {},
   "source": [
    "## Question 2.4 (10 points)\n",
    "\n",
    "Putting the previous steps together, use your ```StochasticGradientDecent``` to run linear regression for 10 passes (epochs) over the Coin Dataset, each pass with a mini-batch of size 20. Tune the learning rate, ```lr```, so that the model converges well. Assume that ```obj``` is an instance of ```LinearRegressionModel```, and ```w``` is an initial weight vector.\n",
    "\n",
    "Track the number of batches in the ```iters``` array and the loss in the ```losses``` array."
   ]
  },
  {
   "cell_type": "code",
   "execution_count": null,
   "metadata": {
    "deletable": false,
    "nbgrader": {
     "checksum": "bc9391a560e2495790954502116709ca",
     "grade": false,
     "grade_id": "cell-c5159a9b8d15fac9",
     "locked": false,
     "schema_version": 1,
     "solution": true
    }
   },
   "outputs": [],
   "source": [
    "def train_coin_sgd(obj, w, dataset)\n",
    "  i = 0\n",
    "  iters = []\n",
    "  losses = []\n",
    "  \n",
    "  #Define sgd = StochasticGradientDescent.new obj, w, lr\n",
    "  # You set the learning rate, lr\n",
    "  # BEGIN YOUR CODE\n",
    "  sgd = StochasticGradientDescent.new obj, w, 0.6\n",
    "  \n",
    "  data = dataset[\"data\"]\n",
    "  batch_size = 20\n",
    "  total_iter = data.length/ batch_size\n",
    "  total_epoch = 10\n",
    "  \n",
    "  total_epoch.times do\n",
    "    total_iter.times do\n",
    "      batch_data = data.sample(batch_size)\n",
    "      sgd.update(batch_data)\n",
    "      curr_loss = obj.func(batch_data, sgd.weights)\n",
    "      iters << i\n",
    "      losses << curr_loss\n",
    "      i += 1\n",
    "    end\n",
    "  end\n",
    "  #END YOUR CODE\n",
    "  w[\"bias\"] = sgd.weights[\"bias\"]\n",
    "  return [sgd, iters, losses]\n",
    "end"
   ]
  },
  {
   "cell_type": "code",
   "execution_count": null,
   "metadata": {},
   "outputs": [],
   "source": []
  },
  {
   "cell_type": "code",
   "execution_count": null,
   "metadata": {
    "deletable": false,
    "editable": false,
    "nbgrader": {
     "checksum": "2897553eb061eeeebdbfeec1bf56c681",
     "grade": true,
     "grade_id": "cell-ad954908a6c9a9cb",
     "locked": true,
     "points": 10,
     "schema_version": 1,
     "solution": false
    }
   },
   "outputs": [],
   "source": [
    "### TEST ###\n",
    "t24_data = coin_dataset(1000)\n",
    "t24_model = LinearRegressionModel.new\n",
    "t24_w = Hash.new\n",
    "t24_w[\"bias\"] = 0.1\n",
    "\n",
    "t24_trainer, t24_iter, t24_losses = train_coin_sgd t24_model, t24_w, t24_data\n",
    "\n",
    "assert_true t24_w.has_key?(\"bias\")\n",
    "assert_in_delta 0.77, t24_w[\"bias\"], 0.1, \"Expected weight for 'bias'  [0.67, 0.87]\"\n",
    "t24_cum_loss = 0.0\n",
    "t24_losses.each_index {|i| t24_cum_loss += t24_losses[i]; t24_losses[i] = t24_cum_loss / (t24_iter[i] + 1)}\n",
    "Daru::DataFrame.new({x: t24_iter, y: t24_losses}).plot(type: :line, x: :x, y: :y) do |plot, diagram|\n",
    "  plot.x_label \"Batches\"\n",
    "  plot.y_label \"Cumulative Loss\"\n",
    "end"
   ]
  },
  {
   "cell_type": "markdown",
   "metadata": {
    "deletable": false,
    "editable": false,
    "nbgrader": {
     "checksum": "c2418aa0f48abdbe6ff014a29532ccb6",
     "grade": false,
     "grade_id": "cell-b41019cfe2cced3f",
     "locked": true,
     "schema_version": 1,
     "solution": false
    }
   },
   "source": [
    "## Question 3.1 (10 points)\n",
    "\n",
    "Implement Logistic Regression, following much the same process as with linear regression. The prediction function returns a value:\n",
    "\n",
    "### $f(x,w) = \\frac {1}{1 + \\exp \\left( -w^T x \\right) } $"
   ]
  },
  {
   "cell_type": "code",
   "execution_count": null,
   "metadata": {
    "deletable": false,
    "nbgrader": {
     "checksum": "778b87558628d1fdb62e6ddb4d0bd42d",
     "grade": false,
     "grade_id": "cell-33bf6c407e0d7157",
     "locked": false,
     "schema_version": 1,
     "solution": true
    }
   },
   "outputs": [],
   "source": [
    "class LogisticRegressionModel\n",
    "  def predict row, w\n",
    "    # BEGIN YOUR CODE\n",
    "    res = 0.0\n",
    "    row[\"features\"].each do |key, value|\n",
    "      if w[key] != nil\n",
    "        res += w[key] * value\n",
    "      end\n",
    "    end\n",
    "    \n",
    "    grad = 1 / (1 + Math.exp(-res))\n",
    "    #END YOUR CODE\n",
    "    grad\n",
    "  end\n",
    "  \n",
    "  def adjust w\n",
    "    w\n",
    "  end\n",
    "end"
   ]
  },
  {
   "cell_type": "code",
   "execution_count": null,
   "metadata": {
    "deletable": false,
    "editable": false,
    "nbgrader": {
     "checksum": "a4047451ff4933f13f0817b7009ea650",
     "grade": true,
     "grade_id": "cell-88560ef08ee29cdf",
     "locked": true,
     "points": 10,
     "schema_version": 1,
     "solution": false
    }
   },
   "outputs": [],
   "source": [
    "### TEST ###\n",
    "t31_model = LogisticRegressionModel.new\n",
    "def t31_f(a: 0.0, b: 0.0)\n",
    "  row = {\"features\" => {\"a\" => a, \"b\" => b}}\n",
    "end\n",
    "def t31_w(a: 0.0, b: 0.0)\n",
    "  w = {\"a\" => a, \"b\" => b}\n",
    "end\n",
    "assert_in_delta 0.5, t31_model.predict(t31_f(), t31_w()), 1e-6\n",
    "assert_in_delta 0.2689, t31_model.predict(t31_f(a:1), t31_w(a:-1)), 1e-3\n",
    "assert_in_delta 1.0, t31_model.predict(t31_f(a:1, b:1000), t31_w(a:-1, b: 0.1)), 1e-3"
   ]
  },
  {
   "cell_type": "markdown",
   "metadata": {},
   "source": [
    "## Question 3.2 (10 points)\n",
    "\n",
    "Implement log loss assuming that the y label is defined as: $y \\in \\left\\{-1, 1\\right\\}$. Remember that the mini-batch loss is an expectation of the $n$ examples in the mini batch."
   ]
  },
  {
   "cell_type": "code",
   "execution_count": 31,
   "metadata": {
    "deletable": false,
    "nbgrader": {
     "checksum": "1caeabc05bb45b962b6f48b4f7f5df23",
     "grade": false,
     "grade_id": "cell-15878f1a66886147",
     "locked": false,
     "schema_version": 1,
     "solution": true
    }
   },
   "outputs": [
    {
     "data": {
      "text/plain": [
       ":func"
      ]
     },
     "execution_count": 31,
     "metadata": {},
     "output_type": "execute_result"
    }
   ],
   "source": [
    "class LogisticRegressionModel\n",
    "  def func data, w\n",
    "    # BEGIN YOUR CODE\n",
    "    res = 0.0\n",
    "    data_size = data.length\n",
    "    data.each do |record|\n",
    "      y = record[\"label\"]\n",
    "      p = predict record, w\n",
    "      res -= (y * Math.log(p) + (1 - y) * Math.log(1 - p)) / data_size\n",
    "    end\n",
    "    res\n",
    "    #END YOUR CODE\n",
    "  end\n",
    "end"
   ]
  },
  {
   "cell_type": "code",
   "execution_count": 32,
   "metadata": {
    "deletable": false,
    "editable": false,
    "nbgrader": {
     "checksum": "db1f969ddf5fd5244aae153ae2863612",
     "grade": true,
     "grade_id": "cell-9dc5beeddbd5c30b",
     "locked": true,
     "points": 10,
     "schema_version": 1,
     "solution": false
    }
   },
   "outputs": [],
   "source": [
    "### TEST ###\n",
    "t32_data = coin_dataset(1000)\n",
    "t32_model = LogisticRegressionModel.new\n",
    "t32_w = Hash.new {|h,k| h[k] = 0.1}\n",
    "assert_in_delta 0.66, t32_model.func(t32_data[\"data\"], t32_w), 0.2, \"Expected LR.func in [460, 860]\""
   ]
  },
  {
   "cell_type": "markdown",
   "metadata": {},
   "source": [
    "## Question 3.3 (10 points)\n",
    "\n",
    "Calculate the gradient of the mini-batch log loss for each parameter $w$. This time, assume that $y \\in \\left\\{0, 1\\right\\}$. Hint: This assumption should simplify the calculation."
   ]
  },
  {
   "cell_type": "code",
   "execution_count": 33,
   "metadata": {
    "deletable": false,
    "nbgrader": {
     "checksum": "b55f5b3f1de2689550894e67480e8fc3",
     "grade": false,
     "grade_id": "cell-35515a097456be8f",
     "locked": false,
     "schema_version": 1,
     "solution": true
    },
    "scrolled": true
   },
   "outputs": [
    {
     "data": {
      "text/plain": [
       ":grad"
      ]
     },
     "execution_count": 33,
     "metadata": {},
     "output_type": "execute_result"
    }
   ],
   "source": [
    "class LogisticRegressionModel\n",
    "  def grad data, w\n",
    "    res = Hash.new\n",
    "    count = Hash.new\n",
    "    \n",
    "    data.each do |record|\n",
    "      record[\"features\"].each do |key,value|\n",
    "        if !res.key?(key)\n",
    "          res[key] = 0.0\n",
    "        end\n",
    "        if !count.key?(key)\n",
    "          count[key] = 0\n",
    "        end\n",
    "        p = predict record, w\n",
    "        y = record[\"label\"]\n",
    "        res[key] += value * (p - y) \n",
    "        count[key] += 1\n",
    "      end\n",
    "    end\n",
    "    \n",
    "    res.each do |key, value|\n",
    "      res[key] = value / count[key]\n",
    "    end\n",
    "    res\n",
    "  end\n",
    "end\n",
    "  \n"
   ]
  },
  {
   "cell_type": "code",
   "execution_count": 34,
   "metadata": {
    "deletable": false,
    "editable": false,
    "nbgrader": {
     "checksum": "bc43d49ef3013a4d2a8b6943fc30f895",
     "grade": true,
     "grade_id": "cell-a546f94a5ee061c0",
     "locked": true,
     "points": 10,
     "schema_version": 1,
     "solution": false
    }
   },
   "outputs": [],
   "source": [
    "### TEST ###\n",
    "t32_data = coin_dataset(1000)\n",
    "t32_model = LogisticRegressionModel.new\n",
    "t32_w = Hash.new {|h,k| h[k] = 0.1}\n",
    "assert_in_delta 0.66, t32_model.func(t32_data[\"data\"], t32_w), 0.2, \"Expected LR.func in [460, 860]\"\n",
    "t32_g = t32_model.grad t32_data[\"data\"], t32_w\n",
    "assert_in_delta -0.26, t32_g[\"bias\"], 0.1, \"Expected LR.grad in [-0.36, -0.16]\"\n",
    "\n",
    "t32_w = Hash.new {|h,k| h[k] = 0.778}\n",
    "t32_g = t32_model.grad t32_data[\"data\"], t32_w\n",
    "assert_in_delta -0.1, t32_g[\"bias\"], 0.1, \"Expected LR.grad for a closer value to be in [-0.2, -0.2]\"\n",
    "\n"
   ]
  },
  {
   "cell_type": "markdown",
   "metadata": {},
   "source": [
    "## Question 4.1 (6 points)\n",
    "\n",
    "Let's train our new models on a familiar dataset, spambase. Let's run gradient descent for a few steps on this dataset. Observe that the learned weights after just gradient 2 steps are very large."
   ]
  },
  {
   "cell_type": "code",
   "execution_count": 35,
   "metadata": {},
   "outputs": [
    {
     "name": "stdout",
     "output_type": "stream",
     "text": [
      "[{\"features\"=>{\"word_freq_our\"=>0.27, \"word_freq_mail\"=>0.83, \"word_freq_you\"=>0.27, \"word_freq_your\"=>0.27, \"word_freq_font\"=>8.58, \"char_freq_[\"=>0.092, \"char_freq_$\"=>0.185, \"char_freq_#\"=>0.232, \"capital_run_length_average\"=>7.313, \"capital_run_length_longest\"=>99.0, \"capital_run_length_total\"=>607.0, \"bias\"=>1.0}, \"label\"=>1.0}, {\"features\"=>{\"word_freq_your\"=>0.9, \"word_freq_george\"=>0.9, \"word_freq_data\"=>0.9, \"char_freq_[\"=>0.14, \"capital_run_length_average\"=>3.472, \"capital_run_length_longest\"=>28.0, \"capital_run_length_total\"=>125.0, \"bias\"=>1.0}, \"label\"=>0.0}]\n",
      "{\"bias\"=>1}\n"
     ]
    }
   ],
   "source": [
    "### Example ###\n",
    "#Preview 2 lines from the Spambase dataset\n",
    "spambase = read_sparse_data_from_csv \"spambase\"\n",
    "spambase[\"data\"].each {|r| r[\"features\"][\"bias\"] = 1.0}\n",
    "puts spambase[\"data\"][0,2]\n",
    "\n",
    "q41_model = LinearRegressionModel.new\n",
    "q41_w = Hash.new {|h,k| h[k] = 0.0}\n",
    "q41_w[\"bias\"] = 1\n",
    "q41_sgd = StochasticGradientDescent.new q41_model, q41_w, 0.1\n",
    "2.times do\n",
    "  q41_batch = spambase[\"data\"].sample(10)\n",
    "  q41_sgd.update q41_batch\n",
    "end\n",
    "puts q41_w"
   ]
  },
  {
   "cell_type": "markdown",
   "metadata": {},
   "source": [
    "## Question 4.1 (Continued) \n",
    "We can correct this by _normalizing_ the data. A popular normalization is the z-score. For each feature, except bias, and considering only the non-zero values create a new zspambase dataset, ```zspambase```. The dataset ```zspambase``` is identical to spambase except that its features have been normalized as follows:\n",
    "\n",
    "### $x_z = \\frac{x - \\mu}{\\sigma}$\n",
    "\n",
    "where $\\mu$ is the mean of the $x$ value and $\\sigma$ is the standard deviation. Note that you have already seen an implementation of ```mean``` and ```stdev```, so find it and add it here."
   ]
  },
  {
   "cell_type": "code",
   "execution_count": 36,
   "metadata": {
    "deletable": false,
    "nbgrader": {
     "checksum": "be552b33440500fbf331278317542948",
     "grade": false,
     "grade_id": "cell-ad476d8f1e9bb351",
     "locked": false,
     "schema_version": 1,
     "solution": true
    }
   },
   "outputs": [
    {
     "data": {
      "text/plain": [
       ":stdev"
      ]
     },
     "execution_count": 36,
     "metadata": {},
     "output_type": "execute_result"
    }
   ],
   "source": [
    "\n",
    "def mean data\n",
    "  res = Hash.new\n",
    "  count = Hash.new\n",
    "  \n",
    "  data.each do |record|\n",
    "    record[\"features\"].each do |key, value|\n",
    "      if !res.key?(key)\n",
    "        res[key] = 0.0\n",
    "      end\n",
    "      if !count.key?(key)\n",
    "        count[key] = 0.0\n",
    "      end\n",
    "      res[key] += value\n",
    "      count[key] += 1\n",
    "    end\n",
    "  end\n",
    "  res.each do |key, value|\n",
    "    res[key] = value / count[key]\n",
    "  end\n",
    "end\n",
    "\n",
    "def stdev data, mean\n",
    "  res = Hash.new\n",
    "  count = Hash.new\n",
    "  \n",
    "  data.each do |record|\n",
    "    record[\"features\"].each do |key, value|\n",
    "      if !res.key?(key)\n",
    "        res[key] = 0.0\n",
    "      end\n",
    "      if !count.key?(key)\n",
    "        count[key] = 0.0\n",
    "      end\n",
    "      res[key] += (value - mean[key]) ** 2\n",
    "      count[key] += 1\n",
    "    end\n",
    "  end\n",
    "  res.each do |key, value|\n",
    "    if count[key] > 1\n",
    "      res[key] = Math.sqrt(value / (count[key] - 1))\n",
    "    else\n",
    "      res[key] = Math.sqrt(value)\n",
    "    end\n",
    "  end\n",
    "    res\n",
    "end\n"
   ]
  },
  {
   "cell_type": "code",
   "execution_count": 37,
   "metadata": {
    "deletable": false,
    "nbgrader": {
     "checksum": "bafc508212cf426a2ec9755991c87569",
     "grade": false,
     "grade_id": "cell-481076f8bac87071",
     "locked": false,
     "schema_version": 1,
     "solution": true
    }
   },
   "outputs": [
    {
     "data": {
      "text/plain": [
       "{\"features\"=>{\"word_freq_our\"=>-0.628106690674003, \"word_freq_mail\"=>-0.0163998685249916, \"word_freq_you\"=>-1.2509960473524198, \"word_freq_your\"=>-0.9962817981732773, \"word_freq_font\"=>0.8660048920660688, \"char_freq_[\"=>-0.19095268670254528, \"char_freq_$\"=>-0.162631899108401, \"char_freq_#\"=>-0.038069985077358884, \"capital_run_length_average\"=>0.06686163123580875, \"capital_run_length_longest\"=>0.24027347134946417, \"capital_run_length_total\"=>0.533869650358239, \"bias\"=>0.0}, \"label\"=>1.0}"
      ]
     },
     "execution_count": 37,
     "metadata": {},
     "output_type": "execute_result"
    }
   ],
   "source": [
    "def create_zspambase spambase\n",
    "  zspambase = spambase.clone\n",
    "  zspambase[\"data\"] = spambase[\"data\"].collect do |r|\n",
    "    u = r.clone\n",
    "    u[\"features\"] = r[\"features\"].clone\n",
    "    u\n",
    "  end\n",
    "\n",
    "  # BEGIN YOUR CODE\n",
    "  zsp_data = zspambase[\"data\"]\n",
    "  zsp_mean = mean zsp_data\n",
    "  zsp_stdev = stdev zsp_data, zsp_mean\n",
    "  zsp_data.each do |record|\n",
    "    record[\"features\"].each do |key, value|\n",
    "      if zsp_stdev[key] <= 0.0\n",
    "        record[\"features\"][key] = 0.0\n",
    "      else\n",
    "        record[\"features\"][key] = (value - zsp_mean[key]) / zsp_stdev[key]\n",
    "      end\n",
    "    end\n",
    "  end\n",
    "  \n",
    "  \n",
    "  #END YOUR CODE\n",
    "  return zspambase\n",
    "end\n",
    "\n",
    "zspambase = create_zspambase spambase\n",
    "zspambase[\"data\"].first"
   ]
  },
  {
   "cell_type": "code",
   "execution_count": 38,
   "metadata": {
    "deletable": false,
    "editable": false,
    "nbgrader": {
     "checksum": "c4d4f5f9d7a599ca30d4aaa83198e29c",
     "grade": true,
     "grade_id": "cell-f9f979fc45ab2a30",
     "locked": true,
     "points": 6,
     "schema_version": 1,
     "solution": false
    }
   },
   "outputs": [],
   "source": [
    "### TEST ###\n",
    "t41_zs = create_zspambase spambase\n",
    "\n",
    "assert_in_delta 0.27, spambase[\"data\"].first[\"features\"][\"word_freq_our\"], 1e-5\n",
    "assert_in_delta -0.628106690674003, zspambase[\"data\"].first[\"features\"][\"word_freq_our\"], 1e-5\n",
    "\n",
    "assert_in_delta 607.0, spambase[\"data\"].first[\"features\"][\"capital_run_length_total\"], 1e-5\n",
    "assert_in_delta 0.53386, zspambase[\"data\"].first[\"features\"][\"capital_run_length_total\"], 1e-5"
   ]
  },
  {
   "cell_type": "markdown",
   "metadata": {},
   "source": [
    "## Question 4.2 (7 points)\n",
    "\n",
    "Train Linear Regression for the ```zspambase``` dataset. Tune the learning rate as needed to train in one epoch. Hint: Learning rate may need to be very small. "
   ]
  },
  {
   "cell_type": "code",
   "execution_count": null,
   "metadata": {
    "deletable": false,
    "nbgrader": {
     "checksum": "3c4ddd54c16eb6b7d485cf6c77497441",
     "grade": false,
     "grade_id": "cell-534aff92ed1aadf8",
     "locked": false,
     "schema_version": 1,
     "solution": true
    }
   },
   "outputs": [],
   "source": [
    "def train_zspambase_sgd(obj, w, dataset)\n",
    "  i = 0\n",
    "  iters = []\n",
    "  losses = []\n",
    "  \n",
    "  #Define sgd = StochasticGradientDescent.new obj, w, lr\n",
    "  # You set the learning rate, lr\n",
    "  # BEGIN YOUR CODE\n",
    "  sgd = StochasticGradientDescent.new obj, w, 0.5\n",
    "  \n",
    "  batch_size = 40\n",
    "  total_iter = dataset[\"data\"].length / batch_size\n",
    "  \n",
    "  5.times do\n",
    "    total_iter.times do\n",
    "      batch_data = dataset[\"data\"].sample(batch_size)\n",
    "      sgd.update(batch_data)\n",
    "      curr_loss = obj.func(batch_data, sgd.weights)\n",
    "      i += 1\n",
    "    end\n",
    "  end\n",
    "  total_iter.times do\n",
    "    batch_data = dataset[\"data\"].sample(batch_size)\n",
    "    sgd.update(batch_data)\n",
    "    curr_loss = obj.func(batch_data, sgd.weights)\n",
    "    losses << curr_loss\n",
    "    iters << i\n",
    "    i += 1\n",
    "  end\n",
    "  \n",
    " \n",
    "  #END YOUR CODE\n",
    "  return [sgd, iters, losses]\n",
    "end"
   ]
  },
  {
   "cell_type": "code",
   "execution_count": null,
   "metadata": {
    "deletable": false,
    "editable": false,
    "nbgrader": {
     "checksum": "7881aca4101647e3c85ee5ccb52c67b6",
     "grade": true,
     "grade_id": "cell-1b5de61217794c41",
     "locked": true,
     "points": 7,
     "schema_version": 1,
     "solution": false
    }
   },
   "outputs": [],
   "source": [
    "### TEST ###\n",
    "t25_model = LinearRegressionModel.new\n",
    "t25_w = Hash.new {|h,k| h[k] = 0.0}\n",
    "t25_w[\"bias\"] = 1\n",
    "\n",
    "t25_trainer, t25_iter, t25_losses = train_zspambase_sgd t25_model, t25_w, zspambase\n",
    "puts t25_w\n",
    "\n",
    "t25_cum_loss = 0.0\n",
    "t25_losses.each_index {|i| t25_cum_loss += t25_losses[i]; t25_losses[i] = t25_cum_loss / (t25_iter[i] + 1)}\n",
    "assert_true (t25_losses.last < 0.15), \"Expected last loss value less than target\"\n",
    "Daru::DataFrame.new({x: t25_iter, y: t25_losses}).plot(type: :line, x: :x, y: :y) do |plot, diagram|\n",
    "  plot.x_label \"Batches\"\n",
    "  plot.y_label \"Cumulative Loss\"\n",
    "end"
   ]
  },
  {
   "cell_type": "markdown",
   "metadata": {},
   "source": [
    "## Question 4.3 (7 points)\n",
    "\n",
    "Run logistic regression on the ```zspambase``` dataset, tuning the learning rate."
   ]
  },
  {
   "cell_type": "code",
   "execution_count": 394,
   "metadata": {
    "deletable": false,
    "nbgrader": {
     "checksum": "41ad8150351136ed6e4631337bb20d57",
     "grade": false,
     "grade_id": "cell-7fd32c360f47ff13",
     "locked": false,
     "schema_version": 1,
     "solution": true
    }
   },
   "outputs": [
    {
     "data": {
      "text/plain": [
       ":train_zspambase_logistic_sgd"
      ]
     },
     "execution_count": 394,
     "metadata": {},
     "output_type": "execute_result"
    }
   ],
   "source": [
    "def train_zspambase_logistic_sgd(obj, w, dataset)\n",
    "  i = 0\n",
    "  iters = []\n",
    "  losses = []\n",
    "  \n",
    "  #Define sgd = StochasticGradientDescent.new obj, w, lr\n",
    "  # You set the learning rate, lr\n",
    "  # BEGIN YOUR CODE\n",
    "   sgd = StochasticGradientDescent.new obj, w, 0.6\n",
    "  \n",
    "  batch_size = 30\n",
    "  total_iter = dataset[\"data\"].length / batch_size\n",
    "  \n",
    "  \n",
    "  total_iter.times do\n",
    "    batch_data = dataset[\"data\"].sample(batch_size)\n",
    "    sgd.update(batch_data)\n",
    "    curr_loss = obj.func(batch_data, sgd.weights)\n",
    "    losses << curr_loss\n",
    "    iters << i\n",
    "    i += 1\n",
    "  end\n",
    "  #END YOUR CODE\n",
    "  return [sgd, iters, losses]\n",
    "end"
   ]
  },
  {
   "cell_type": "code",
   "execution_count": 395,
   "metadata": {
    "deletable": false,
    "editable": false,
    "nbgrader": {
     "checksum": "e0efa9ebe30c126d1b59a9bbc3341688",
     "grade": true,
     "grade_id": "cell-a2ee6be6489349a5",
     "locked": true,
     "points": 7,
     "schema_version": 1,
     "solution": false
    }
   },
   "outputs": [
    {
     "name": "stdout",
     "output_type": "stream",
     "text": [
      "{\"bias\"=>1, \"word_freq_address\"=>0.0, \"word_freq_our\"=>0.0, \"word_freq_remove\"=>0.0, \"word_freq_will\"=>0.0, \"word_freq_free\"=>0.0, \"word_freq_business\"=>0.0, \"word_freq_you\"=>0.0, \"word_freq_your\"=>0.0, \"char_freq_!\"=>0.0, \"capital_run_length_average\"=>0.0, \"capital_run_length_longest\"=>0.0, \"capital_run_length_total\"=>0.0, \"word_freq_george\"=>0.0, \"word_freq_mail\"=>0.0, \"word_freq_all\"=>0.0, \"word_freq_over\"=>0.0, \"word_freq_internet\"=>0.0, \"word_freq_receive\"=>0.0, \"word_freq_email\"=>0.0, \"word_freq_credit\"=>0.0, \"word_freq_money\"=>0.0, \"char_freq_(\"=>0.0, \"char_freq_#\"=>0.0, \"word_freq_000\"=>0.0, \"char_freq_$\"=>0.0, \"word_freq_1999\"=>0.0, \"word_freq_re\"=>0.0, \"word_freq_hp\"=>0.0, \"word_freq_pm\"=>0.0, \"word_freq_original\"=>0.0, \"word_freq_make\"=>0.0, \"word_freq_order\"=>0.0, \"word_freq_people\"=>0.0, \"word_freq_report\"=>0.0, \"word_freq_direct\"=>0.0, \"char_freq_[\"=>0.0, \"word_freq_hpl\"=>0.0, \"char_freq_;\"=>0.0, \"word_freq_addresses\"=>0.0, \"word_freq_85\"=>0.0, \"word_freq_project\"=>0.0, \"word_freq_edu\"=>0.0, \"word_freq_650\"=>0.0, \"word_freq_technology\"=>0.0, \"word_freq_meeting\"=>0.0, \"word_freq_parts\"=>0.0, \"word_freq_lab\"=>0.0, \"word_freq_labs\"=>0.0, \"word_freq_telnet\"=>0.0, \"word_freq_857\"=>0.0, \"word_freq_415\"=>0.0, \"word_freq_table\"=>0.0, \"word_freq_data\"=>0.0, \"word_freq_conference\"=>0.0}\n"
     ]
    },
    {
     "data": {
      "text/html": [
       "<div id='vis-4e0d0b55-0d94-42e8-b3cb-17996201a957'></div>\n",
       "<script>\n",
       "(function(){\n",
       "    var render = function(){\n",
       "        var model = {\"panes\":[{\"diagrams\":[{\"type\":\"line\",\"options\":{\"x\":\"x\",\"y\":\"y\"},\"data\":\"5b6cc32d-97ab-430c-9d13-1769118fdda9\"}],\"options\":{\"x_label\":\"Batches\",\"y_label\":\"Cumulative Loss\",\"zoom\":true,\"width\":700,\"xrange\":[0,152],\"yrange\":[0.5355221362381423,0.5826369624401898]}}],\"data\":{\"5b6cc32d-97ab-430c-9d13-1769118fdda9\":[{\"x\":0,\"y\":0.5355221362381423},{\"x\":1,\"y\":0.544905564778577},{\"x\":2,\"y\":0.564016068487113},{\"x\":3,\"y\":0.5709529996275466},{\"x\":4,\"y\":0.5767075169686031},{\"x\":5,\"y\":0.5728366832909386},{\"x\":6,\"y\":0.5782452628805208},{\"x\":7,\"y\":0.5826369624401898},{\"x\":8,\"y\":0.5780910477810696},{\"x\":9,\"y\":0.5739995020158508},{\"x\":10,\"y\":0.571561051347656},{\"x\":11,\"y\":0.5666977432907438},{\"x\":12,\"y\":0.563560336124227},{\"x\":13,\"y\":0.5576661155758283},{\"x\":14,\"y\":0.5646879137761516},{\"x\":15,\"y\":0.565546484620406},{\"x\":16,\"y\":0.5684986088733717},{\"x\":17,\"y\":0.5671730485402436},{\"x\":18,\"y\":0.5686741282201233},{\"x\":19,\"y\":0.568203539919959},{\"x\":20,\"y\":0.5684137989514493},{\"x\":21,\"y\":0.5677415102276158},{\"x\":22,\"y\":0.5649868929251949},{\"x\":23,\"y\":0.5652535624439256},{\"x\":24,\"y\":0.5639663181961052},{\"x\":25,\"y\":0.5646462376930347},{\"x\":26,\"y\":0.564579423547322},{\"x\":27,\"y\":0.5623749032715135},{\"x\":28,\"y\":0.5605587866402462},{\"x\":29,\"y\":0.5595086819115426},{\"x\":30,\"y\":0.559359062721626},{\"x\":31,\"y\":0.5609882329844499},{\"x\":32,\"y\":0.5600750729110137},{\"x\":33,\"y\":0.5600246678903503},{\"x\":34,\"y\":0.5607536477557076},{\"x\":35,\"y\":0.5619554532887966},{\"x\":36,\"y\":0.5619051132139539},{\"x\":37,\"y\":0.5618055555161895},{\"x\":38,\"y\":0.5632373489611943},{\"x\":39,\"y\":0.5627424662441942},{\"x\":40,\"y\":0.5612599569250355},{\"x\":41,\"y\":0.5602122443430155},{\"x\":42,\"y\":0.5591404982035405},{\"x\":43,\"y\":0.557898615456054},{\"x\":44,\"y\":0.5573209535229731},{\"x\":45,\"y\":0.5567856347088544},{\"x\":46,\"y\":0.5574667710381944},{\"x\":47,\"y\":0.5580611364173657},{\"x\":48,\"y\":0.5563953046469267},{\"x\":49,\"y\":0.5564202448509037},{\"x\":50,\"y\":0.5562178655956448},{\"x\":51,\"y\":0.5559806568525008},{\"x\":52,\"y\":0.5554611824025595},{\"x\":53,\"y\":0.5550593554112447},{\"x\":54,\"y\":0.5537679127964644},{\"x\":55,\"y\":0.552356987542584},{\"x\":56,\"y\":0.5531773545610897},{\"x\":57,\"y\":0.550765092408526},{\"x\":58,\"y\":0.5510963322637311},{\"x\":59,\"y\":0.5509944433117279},{\"x\":60,\"y\":0.5498108455506117},{\"x\":61,\"y\":0.5481087022682967},{\"x\":62,\"y\":0.5466296370100528},{\"x\":63,\"y\":0.546456362833767},{\"x\":64,\"y\":0.5457677490286771},{\"x\":65,\"y\":0.544706807410018},{\"x\":66,\"y\":0.543813024557231},{\"x\":67,\"y\":0.5429243207423528},{\"x\":68,\"y\":0.5437382738938341},{\"x\":69,\"y\":0.5446721683740448},{\"x\":70,\"y\":0.5454229659952543},{\"x\":71,\"y\":0.5465581650028307},{\"x\":72,\"y\":0.5455233192333075},{\"x\":73,\"y\":0.5455499141066493},{\"x\":74,\"y\":0.5445980665875018},{\"x\":75,\"y\":0.5449920545798731},{\"x\":76,\"y\":0.5445812978245179},{\"x\":77,\"y\":0.5437236436853226},{\"x\":78,\"y\":0.5449488031219095},{\"x\":79,\"y\":0.5453052023753857},{\"x\":80,\"y\":0.5457054615160334},{\"x\":81,\"y\":0.5442347414742797},{\"x\":82,\"y\":0.5451503897528739},{\"x\":83,\"y\":0.5448185461319787},{\"x\":84,\"y\":0.5444733340677604},{\"x\":85,\"y\":0.5455769380765964},{\"x\":86,\"y\":0.5451241549535303},{\"x\":87,\"y\":0.5452871416894176},{\"x\":88,\"y\":0.5451848135475434},{\"x\":89,\"y\":0.5438586617144879},{\"x\":90,\"y\":0.5430203985963377},{\"x\":91,\"y\":0.5446132906872103},{\"x\":92,\"y\":0.5438834049064132},{\"x\":93,\"y\":0.5436217513597682},{\"x\":94,\"y\":0.5431043736882335},{\"x\":95,\"y\":0.542500456036561},{\"x\":96,\"y\":0.5438447004255402},{\"x\":97,\"y\":0.5455237168025806},{\"x\":98,\"y\":0.545240361893507},{\"x\":99,\"y\":0.5448252573970536},{\"x\":100,\"y\":0.5442316695405774},{\"x\":101,\"y\":0.544862610758748},{\"x\":102,\"y\":0.5439565762617509},{\"x\":103,\"y\":0.5434853790682396},{\"x\":104,\"y\":0.5429717419311997},{\"x\":105,\"y\":0.5427411532002449},{\"x\":106,\"y\":0.5426851733104785},{\"x\":107,\"y\":0.5429252143591509},{\"x\":108,\"y\":0.542106652343836},{\"x\":109,\"y\":0.541916903895877},{\"x\":110,\"y\":0.5422937984477829},{\"x\":111,\"y\":0.5418261603686785},{\"x\":112,\"y\":0.5414269141514062},{\"x\":113,\"y\":0.5411387705346672},{\"x\":114,\"y\":0.5412078411353414},{\"x\":115,\"y\":0.5403121067976006},{\"x\":116,\"y\":0.5401802668540151},{\"x\":117,\"y\":0.5401093062318398},{\"x\":118,\"y\":0.5396249083835899},{\"x\":119,\"y\":0.5387140621054162},{\"x\":120,\"y\":0.5379868099015015},{\"x\":121,\"y\":0.5380273292773419},{\"x\":122,\"y\":0.5373365680802294},{\"x\":123,\"y\":0.5377301813551911},{\"x\":124,\"y\":0.5370960650232554},{\"x\":125,\"y\":0.5362100015161098},{\"x\":126,\"y\":0.5362543520744323},{\"x\":127,\"y\":0.5368796896257602},{\"x\":128,\"y\":0.5359745257437096},{\"x\":129,\"y\":0.5363947318002961},{\"x\":130,\"y\":0.5368306957315215},{\"x\":131,\"y\":0.5365371790225649},{\"x\":132,\"y\":0.5362830905285967},{\"x\":133,\"y\":0.5365848196664896},{\"x\":134,\"y\":0.5361655388529624},{\"x\":135,\"y\":0.5364655741520427},{\"x\":136,\"y\":0.5370760890519579},{\"x\":137,\"y\":0.5366266985604748},{\"x\":138,\"y\":0.5389764310690126},{\"x\":139,\"y\":0.5386246253402958},{\"x\":140,\"y\":0.5382097352893407},{\"x\":141,\"y\":0.5384454501528086},{\"x\":142,\"y\":0.5387337624146061},{\"x\":143,\"y\":0.5388003301905848},{\"x\":144,\"y\":0.5386744649208121},{\"x\":145,\"y\":0.5385534902109326},{\"x\":146,\"y\":0.5385315401210333},{\"x\":147,\"y\":0.5379062303791781},{\"x\":148,\"y\":0.5373156904186035},{\"x\":149,\"y\":0.5364387396100334},{\"x\":150,\"y\":0.5362629814868684},{\"x\":151,\"y\":0.5361647292009634},{\"x\":152,\"y\":0.5358916389453118}]},\"extension\":[]}\n",
       "        var id_name = '#vis-4e0d0b55-0d94-42e8-b3cb-17996201a957';\n",
       "        Nyaplot.core.parse(model, id_name);\n",
       "\n",
       "        require(['downloadable'], function(downloadable){\n",
       "          var svg = d3.select(id_name).select(\"svg\");\n",
       "\t  if(!svg.empty())\n",
       "\t    svg.call(downloadable().filename('fig'));\n",
       "\t});\n",
       "    };\n",
       "    if(window['Nyaplot']==undefined){\n",
       "        window.addEventListener('load_nyaplot', render, false);\n",
       "\treturn;\n",
       "    } else {\n",
       "       render();\n",
       "    }\n",
       "})();\n",
       "</script>\n"
      ],
      "text/plain": [
       "#<Nyaplot::Plot:0x0000000003fd1dc8 @properties={:diagrams=>[#<Nyaplot::Diagram:0x000000000302e358 @properties={:type=>:line, :options=>{:x=>:x, :y=>:y}, :data=>\"5b6cc32d-97ab-430c-9d13-1769118fdda9\"}, @xrange=[0, 152], @yrange=[0.5355221362381423, 0.5826369624401898]>], :options=>{:x_label=>\"Batches\", :y_label=>\"Cumulative Loss\", :zoom=>true, :width=>700, :xrange=>[0, 152], :yrange=>[0.5355221362381423, 0.5826369624401898]}}>"
      ]
     },
     "execution_count": 395,
     "metadata": {},
     "output_type": "execute_result"
    }
   ],
   "source": [
    "### TEST ###\n",
    "t43_model = LogisticRegressionModel.new\n",
    "t43_w = Hash.new {|h,k| h[k] = 0.0}\n",
    "t43_w[\"bias\"] = 1\n",
    "\n",
    "t43_trainer, t43_iter, t43_losses = train_zspambase_logistic_sgd t43_model, t43_w, zspambase\n",
    "t43_cum_loss = 0.0\n",
    "t43_losses.each_index {|i| t43_cum_loss += t43_losses[i]; t43_losses[i] = t43_cum_loss / (t43_iter[i] + 1)}\n",
    "puts t43_w\n",
    "\n",
    "assert_true(t43_losses.last < 0.6, \"Expected last loss value < 0.6\")\n",
    "Daru::DataFrame.new({x: t43_iter, y: t43_losses}).plot(type: :line, x: :x, y: :y) do |plot, diagram|\n",
    "  plot.x_label \"Batches\"\n",
    "  plot.y_label \"Cumulative Loss\"\n",
    "end"
   ]
  },
  {
   "cell_type": "code",
   "execution_count": null,
   "metadata": {},
   "outputs": [],
   "source": []
  },
  {
   "cell_type": "code",
   "execution_count": null,
   "metadata": {},
   "outputs": [],
   "source": []
  }
 ],
 "metadata": {
  "kernelspec": {
   "display_name": "Ruby 2.5.1",
   "language": "ruby",
   "name": "ruby"
  },
  "language_info": {
   "file_extension": ".rb",
   "mimetype": "application/x-ruby",
   "name": "ruby",
   "version": "2.5.1"
  }
 },
 "nbformat": 4,
 "nbformat_minor": 2
}
