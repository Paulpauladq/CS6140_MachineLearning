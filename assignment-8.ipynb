{
 "cells": [
  {
   "cell_type": "markdown",
   "metadata": {},
   "source": [
    "# CS6140 Assignments\n",
    "\n",
    "**Instructions**\n",
    "1. In each assignment cell, look for the block:\n",
    " ```\n",
    "  #BEGIN YOUR CODE\n",
    "  raise NotImplementedError.new()\n",
    "  #END YOUR CODE\n",
    " ```\n",
    "1. Replace this block with your solution.\n",
    "1. Test your solution by running the cells following your block (indicated by ##TEST##)\n",
    "1. Click the \"Validate\" button above to validate the work.\n",
    "\n",
    "**Notes**\n",
    "* You may add other cells and functions as needed\n",
    "* Keep all code in the same notebook\n",
    "* In order to receive credit, code must \"Validate\" on the JupyterHub server\n",
    "\n",
    "---"
   ]
  },
  {
   "cell_type": "code",
   "execution_count": null,
   "metadata": {},
   "outputs": [],
   "source": []
  },
  {
   "cell_type": "markdown",
   "metadata": {},
   "source": [
    "# Assignment 8: Decision Trees (2)\n",
    "\n",
    "\n",
    "We will implement a trainer for the decision tree. If you completed Assignment 7, then you should have most of the code already. Now we will put it in the right place.\n",
    "\n",
    "The trainer implementation will happen in the following stages:\n",
    "\n",
    "1. Create a class ```NumericSplitter``` which finds the best threshold for a numeric feature and outputs a ```NumericSplit```\n",
    "2. Create a class ```DecisionTree``` which implements a recursive trainer given a list of possible splits\n",
    "3. Add a ```predict``` method to the decision tree class that predicts for new examples\n",
    "\n",
    "After building a decision tree, you will implement a few methods that we will use in future assignments to evaluate trained models.\n",
    "\n",
    "\n",
    "---\n",
    "** Setup **"
   ]
  },
  {
   "cell_type": "code",
   "execution_count": 154,
   "metadata": {},
   "outputs": [
    {
     "data": {
      "text/plain": [
       "3"
      ]
     },
     "execution_count": 154,
     "metadata": {},
     "output_type": "execute_result"
    }
   ],
   "source": [
    "require 'test/unit/assertions'\n",
    "require 'daru'\n",
    "require 'distribution'\n",
    "require 'json'\n",
    "\n",
    "include Test::Unit::Assertions\n",
    "\n",
    "## Loads data files\n",
    "def read_sparse_data_from_csv prefix\n",
    "  data = []\n",
    "  classes = Hash.new {|h,k| h[k] = 0}\n",
    "  header = File.read(prefix + \".header\").chomp.split(\",\")  \n",
    "  \n",
    "  File.open(prefix + \".csv\").each_line.with_index do |l, i|\n",
    "    a = l.chomp.split \",\"\n",
    "    next if a.empty?\n",
    "    row = {\"features\" => Hash.new}\n",
    "    \n",
    "    header.each.with_index do |k, i|\n",
    "      v = a[i].to_f\n",
    "      if k == \"label\"\n",
    "        row[\"label\"] = v.to_i\n",
    "      else\n",
    "        next if v.zero?\n",
    "        row[\"features\"][k] = v\n",
    "      end\n",
    "    end\n",
    "    classes[row[\"label\"]] += 1\n",
    "    \n",
    "    data << row\n",
    "  end\n",
    "  return {\"classes\" => classes, \"features\" => header[0,header.size - 1], \"data\" => data}\n",
    "end\n",
    "\n",
    "iris = read_sparse_data_from_csv \"iris\"\n",
    "spambase = read_sparse_data_from_csv \"spambase\"\n",
    "spambase.size"
   ]
  },
  {
   "cell_type": "markdown",
   "metadata": {},
   "source": [
    "## Question 1 (20 Points)\n",
    "\n",
    "Copy **your** solutions from [assignment-7](../assignment-7/assignment-7.ipynb) here.\n",
    "\n",
    "---"
   ]
  },
  {
   "cell_type": "code",
   "execution_count": 155,
   "metadata": {
    "deletable": false,
    "nbgrader": {
     "checksum": "2e7f40afda0710845aece35157d04f74",
     "grade": false,
     "grade_id": "cell-c5c50fa87697e12b",
     "locked": false,
     "schema_version": 1,
     "solution": true
    }
   },
   "outputs": [
    {
     "data": {
      "text/plain": [
       ":class_distribution"
      ]
     },
     "execution_count": 155,
     "metadata": {},
     "output_type": "execute_result"
    }
   ],
   "source": [
    "def class_distribution dataset\n",
    "   # BEGIN YOUR CODE\n",
    "  class_group = dataset.group_by{|row| row[\"label\"]}\n",
    "  class_dist = Hash.new\n",
    "  ## size of rows\n",
    "  total_size = dataset.size\n",
    "  class_num = class_group.size\n",
    "  \n",
    "  class_group.each_key do |key|\n",
    "    class_dist[key] = (class_group[key].size.to_f / total_size.to_f).to_f\n",
    "  end\n",
    "  class_dist\n",
    "  #END YOUR CODE\n",
    "end"
   ]
  },
  {
   "cell_type": "code",
   "execution_count": 156,
   "metadata": {
    "deletable": false,
    "editable": false,
    "nbgrader": {
     "checksum": "26b5414365f70aaa51ef1cc3694036c2",
     "grade": true,
     "grade_id": "cell-d5732b0ff4217fef",
     "locked": true,
     "points": 10,
     "schema_version": 1,
     "solution": false
    }
   },
   "outputs": [
    {
     "data": {
      "text/plain": [
       "3"
      ]
     },
     "execution_count": 156,
     "metadata": {},
     "output_type": "execute_result"
    }
   ],
   "source": [
    "### TESTS ###\n",
    "# Check that each class has a probability 1/3\n",
    "t1_iris_dist = class_distribution iris[\"data\"]\n",
    "t1_iris_num_classes = 3\n",
    "t1_iris_num_classes.times do |cls|\n",
    "  assert_in_delta t1_iris_dist[cls], 0.33333, 1e-4\n",
    "end"
   ]
  },
  {
   "cell_type": "code",
   "execution_count": 177,
   "metadata": {
    "deletable": false,
    "nbgrader": {
     "checksum": "57ff232c1692e0061a1b6a4518bf3a39",
     "grade": false,
     "grade_id": "cell-fd56a58088d438e0",
     "locked": false,
     "schema_version": 1,
     "solution": true
    }
   },
   "outputs": [
    {
     "data": {
      "text/plain": [
       ":entropy"
      ]
     },
     "execution_count": 177,
     "metadata": {},
     "output_type": "execute_result"
    }
   ],
   "source": [
    "def entropy dist\n",
    "  # BEGIN YOUR CODE\n",
    "  sum = dist.values.reduce(0.0, :+)\n",
    "  entropy = 0.0\n",
    "  dist.values.each do |d|\n",
    "    if d != 0\n",
    "      entropy -= (d / sum) * Math.log(d / sum)\n",
    "    end\n",
    "  end\n",
    "  entropy\n",
    "#END YOUR CODE\n",
    "end"
   ]
  },
  {
   "cell_type": "code",
   "execution_count": 178,
   "metadata": {
    "deletable": false,
    "editable": false,
    "nbgrader": {
     "checksum": "311e587b8a83cec246585177779a494f",
     "grade": true,
     "grade_id": "cell-4b0b32cb212709a1",
     "locked": true,
     "points": 10,
     "schema_version": 1,
     "solution": false
    }
   },
   "outputs": [],
   "source": [
    "### TESTS ###\n",
    "#Checks the class entropy for Spambase dataset\n",
    "t2_spambase_dist = class_distribution spambase[\"data\"]\n",
    "t2_spambase_entropy = entropy t2_spambase_dist\n",
    "assert_equal 0.6705230209876485, t2_spambase_entropy, 1e-4"
   ]
  },
  {
   "cell_type": "markdown",
   "metadata": {},
   "source": [
    "## Question 2.1 (10 points)\n",
    "\n",
    "Implement the ```NumericSplit``` split class which splits a dataset given a feature (```@fname```) and threshold (```@value```) into two datasets. The class template below provides a string representation for the split that will be used later. Note that code required was part of Assignment 2.\n"
   ]
  },
  {
   "cell_type": "code",
   "execution_count": 179,
   "metadata": {
    "deletable": false,
    "nbgrader": {
     "checksum": "0e6b2f7735a7e5f05f99d5b49501fa8d",
     "grade": false,
     "grade_id": "cell-298619bab5be58b0",
     "locked": false,
     "schema_version": 1,
     "solution": true
    }
   },
   "outputs": [
    {
     "data": {
      "text/plain": [
       ":split"
      ]
     },
     "execution_count": 179,
     "metadata": {},
     "output_type": "execute_result"
    }
   ],
   "source": [
    "class NumericSplit\n",
    "  attr_reader :fname, :value\n",
    "  def initialize fname, value\n",
    "    @fname = fname\n",
    "    @value = value\n",
    "    @lpath = \"#{@fname} < #{@value}\"\n",
    "    @rpath = \"#{@fname} >= #{@value}\"\n",
    "  end\n",
    "  \n",
    "  def to_s\n",
    "    \"Numeric[#{@fname} <=> #{@value}]\"\n",
    "  end\n",
    "  \n",
    "  def split dataset\n",
    "    # BEGIN YOUR CODE\n",
    "    res = Hash.new\n",
    "    res[@lpath] = Array.new\n",
    "    res[@rpath] = Array.new\n",
    "    \n",
    "    dataset.each do |row|\n",
    "      if row[\"features\"][@fname] != nil\n",
    "        if row[\"features\"][@fname] < @value\n",
    "          res[@lpath] << row\n",
    "        else\n",
    "          res[@rpath] << row\n",
    "        end\n",
    "      else\n",
    "        res[@lpath] << row\n",
    "      end\n",
    "    end\n",
    "    res\n",
    "    #END YOUR CODE\n",
    "  end\n",
    "end"
   ]
  },
  {
   "cell_type": "code",
   "execution_count": 180,
   "metadata": {
    "deletable": false,
    "editable": false,
    "nbgrader": {
     "checksum": "ee2fafb635395dfad7a3ef26a7d0951d",
     "grade": true,
     "grade_id": "cell-c028592cc3913c8e",
     "locked": true,
     "points": 10,
     "schema_version": 1,
     "solution": false
    }
   },
   "outputs": [],
   "source": [
    "### TEST ###\n",
    "\n",
    "t21_split = NumericSplit.new \"petal_length\", 1.7\n",
    "\n",
    "# Checks for the number of examples when split on petal_length = 1.7\n",
    "t21_iris_splits = t21_split.split iris[\"data\"]\n",
    "t21_split_sizes = t21_iris_splits.values.collect {|v| v.size}.sort\n",
    "t21_num_splits = 2\n",
    "assert_equal t21_num_splits, t21_split_sizes.size\n",
    "assert_equal 44, t21_split_sizes[0]\n",
    "assert_equal 106, t21_split_sizes[1]"
   ]
  },
  {
   "cell_type": "markdown",
   "metadata": {},
   "source": [
    "## Question 2.2 (5 points)\n",
    "\n",
    "Add a ```test``` function to the ```NumericSplit``` which returns the name of the left path or right path depending on the value. This will be used in the prediction stage. Note that we are \"re-opening\" a class to add a new method, which is a feature of Ruby."
   ]
  },
  {
   "cell_type": "code",
   "execution_count": 181,
   "metadata": {
    "deletable": false,
    "nbgrader": {
     "checksum": "7f556b2cb5dd36cda744ddd8b8ad0ed1",
     "grade": false,
     "grade_id": "cell-d5430080279cc64d",
     "locked": false,
     "schema_version": 1,
     "solution": true
    }
   },
   "outputs": [
    {
     "data": {
      "text/plain": [
       ":test"
      ]
     },
     "execution_count": 181,
     "metadata": {},
     "output_type": "execute_result"
    }
   ],
   "source": [
    "class NumericSplit\n",
    "  def test x\n",
    "  # BEGIN YOUR CODE\n",
    "    return ((x[\"features\"][@fname] == nil) or (x[\"features\"][@fname] < @value)) ? @lpath : @rpath\n",
    "  #END YOUR CODE\n",
    "  end\n",
    "\n",
    "end"
   ]
  },
  {
   "cell_type": "code",
   "execution_count": 182,
   "metadata": {
    "deletable": false,
    "editable": false,
    "nbgrader": {
     "checksum": "8c15d2aa909ec74a28fe1df716bd32b2",
     "grade": true,
     "grade_id": "cell-64e0d8c09783adc6",
     "locked": true,
     "points": 10,
     "schema_version": 1,
     "solution": false
    },
    "scrolled": true
   },
   "outputs": [],
   "source": [
    "### TEST ###\n",
    "\n",
    "t22_split = NumericSplit.new \"petal_length\", 1.7\n",
    "t22_x_left = {\"features\" => {\"petal_length\" => 0.7}}\n",
    "assert_equal \"petal_length < 1.7\", t22_split.test(t22_x_left)\n",
    "\n",
    "t22_x_right = {\"features\" => {\"petal_length\" => 1.71}}\n",
    "assert_equal \"petal_length >= 1.7\", t22_split.test(t22_x_right)\n",
    "\n",
    "t22_x_right_eq = {\"features\" => {\"petal_length\" => 1.7}}\n",
    "assert_equal \"petal_length >= 1.7\", t22_split.test(t22_x_right_eq)"
   ]
  },
  {
   "cell_type": "markdown",
   "metadata": {},
   "source": [
    "# Question 2.3 (10 points)\n",
    "\n",
    "Implement the ```NumericSplitter``` which finds the threshold with best information gain for a numeric feature and returns a ```NumericSplit```. Remember that, sometimes, a feature may not be numeric. Each splitter has a ```matches?(x)``` function to check this. \n",
    "\n"
   ]
  },
  {
   "cell_type": "code",
   "execution_count": 183,
   "metadata": {
    "deletable": false,
    "nbgrader": {
     "checksum": "9565ff55d4793f235ddffe44ccd630d7",
     "grade": false,
     "grade_id": "cell-f21a997a3508866a",
     "locked": false,
     "schema_version": 1,
     "solution": true
    }
   },
   "outputs": [
    {
     "data": {
      "text/plain": [
       ":matches?"
      ]
     },
     "execution_count": 183,
     "metadata": {},
     "output_type": "execute_result"
    }
   ],
   "source": [
    "class NumericSplitter\n",
    "  def new_split dataset, initial_entropy, fname\n",
    "    # BEGIN YOUR CODE\n",
    "    t_max = 0.0\n",
    "    ig_max = 0.0\n",
    "  \n",
    "    split_l = Hash.new(0)\n",
    "    split_r = Hash.new(0)\n",
    "  \n",
    "    sorted_x = dataset.sort_by{|row| row[\"features\"].has_key?(fname) ? row[\"features\"][fname] : 0}\n",
    "  \n",
    "    sorted_x.each do |row|\n",
    "      split_r[row[\"label\"]] += 1\n",
    "    end\n",
    "    size = sorted_x.size\n",
    "    ig_max = 0\n",
    "    sorted_x.each_with_index do |row, index|\n",
    "      split_l[row[\"label\"]] += 1\n",
    "      split_r[row[\"label\"]] -= 1\n",
    "      if(index + 1 < size and row[\"features\"][fname] == sorted_x[index + 1][\"features\"][fname])\n",
    "        next\n",
    "      end \n",
    "      p1 = (index + 1.0)/ size\n",
    "      p2 = (size - index - 1.0)/ size\n",
    "      ig = initial_entropy - p1 * entropy(split_l) - p2 * entropy(split_r)\n",
    "      if ig > ig_max\n",
    "        ig_max = ig\n",
    "        t_max = sorted_x[index + 1][\"features\"][fname]\n",
    "      end\n",
    "    end\n",
    "    #END YOUR CODE\n",
    "    [NumericSplit.new(fname, t_max), ig_max]\n",
    "  end\n",
    "  \n",
    "  def matches? x, fname\n",
    "    x.all? {|r| r[\"features\"].fetch(fname, 0.0).is_a?(Numeric)}\n",
    "  end\n",
    "end\n"
   ]
  },
  {
   "cell_type": "code",
   "execution_count": 184,
   "metadata": {
    "deletable": false,
    "editable": false,
    "nbgrader": {
     "checksum": "3573383ddc30e787d803edd77f01bba3",
     "grade": true,
     "grade_id": "cell-207f3528bfc6a327",
     "locked": true,
     "points": 5,
     "schema_version": 1,
     "solution": false
    }
   },
   "outputs": [],
   "source": [
    "### TEST ###\n",
    "t23_iris_entropy = entropy(class_distribution(iris[\"data\"]))\n",
    "t23_splitter = NumericSplitter.new \n",
    "t23_split_result = t23_splitter.new_split iris[\"data\"], t23_iris_entropy, \"sepal_width\"\n",
    "\n",
    "t23_split, t23_info_gain = t23_split_result\n",
    "assert_not_nil t23_split\n",
    "assert_in_delta 0.18570201019349364, t23_info_gain, 1e-2"
   ]
  },
  {
   "cell_type": "code",
   "execution_count": 185,
   "metadata": {
    "deletable": false,
    "editable": false,
    "nbgrader": {
     "checksum": "df4d7b3fc8d9db0a6d71f2b3ea94eca1",
     "grade": true,
     "grade_id": "cell-44e9212bad1a34b7",
     "locked": true,
     "points": 5,
     "schema_version": 1,
     "solution": false
    }
   },
   "outputs": [],
   "source": [
    "### TEST ### \n",
    "# Checks split value\n",
    "assert_in_delta 3.4, t23_split.value, 1e-2"
   ]
  },
  {
   "cell_type": "markdown",
   "metadata": {},
   "source": [
    "## Question 3.1 (10 Points)\n",
    "\n",
    "After initializing your decision tree, a core method is to find the best split. Going through each feature, find the best split in each feature and the best of those feature. Return the best (split, information gain) pair or a pair of (nil, 0) to indicate that there is no best split.\n",
    "\n",
    "This cell contains the class template that will be used later. Note that the tree has \"symbols\" and not \"strings\" for the names of the fields."
   ]
  },
  {
   "cell_type": "code",
   "execution_count": 186,
   "metadata": {
    "deletable": false,
    "nbgrader": {
     "checksum": "d1b2d80efa2dde0ad1e11f2c763c18a1",
     "grade": false,
     "grade_id": "cell-42e1b1a28012a7a8",
     "locked": false,
     "schema_version": 1,
     "solution": true
    }
   },
   "outputs": [
    {
     "data": {
      "text/plain": [
       ":find_best_split"
      ]
     },
     "execution_count": 186,
     "metadata": {},
     "output_type": "execute_result"
    }
   ],
   "source": [
    "class DecisionTree\n",
    "  attr_reader :tree, :h0\n",
    "  \n",
    "  def initialize splitters, min_size, max_depth\n",
    "    @splitters = splitters\n",
    "    @min_size = min_size\n",
    "    @max_depth = max_depth\n",
    "  end\n",
    "  \n",
    "  def init_dataset dataset\n",
    "    @dataset = dataset\n",
    "    @header = @dataset[\"features\"]\n",
    "    @c_dist = class_distribution @dataset[\"data\"]\n",
    "    @h0 = entropy @c_dist\n",
    "    @tree = {n: @dataset[\"data\"].size, entropy: @h0, dist: @c_dist, split: nil, children: {}}    \n",
    "  end\n",
    "  \n",
    "  def find_best_split dataset, initial_entropy\n",
    "    # BEGIN YOUR CODE\n",
    "    ig_best = 0.0\n",
    "    split_obj_best = nil\n",
    "    \n",
    "    fnames = Set.new\n",
    "    dataset.each do |row|\n",
    "      fnames = fnames | row[\"features\"].keys.to_set\n",
    "    end\n",
    "    \n",
    "    @splitters.each do |splitter|\n",
    "      fnames.each do |fname|\n",
    "        if splitter.matches? dataset, fname \n",
    "          num_split_obj, ig = splitter.new_split dataset, initial_entropy, fname\n",
    "          if ig > ig_best\n",
    "            split_obj_best = num_split_obj\n",
    "            ig_best = ig\n",
    "          end\n",
    "        end\n",
    "      end\n",
    "    end\n",
    "    return [split_obj_best, ig_best]\n",
    "    #END YOUR CODE\n",
    "  end\n",
    "end"
   ]
  },
  {
   "cell_type": "code",
   "execution_count": 187,
   "metadata": {
    "deletable": false,
    "editable": false,
    "nbgrader": {
     "checksum": "14bfb49a2d39f7419be98d53a8c122f5",
     "grade": true,
     "grade_id": "cell-e3c5cb95d7b9a58e",
     "locked": true,
     "points": 5,
     "schema_version": 1,
     "solution": false
    }
   },
   "outputs": [],
   "source": [
    "### TEST ###\n",
    "\n",
    "# Check the first split for iris\n",
    "t31_iris_entropy = entropy(class_distribution(iris[\"data\"]))\n",
    "t31_decision_tree = DecisionTree.new [NumericSplitter.new], 10, 2\n",
    "t31_decision_tree.init_dataset iris\n",
    "\n",
    "t31_split, t31_info_gain = t31_decision_tree.find_best_split iris[\"data\"], t31_decision_tree.h0\n",
    "\n",
    "assert_not_nil t23_split\n",
    "assert_in_delta 0.6365141682948128, t31_info_gain, 1e-2\n"
   ]
  },
  {
   "cell_type": "code",
   "execution_count": 188,
   "metadata": {
    "deletable": false,
    "editable": false,
    "nbgrader": {
     "checksum": "f7d9a8c06a3f8dd5dcad3ace218e7518",
     "grade": true,
     "grade_id": "cell-2ae381d4700a50c5",
     "locked": true,
     "points": 5,
     "schema_version": 1,
     "solution": false
    }
   },
   "outputs": [],
   "source": [
    "### TEST ###\n",
    "# Check the name and value for the first split for iris\n",
    "assert_equal \"petal_length\", t31_split.fname\n",
    "assert_equal 3.0, t31_split.value"
   ]
  },
  {
   "cell_type": "markdown",
   "metadata": {},
   "source": [
    "## Question 3.2 (10 Points)\n",
    "\n",
    "Now we can build the decision tree. First we will initialize the class with a set of spliters and parameters for the smallest size of a leaf and the max_depth.\n",
    "\n",
    "The tree structure consists of the root node, which has the following structure:\n",
    "```\n",
    "@tree = {n: @dataset[\"data\"].size, entropy: @h0, dist: @c_dist, split: nil, children: {}}\n",
    "```\n",
    "\n",
    "The next level of nodes are contain in the ```children``` of the root node. Each child has a key for the corresponding path for the ```split```, which you implemented in ```NumericSplit``` above. \n",
    "\n",
    "The ```build_tree``` is a recursive algorithm which checks for two termination conditions:\n",
    "1. If we have reached ```max_depth```, then return immmedately. A root-only tree as a depth of 1.\n",
    "1. If the number of examples in the node is too small\n",
    "\n",
    "Otherwise, recursively build the tree on the children of the root."
   ]
  },
  {
   "cell_type": "code",
   "execution_count": 189,
   "metadata": {
    "deletable": false,
    "nbgrader": {
     "checksum": "f48ea314a4e56e07f9e65985b3d727e3",
     "grade": false,
     "grade_id": "cell-f4cc8bda6b019d43",
     "locked": false,
     "schema_version": 1,
     "solution": true
    }
   },
   "outputs": [
    {
     "data": {
      "text/plain": [
       ":build_tree"
      ]
     },
     "execution_count": 189,
     "metadata": {},
     "output_type": "execute_result"
    }
   ],
   "source": [
    "class DecisionTree\n",
    "  def train dataset\n",
    "    init_dataset dataset\n",
    "    build_tree @dataset[\"data\"], @tree, @max_depth\n",
    "  end\n",
    "\n",
    "  def build_tree x, root, max_depth\n",
    "    # BEGIN YOUR CODE\n",
    "    if x == nil or max_depth == 1 or root[:n] < @min_size\n",
    "      return\n",
    "    end\n",
    "    \n",
    "    split_best, ig_best = find_best_split x, root[:entropy]\n",
    "    if split_best == nil\n",
    "      return \n",
    "    end\n",
    "    \n",
    "    split_x = split_best.split x \n",
    "    root[:split] = split_best\n",
    "    \n",
    "    keys = split_x.keys\n",
    "    l_key = keys[0]\n",
    "    l_data = split_x[l_key]\n",
    "    l_size = l_data.size\n",
    "    l_dist = class_distribution l_data\n",
    "    l_entropy = entropy l_dist\n",
    "    left_tree = {n: l_size, entropy: l_entropy, dist: l_dist, split: nil, children: {}}\n",
    "    \n",
    "    r_key = keys[1]\n",
    "    r_data = split_x[r_key]\n",
    "    r_size = r_data.size\n",
    "    r_dist = class_distribution r_data\n",
    "    r_entropy = entropy r_dist\n",
    "    right_tree = {n: r_size, entropy: r_entropy, dist: r_dist, split: nil, children: {}}\n",
    "    \n",
    "    \n",
    "    root[:children] = {l_key =>left_tree, r_key => right_tree}\n",
    "    \n",
    "    build_tree l_data, left_tree, max_depth - 1\n",
    "    build_tree r_data, right_tree, max_depth - 1\n",
    "    \n",
    "    #END YOUR CODE\n",
    "  end\n",
    "end"
   ]
  },
  {
   "cell_type": "code",
   "execution_count": null,
   "metadata": {},
   "outputs": [],
   "source": []
  },
  {
   "cell_type": "code",
   "execution_count": 190,
   "metadata": {
    "deletable": false,
    "editable": false,
    "nbgrader": {
     "checksum": "f514cbe9b5d09caae2b5c6055e7c5eff",
     "grade": true,
     "grade_id": "cell-594f6e1cceee3c21",
     "locked": true,
     "points": 3,
     "schema_version": 1,
     "solution": false
    }
   },
   "outputs": [
    {
     "name": "stdout",
     "output_type": "stream",
     "text": [
      "Root Only Tree\n",
      "{\n",
      "  \"n\": 150,\n",
      "  \"entropy\": 1.0986122886681096,\n",
      "  \"dist\": {\n",
      "    \"1\": 0.3333333333333333,\n",
      "    \"2\": 0.3333333333333333,\n",
      "    \"0\": 0.3333333333333333\n",
      "  },\n",
      "  \"split\": null,\n",
      "  \"children\": {\n",
      "  }\n",
      "}\n"
     ]
    }
   ],
   "source": [
    "### TEST ###\n",
    "\n",
    "# Builds a root-only tree and validates that there are no children\n",
    "t32_model = DecisionTree.new [NumericSplitter.new], 10, 1\n",
    "t32_model.train iris\n",
    "t32_tree = t32_model.tree\n",
    "\n",
    "puts \"Root Only Tree\", JSON.pretty_generate(t32_tree)\n",
    "\n",
    "assert_nil t32_tree[:split]\n",
    "assert_true t32_tree[:children].empty?"
   ]
  },
  {
   "cell_type": "code",
   "execution_count": 191,
   "metadata": {
    "deletable": false,
    "editable": false,
    "nbgrader": {
     "checksum": "205e7f2a5db034e74aa740642c9e088b",
     "grade": true,
     "grade_id": "cell-1c728f1b16cfed44",
     "locked": true,
     "points": 3,
     "schema_version": 1,
     "solution": false
    },
    "scrolled": false
   },
   "outputs": [
    {
     "name": "stdout",
     "output_type": "stream",
     "text": [
      "Two-level Tree\n",
      "{\n",
      "  \"n\": 150,\n",
      "  \"entropy\": 1.0986122886681096,\n",
      "  \"dist\": {\n",
      "    \"1\": 0.3333333333333333,\n",
      "    \"2\": 0.3333333333333333,\n",
      "    \"0\": 0.3333333333333333\n",
      "  },\n",
      "  \"split\": \"Numeric[petal_length <=> 3.0]\",\n",
      "  \"children\": {\n",
      "    \"petal_length < 3.0\": {\n",
      "      \"n\": 50,\n",
      "      \"entropy\": 0.0,\n",
      "      \"dist\": {\n",
      "        \"0\": 1.0\n",
      "      },\n",
      "      \"split\": null,\n",
      "      \"children\": {\n",
      "      }\n",
      "    },\n",
      "    \"petal_length >= 3.0\": {\n",
      "      \"n\": 100,\n",
      "      \"entropy\": 0.6931471805599453,\n",
      "      \"dist\": {\n",
      "        \"1\": 0.5,\n",
      "        \"2\": 0.5\n",
      "      },\n",
      "      \"split\": null,\n",
      "      \"children\": {\n",
      "      }\n",
      "    }\n",
      "  }\n",
      "}\n"
     ]
    }
   ],
   "source": [
    "### TEST ###\n",
    "\n",
    "# Builds a tree with one split and checks the split\n",
    "t32_model_2 = DecisionTree.new [NumericSplitter.new], 10, 2\n",
    "t32_model_2.train iris\n",
    "t32_tree_2 = t32_model_2.tree\n",
    "\n",
    "puts \"Two-level Tree\", JSON.pretty_generate(t32_tree_2)\n",
    "\n",
    "assert_not_nil t32_tree_2[:split]\n",
    "assert_equal \"petal_length\", t32_tree_2[:split].fname\n",
    "assert_equal 3.0, t32_tree_2[:split].value\n",
    "assert_equal 2, t32_tree_2[:children].size\n",
    "assert_true(t32_tree_2[:children].values.all? {|c| c[:split].nil?})"
   ]
  },
  {
   "cell_type": "code",
   "execution_count": 192,
   "metadata": {
    "deletable": false,
    "editable": false,
    "nbgrader": {
     "checksum": "d0e7442a8ab81c01816bdc7ccdf69872",
     "grade": true,
     "grade_id": "cell-1e9f1b0f04d4bac4",
     "locked": true,
     "points": 4,
     "schema_version": 1,
     "solution": false
    }
   },
   "outputs": [
    {
     "name": "stdout",
     "output_type": "stream",
     "text": [
      "Multi-level Tree\n",
      "{\n",
      "  \"n\": 150,\n",
      "  \"entropy\": 1.0986122886681096,\n",
      "  \"dist\": {\n",
      "    \"1\": 0.3333333333333333,\n",
      "    \"2\": 0.3333333333333333,\n",
      "    \"0\": 0.3333333333333333\n",
      "  },\n",
      "  \"split\": \"Numeric[petal_length <=> 3.0]\",\n",
      "  \"children\": {\n",
      "    \"petal_length < 3.0\": {\n",
      "      \"n\": 50,\n",
      "      \"entropy\": 0.0,\n",
      "      \"dist\": {\n",
      "        \"0\": 1.0\n",
      "      },\n",
      "      \"split\": null,\n",
      "      \"children\": {\n",
      "      }\n",
      "    },\n",
      "    \"petal_length >= 3.0\": {\n",
      "      \"n\": 100,\n",
      "      \"entropy\": 0.6931471805599453,\n",
      "      \"dist\": {\n",
      "        \"1\": 0.5,\n",
      "        \"2\": 0.5\n",
      "      },\n",
      "      \"split\": \"Numeric[petal_width <=> 1.8]\",\n",
      "      \"children\": {\n",
      "        \"petal_width < 1.8\": {\n",
      "          \"n\": 54,\n",
      "          \"entropy\": 0.30849545083110386,\n",
      "          \"dist\": {\n",
      "            \"1\": 0.9074074074074074,\n",
      "            \"2\": 0.09259259259259259\n",
      "          },\n",
      "          \"split\": \"Numeric[petal_length <=> 5.0]\",\n",
      "          \"children\": {\n",
      "            \"petal_length < 5.0\": {\n",
      "              \"n\": 48,\n",
      "              \"entropy\": 0.10126481756679193,\n",
      "              \"dist\": {\n",
      "                \"1\": 0.9791666666666666,\n",
      "                \"2\": 0.020833333333333332\n",
      "              },\n",
      "              \"split\": \"Numeric[petal_width <=> 1.7]\",\n",
      "              \"children\": {\n",
      "                \"petal_width < 1.7\": {\n",
      "                  \"n\": 47,\n",
      "                  \"entropy\": 0.0,\n",
      "                  \"dist\": {\n",
      "                    \"1\": 1.0\n",
      "                  },\n",
      "                  \"split\": null,\n",
      "                  \"children\": {\n",
      "                  }\n",
      "                },\n",
      "                \"petal_width >= 1.7\": {\n",
      "                  \"n\": 1,\n",
      "                  \"entropy\": 0.0,\n",
      "                  \"dist\": {\n",
      "                    \"2\": 1.0\n",
      "                  },\n",
      "                  \"split\": null,\n",
      "                  \"children\": {\n",
      "                  }\n",
      "                }\n",
      "              }\n",
      "            },\n",
      "            \"petal_length >= 5.0\": {\n",
      "              \"n\": 6,\n",
      "              \"entropy\": 0.6365141682948128,\n",
      "              \"dist\": {\n",
      "                \"1\": 0.3333333333333333,\n",
      "                \"2\": 0.6666666666666666\n",
      "              },\n",
      "              \"split\": null,\n",
      "              \"children\": {\n",
      "              }\n",
      "            }\n",
      "          }\n",
      "        },\n",
      "        \"petal_width >= 1.8\": {\n",
      "          \"n\": 46,\n",
      "          \"entropy\": 0.10473243910508653,\n",
      "          \"dist\": {\n",
      "            \"2\": 0.9782608695652174,\n",
      "            \"1\": 0.021739130434782608\n",
      "          },\n",
      "          \"split\": \"Numeric[petal_length <=> 4.9]\",\n",
      "          \"children\": {\n",
      "            \"petal_length < 4.9\": {\n",
      "              \"n\": 3,\n",
      "              \"entropy\": 0.6365141682948128,\n",
      "              \"dist\": {\n",
      "                \"2\": 0.6666666666666666,\n",
      "                \"1\": 0.3333333333333333\n",
      "              },\n",
      "              \"split\": null,\n",
      "              \"children\": {\n",
      "              }\n",
      "            },\n",
      "            \"petal_length >= 4.9\": {\n",
      "              \"n\": 43,\n",
      "              \"entropy\": 0.0,\n",
      "              \"dist\": {\n",
      "                \"2\": 1.0\n",
      "              },\n",
      "              \"split\": null,\n",
      "              \"children\": {\n",
      "              }\n",
      "            }\n",
      "          }\n",
      "        }\n",
      "      }\n",
      "    }\n",
      "  }\n",
      "}\n"
     ]
    }
   ],
   "source": [
    "### TEST ###\n",
    "\n",
    "# Builds a full tree with a large depth and checks a few paths\n",
    "t32_model_3 = DecisionTree.new [NumericSplitter.new], 25, 10\n",
    "t32_model_3.train iris\n",
    "t32_tree_3 = t32_model_3.tree\n",
    "\n",
    "puts \"Multi-level Tree\", JSON.pretty_generate(t32_tree_3)\n",
    "\n",
    "assert_equal \"petal_length\", t32_tree_3[:split].fname\n",
    "assert_equal \"petal_width\", t32_tree_3[:children][\"petal_length >= 3.0\"][:split].fname\n",
    "assert_equal \"petal_length\", t32_tree_3[:children][\"petal_length >= 3.0\"][:children][\"petal_width < 1.8\"][:split].fname\n"
   ]
  },
  {
   "cell_type": "markdown",
   "metadata": {},
   "source": [
    "## Question 3.3 (10 Points)\n",
    "\n",
    "Now, add a recursive evaluator for an example. This should return the class name with the highest posterior probability within the leaf. In the event of a tie, take the smallest class index. The score is not important for the following"
   ]
  },
  {
   "cell_type": "code",
   "execution_count": 193,
   "metadata": {
    "deletable": false,
    "nbgrader": {
     "checksum": "0202c75636c746a3fefa1c34f3a8f897",
     "grade": false,
     "grade_id": "cell-b7f75a7e794733cc",
     "locked": false,
     "schema_version": 1,
     "solution": true
    }
   },
   "outputs": [
    {
     "data": {
      "text/plain": [
       ":eval_tree"
      ]
     },
     "execution_count": 193,
     "metadata": {},
     "output_type": "execute_result"
    }
   ],
   "source": [
    "class DecisionTree\n",
    "  def predict x\n",
    "    return eval_tree x, @tree\n",
    "  end\n",
    "  \n",
    "  def eval_tree x, root\n",
    "    # BEGIN YOUR CODE\n",
    "    if root[:children].empty?\n",
    "      return root[:dist].key(root[:dist].values.max)\n",
    "    end\n",
    "    path = root[:split].test x\n",
    "    child = root[:children][path]\n",
    "    return eval_tree x, child\n",
    "    #END YOUR CODE\n",
    "  end\n",
    "end\n",
    "\n"
   ]
  },
  {
   "cell_type": "code",
   "execution_count": 194,
   "metadata": {
    "deletable": false,
    "editable": false,
    "nbgrader": {
     "checksum": "0014d0549b555e4cec3e10d6b81eff43",
     "grade": true,
     "grade_id": "cell-e35c4e066990eb1a",
     "locked": true,
     "points": 0,
     "schema_version": 1,
     "solution": false
    }
   },
   "outputs": [],
   "source": [
    "### TEST ###\n",
    "\n",
    "# Tests the evaluator with the two-level tree\n",
    "t33_model = DecisionTree.new [NumericSplitter.new], 10, 2\n",
    "t33_model.train iris\n",
    "t33_tree = t33_model.tree\n",
    "\n",
    "t33_x1 = {\"features\" => {\"petal_length\" => 1.2}}\n",
    "assert_equal 0, t33_model.predict(t33_x1)\n",
    "\n",
    "t33_x2 = {\"features\" => {\"petal_length\" => 3.1}}\n",
    "assert_equal 1, t33_model.predict(t33_x2)\n"
   ]
  },
  {
   "cell_type": "markdown",
   "metadata": {},
   "source": [
    "## Question 4.1 (10 Points)\n",
    "\n",
    "Create a \"confusion matrix\" for your evaluation dataset in which the rows are the predicted label and columns are the actual label. The value contains the number of examples predicted in the row class but actually in the column class. The input to this function is dataset, containing the original labels, and an array of predictions."
   ]
  },
  {
   "cell_type": "code",
   "execution_count": 195,
   "metadata": {
    "deletable": false,
    "nbgrader": {
     "checksum": "d3fdcf5001b2dbd5a8b89d417df745a0",
     "grade": false,
     "grade_id": "cell-379b18020d9b7795",
     "locked": false,
     "schema_version": 1,
     "solution": true
    }
   },
   "outputs": [
    {
     "data": {
      "text/plain": [
       ":confusion_matrix"
      ]
     },
     "execution_count": 195,
     "metadata": {},
     "output_type": "execute_result"
    }
   ],
   "source": [
    "def confusion_matrix dataset, predictions\n",
    "  # BEGIN YOUR CODE\n",
    "  classes = dataset[\"classes\"]\n",
    "  class_size = classes.size\n",
    "  conf_matrix =Array.new(class_size) { Array.new(class_size,0) }\n",
    "  \n",
    "  data = dataset[\"data\"]\n",
    "  data.each_with_index do |row, index|\n",
    "    predictions.each_with_index do |predict, p_index| \n",
    "      if index == p_index\n",
    "        conf_matrix[predict][row[\"label\"]] += 1\n",
    "      end\n",
    "    end\n",
    "  end\n",
    "  conf_matrix\n",
    "  \n",
    "  # END YOUR CODE\n",
    "end\n"
   ]
  },
  {
   "cell_type": "code",
   "execution_count": 196,
   "metadata": {
    "deletable": false,
    "editable": false,
    "nbgrader": {
     "checksum": "6c3f0f3a29cec417d92c374ac18040d0",
     "grade": true,
     "grade_id": "cell-5d23b9980ea53720",
     "locked": true,
     "points": 10,
     "schema_version": 1,
     "solution": false
    },
    "scrolled": true
   },
   "outputs": [],
   "source": [
    "### TEST ###\n",
    "\n",
    "# Create a test dataset with no features (no required for evaluation) and two labels\n",
    "t41_dataset = {\n",
    "  \"classes\" => [0,1],\n",
    "  \"data\" => [\n",
    "    {\"features\" => {}, \"label\" => 0},\n",
    "    {\"features\" => {}, \"label\" => 0},\n",
    "    {\"features\" => {}, \"label\" => 1}\n",
    "  ]\n",
    "}\n",
    "#Assume the classifier predicted these labels\n",
    "t41_predictions = [0,1,1]\n",
    "\n",
    "t41_mat = confusion_matrix t41_dataset, t41_predictions\n",
    "assert_equal 2, t41_mat.size\n",
    "assert_equal 1, t41_mat[0][0]\n",
    "assert_equal 0, t41_mat[0][1]\n",
    "assert_equal 1, t41_mat[1][1]"
   ]
  },
  {
   "cell_type": "markdown",
   "metadata": {},
   "source": [
    "## Question 4.2 (10 Points)\n",
    "\n",
    "Let's evaluate your models. Compute the accuracy, which is the proportion of correct answers."
   ]
  },
  {
   "cell_type": "code",
   "execution_count": 197,
   "metadata": {
    "deletable": false,
    "nbgrader": {
     "checksum": "16ba5261d324b6303b2c573845513122",
     "grade": false,
     "grade_id": "cell-3c7ddc264f50ff64",
     "locked": false,
     "schema_version": 1,
     "solution": true
    }
   },
   "outputs": [
    {
     "data": {
      "text/plain": [
       ":accuracy"
      ]
     },
     "execution_count": 197,
     "metadata": {},
     "output_type": "execute_result"
    }
   ],
   "source": [
    "def accuracy conf_mat\n",
    "  # BEGIN YOUR CODE\n",
    "  total_size = 0\n",
    "  true_size = 0\n",
    "  conf_mat.each_with_index do |row, i|\n",
    "    row.each_with_index do |val, j|\n",
    "      if i == j\n",
    "        true_size += val\n",
    "      end\n",
    "      total_size += val\n",
    "    end\n",
    "  end\n",
    "  acc = true_size.to_f / total_size \n",
    "  acc\n",
    "  #END YOUR CODE\n",
    "end"
   ]
  },
  {
   "cell_type": "code",
   "execution_count": 198,
   "metadata": {
    "deletable": false,
    "editable": false,
    "nbgrader": {
     "checksum": "0658b9c85d9f7357666116b83d4adbd9",
     "grade": true,
     "grade_id": "cell-0d67bbe141afecf4",
     "locked": true,
     "points": 10,
     "schema_version": 1,
     "solution": false
    }
   },
   "outputs": [],
   "source": [
    "### TEST ### \n",
    "\n",
    "# Tests accuracy for the example above\n",
    "t41_dataset = {\n",
    "  \"classes\" => [0,1],\n",
    "  \"data\" => [\n",
    "    {\"features\" => {}, \"label\" => 0},\n",
    "    {\"features\" => {}, \"label\" => 0},\n",
    "    {\"features\" => {}, \"label\" => 1},\n",
    "    {\"features\" => {}, \"label\" => 1}  \n",
    "  ]\n",
    "}\n",
    "t41_predictions = [0,1,1,1]\n",
    "t41_mat = confusion_matrix t41_dataset, t41_predictions\n",
    "assert_equal 0.75, accuracy(t41_mat)"
   ]
  },
  {
   "cell_type": "markdown",
   "metadata": {},
   "source": [
    "## Question 4.3 (5 Points)\n",
    "\n",
    "Calculate the cross-validation accuracy of the decision tree on the iris dataset. In $k$-fold cross-validation, the dataset is divided into $k$ equal-sized partitions. In each of $k$ folds, each $k-1$ of the partitions is used as a training set and the remaining partition is the test set. The model is trained on the training set and evaluated on the testing set. The average and standard deviation of accuracy is reported.\n",
    "\n",
    "Cross validation has been implemented for you. All you need to do is run the training and testing parts and fill in the accuracy array."
   ]
  },
  {
   "cell_type": "code",
   "execution_count": 203,
   "metadata": {},
   "outputs": [
    {
     "data": {
      "text/plain": [
       ":stdev"
      ]
     },
     "execution_count": 203,
     "metadata": {},
     "output_type": "execute_result"
    }
   ],
   "source": [
    "def cross_validate data, folds, &block\n",
    "  dataset = data[\"data\"]\n",
    "  fold_size = dataset.size / folds\n",
    "  subsets = []\n",
    "  dataset.shuffle.each_slice(fold_size) do |subset|\n",
    "    subsets << subset\n",
    "  end\n",
    "  i_folds = Array.new(folds) {|i| i}\n",
    "  \n",
    "  i_folds.collect do |fold|\n",
    "    test = subsets[fold]\n",
    "    train = (i_folds - [fold]).flat_map {|t_fold| subsets[t_fold]}\n",
    "    train_data = data.clone\n",
    "    train_data[\"data\"] = train\n",
    "    \n",
    "    test_data = data.clone\n",
    "    test_data[\"data\"] = test\n",
    "    \n",
    "    yield train_data, test_data, fold\n",
    "  end\n",
    "end\n",
    "\n",
    "def mean x\n",
    "  sum = x.inject(0.0) {|u,v| u += v}\n",
    "  sum / x.size\n",
    "end\n",
    "\n",
    "def stdev x\n",
    "  m = mean x\n",
    "  sum = x.inject(0.0) {|u,v| u += (v - m) ** 2.0}\n",
    "  Math.sqrt(sum / (x.size - 1))\n",
    "end"
   ]
  },
  {
   "cell_type": "code",
   "execution_count": 210,
   "metadata": {
    "deletable": false,
    "nbgrader": {
     "checksum": "1745ce727c51a42c88b06a3b7b8330c4",
     "grade": false,
     "grade_id": "cell-97f37c223900cdaf",
     "locked": false,
     "schema_version": 1,
     "solution": true
    }
   },
   "outputs": [
    {
     "data": {
      "text/plain": [
       ":cross_validation_accuracy"
      ]
     },
     "execution_count": 210,
     "metadata": {},
     "output_type": "execute_result"
    }
   ],
   "source": [
    "def cross_validation_accuracy iris, folds = 10, min_size = 10, max_depth = 50\n",
    "  acc_arr = Array.new\n",
    "  cross_validate iris, folds do |train, test|\n",
    "    # BEGIN YOUR CODE\n",
    "    dec_tree = DecisionTree.new [NumericSplitter.new], min_size, max_depth\n",
    "    dec_tree.train train\n",
    "    pred_arr = Array.new\n",
    "    data = test[\"data\"]\n",
    "    data.each do |row|\n",
    "      pred_arr << dec_tree.predict(row)\n",
    "    end\n",
    "    mat = confusion_matrix test, pred_arr\n",
    "    acc_arr << accuracy(mat)\n",
    "    #END YOUR CODE\n",
    "  end\n",
    "  acc_arr\n",
    "end\n"
   ]
  },
  {
   "cell_type": "code",
   "execution_count": 211,
   "metadata": {
    "deletable": false,
    "editable": false,
    "nbgrader": {
     "checksum": "4b62812af97267b73b80c1dc34cb8d69",
     "grade": true,
     "grade_id": "cell-8382d9767b9d434f",
     "locked": true,
     "points": 2,
     "schema_version": 1,
     "solution": false
    }
   },
   "outputs": [],
   "source": [
    "### TEST ###\n",
    "\n",
    "# Iris accuracy should be 93% +/- 6%\n",
    "t43_iris_accuracy = cross_validation_accuracy iris\n",
    "assert_equal 10, t43_iris_accuracy.size\n",
    "assert_in_delta 0.93, mean(t43_iris_accuracy), 0.1\n",
    "assert_in_delta 0.06, stdev(t43_iris_accuracy), 0.1"
   ]
  },
  {
   "cell_type": "code",
   "execution_count": 212,
   "metadata": {
    "deletable": false,
    "editable": false,
    "nbgrader": {
     "checksum": "8c33e04bdfacff2fdaaa586335cca9df",
     "grade": true,
     "grade_id": "cell-c3c580880bd4df50",
     "locked": true,
     "points": 3,
     "schema_version": 1,
     "solution": false
    }
   },
   "outputs": [],
   "source": [
    "### TEST ###\n",
    "\n",
    "# Spambase accuracy should be 85% +/- 1%\n",
    "# Note that this will take a few minutes\n",
    "t43_spambase_accuracy = cross_validation_accuracy spambase, 5\n",
    "assert_equal 5, t43_spambase_accuracy.size\n",
    "assert_in_delta 0.85, mean(t43_spambase_accuracy), 0.1\n",
    "assert_in_delta 0.01, stdev(t43_spambase_accuracy), 0.05"
   ]
  },
  {
   "cell_type": "markdown",
   "metadata": {},
   "source": [
    "## Question 4.4 (2 points)\n",
    "\n",
    "Varying the value $\\eta$, the proportion of the training set to use as the ```min_size``` parameter, determine which value of $\\eta$ has the highest mean in 10-fold cross validation on the **iris** dataset. "
   ]
  },
  {
   "cell_type": "code",
   "execution_count": 213,
   "metadata": {
    "deletable": false,
    "nbgrader": {
     "checksum": "98f66786d0f0fcb72d4501c99258b5fe",
     "grade": false,
     "grade_id": "cell-a630c0537cc4f1a8",
     "locked": false,
     "schema_version": 1,
     "solution": true
    }
   },
   "outputs": [
    {
     "data": {
      "text/plain": [
       "[nil, nil, nil, nil, nil, nil, nil, nil, nil, nil, nil, nil, nil, nil, nil, nil, nil, nil]"
      ]
     },
     "execution_count": 213,
     "metadata": {},
     "output_type": "execute_result"
    }
   ],
   "source": [
    "etas = [0.05, 0.10, 0.15, 0.20, 0.25, 0.3, 0.35, 0.4, 0.45, 0.5, 0.55, 0.6, 0.65, 0.7, 0.75, 0.8, 0.85, 0.9]\n",
    "accuracy_for_eta = etas.collect do |eta|\n",
    "  # BEGIN YOUR CODE\n",
    "  \n",
    "  #END YOUR CODE\n",
    "end"
   ]
  },
  {
   "cell_type": "code",
   "execution_count": 214,
   "metadata": {
    "deletable": false,
    "editable": false,
    "nbgrader": {
     "checksum": "b3e39262964126e6880064f2f355bf47",
     "grade": true,
     "grade_id": "cell-8a9550a03db02d72",
     "locked": true,
     "points": 2,
     "schema_version": 1,
     "solution": false
    }
   },
   "outputs": [
    {
     "ename": "ArgumentError",
     "evalue": "comparison of Integer with nil failed",
     "output_type": "error",
     "traceback": [
      "\u001b[31mArgumentError\u001b[0m: comparison of Integer with nil failed",
      "\u001b[37m<main>:3:in `<'\u001b[0m",
      "\u001b[37m<main>:3:in `block in <main>'\u001b[0m",
      "\u001b[37m<main>:3:in `each'\u001b[0m",
      "\u001b[37m<main>:3:in `all?'\u001b[0m",
      "\u001b[37m<main>:3:in `<main>'\u001b[0m",
      "\u001b[37m/usr/local/rvm/gems/ruby-2.5.1/gems/iruby-0.3/lib/iruby/backend.rb:44:in `eval'\u001b[0m",
      "\u001b[37m/usr/local/rvm/gems/ruby-2.5.1/gems/iruby-0.3/lib/iruby/backend.rb:44:in `eval'\u001b[0m",
      "\u001b[37m/usr/local/rvm/gems/ruby-2.5.1/gems/iruby-0.3/lib/iruby/backend.rb:12:in `eval'\u001b[0m",
      "\u001b[37m/usr/local/rvm/gems/ruby-2.5.1/gems/iruby-0.3/lib/iruby/kernel.rb:87:in `execute_request'\u001b[0m",
      "\u001b[37m/usr/local/rvm/gems/ruby-2.5.1/gems/iruby-0.3/lib/iruby/kernel.rb:47:in `dispatch'\u001b[0m",
      "\u001b[37m/usr/local/rvm/gems/ruby-2.5.1/gems/iruby-0.3/lib/iruby/kernel.rb:37:in `run'\u001b[0m",
      "\u001b[37m/usr/local/rvm/gems/ruby-2.5.1/gems/iruby-0.3/lib/iruby/command.rb:70:in `run_kernel'\u001b[0m",
      "\u001b[37m/usr/local/rvm/gems/ruby-2.5.1/gems/iruby-0.3/lib/iruby/command.rb:34:in `run'\u001b[0m",
      "\u001b[37m/usr/local/rvm/gems/ruby-2.5.1/gems/iruby-0.3/bin/iruby:5:in `<top (required)>'\u001b[0m",
      "\u001b[37m/usr/local/rvm/gems/ruby-2.5.1/bin/iruby:23:in `load'\u001b[0m",
      "\u001b[37m/usr/local/rvm/gems/ruby-2.5.1/bin/iruby:23:in `<main>'\u001b[0m",
      "\u001b[37m/usr/local/rvm/gems/ruby-2.5.1/bin/ruby_executable_hooks:15:in `eval'\u001b[0m",
      "\u001b[37m/usr/local/rvm/gems/ruby-2.5.1/bin/ruby_executable_hooks:15:in `<main>'\u001b[0m"
     ]
    }
   ],
   "source": [
    "### TEST ### \n",
    "\n",
    "assert_equal 18, accuracy_for_eta.size\n",
    "assert_true accuracy_for_eta.all? {|a| 0 < a && a < 1}\n",
    "assert_true accuracy_for_eta.min < 0.6\n",
    "assert_true accuracy_for_eta.max > 0.9\n",
    "\n",
    "Daru::DataFrame.new({x: etas, y: accuracy_for_eta}).plot(type: :line, x: :x, y: :y) do |plot, diagram|\n",
    "  plot.x_label \"Eta\"\n",
    "  plot.y_label \"Iris Accuracy\"\n",
    "end"
   ]
  },
  {
   "cell_type": "markdown",
   "metadata": {},
   "source": [
    "## Question 4.5 (3 Points)\n",
    "\n",
    "Answer the following questions in the function below by setting your answers in an array. Example\n",
    "```\n",
    "questions = [\"What is 2 + 2? Is it 4 (\"A\") or 22 (\"B\")\"]\n",
    "answers = [\"A\"]\n",
    "```\n",
    "\n",
    "If you change the question, you will not get credit for the answer."
   ]
  },
  {
   "cell_type": "code",
   "execution_count": 215,
   "metadata": {
    "deletable": false,
    "nbgrader": {
     "checksum": "17e6123fc0fe03b0e7857064509b2d71",
     "grade": false,
     "grade_id": "cell-fdc8d1a1eb3a691f",
     "locked": false,
     "schema_version": 1,
     "solution": true
    }
   },
   "outputs": [
    {
     "data": {
      "text/plain": [
       ":q45_answer"
      ]
     },
     "execution_count": 215,
     "metadata": {},
     "output_type": "execute_result"
    }
   ],
   "source": [
    "def q45_answer(qs)\n",
    "  questions = [\n",
    "    \"Does accuracy decrease ('A') or increase ('B') as we increase eta?\",\n",
    "    \"Do you think that this trend is particular to this dataset ('A') or common among other datasets ('B')\",\n",
    "    \"What property does the eta control? Overfitting ('A') or Convergence ('B')\",    \n",
    "  ]\n",
    "\n",
    "  # BEGIN YOUR CODE\n",
    "  return [\"B\",\"B\",\"B\"]\n",
    "  #END YOUR CODE\n",
    "  answers.each.with_index {|answer, question_id| qs[questions[question_id]] = answer}\n",
    "end"
   ]
  },
  {
   "cell_type": "code",
   "execution_count": 216,
   "metadata": {
    "deletable": false,
    "editable": false,
    "nbgrader": {
     "checksum": "3b859cf8f67c67e8f9fde639ccfa86bb",
     "grade": true,
     "grade_id": "cell-172f9de9bc9bdd86",
     "locked": true,
     "points": 3,
     "schema_version": 1,
     "solution": false
    }
   },
   "outputs": [],
   "source": [
    "### HIDDEN TEST ###\n"
   ]
  },
  {
   "cell_type": "code",
   "execution_count": null,
   "metadata": {},
   "outputs": [],
   "source": []
  },
  {
   "cell_type": "code",
   "execution_count": null,
   "metadata": {},
   "outputs": [],
   "source": []
  }
 ],
 "metadata": {
  "kernelspec": {
   "display_name": "Ruby 2.5.1",
   "language": "ruby",
   "name": "ruby"
  },
  "language_info": {
   "file_extension": ".rb",
   "mimetype": "application/x-ruby",
   "name": "ruby",
   "version": "2.5.1"
  }
 },
 "nbformat": 4,
 "nbformat_minor": 2
}
