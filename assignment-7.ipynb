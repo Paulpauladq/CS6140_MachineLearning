{
 "cells": [
  {
   "cell_type": "markdown",
   "metadata": {},
   "source": [
    "# CS6140 Assignments\n",
    "\n",
    "**Instructions**\n",
    "1. In each assignment cell, look for the block:\n",
    " ```\n",
    "  #BEGIN YOUR CODE\n",
    "  raise NotImplementedError.new()\n",
    "  #END YOUR CODE\n",
    " ```\n",
    "1. Replace this block with your solution.\n",
    "1. Test your solution by running the cells following your block (indicated by ##TEST##)\n",
    "1. Click the \"Validate\" button above to validate the work.\n",
    "\n",
    "**Notes**\n",
    "* You may add other cells and functions as needed\n",
    "* Keep all code in the same notebook\n",
    "* In order to receive credit, code must \"Validate\" on the JupyterHub server\n",
    "\n",
    "---"
   ]
  },
  {
   "cell_type": "code",
   "execution_count": null,
   "metadata": {},
   "outputs": [],
   "source": []
  },
  {
   "cell_type": "markdown",
   "metadata": {
    "deletable": false,
    "editable": false,
    "nbgrader": {
     "checksum": "eb0bd961a0f8b41794beae97a6feace3",
     "grade": false,
     "grade_id": "cell-c71b77d5949e364b",
     "locked": true,
     "schema_version": 1,
     "solution": false
    }
   },
   "source": [
    "# Assignment 7: Decision Trees\n",
    "\n",
    "---\n",
    "** Setup **"
   ]
  },
  {
   "cell_type": "code",
   "execution_count": 227,
   "metadata": {
    "deletable": false,
    "editable": false,
    "nbgrader": {
     "checksum": "d8fcac9d37dbc0b4c7596069c64ae8cc",
     "grade": false,
     "grade_id": "cell-87cf172891f05123",
     "locked": true,
     "schema_version": 1,
     "solution": false
    }
   },
   "outputs": [
    {
     "data": {
      "text/plain": [
       ":read_sparse_data_from_csv"
      ]
     },
     "execution_count": 227,
     "metadata": {},
     "output_type": "execute_result"
    }
   ],
   "source": [
    "require 'test/unit/assertions'\n",
    "require 'daru'\n",
    "require 'distribution'\n",
    "require 'json'\n",
    "\n",
    "include Test::Unit::Assertions\n",
    "\n",
    "## Loads data files\n",
    "def read_sparse_data_from_csv prefix\n",
    "  data = []\n",
    "  classes = Hash.new {|h,k| h[k] = 0}\n",
    "  header = File.read(prefix + \".header\").chomp.split(\",\")  \n",
    "  \n",
    "  File.open(prefix + \".csv\").each_line.with_index do |l, i|\n",
    "    a = l.chomp.split \",\"\n",
    "    next if a.empty?\n",
    "    row = {\"features\" => Hash.new}\n",
    "    \n",
    "    header.each.with_index do |k, i|\n",
    "      v = a[i].to_f\n",
    "      if k == \"label\"\n",
    "        row[\"label\"] = v.to_i\n",
    "      else\n",
    "        next if v.zero?\n",
    "        row[\"features\"][k] = v\n",
    "      end\n",
    "    end\n",
    "    classes[row[\"label\"]] += 1\n",
    "    \n",
    "    data << row\n",
    "  end\n",
    "  return {\"classes\" => classes, \"features\" => header[0,header.size - 1], \"data\" => data}\n",
    "end"
   ]
  },
  {
   "cell_type": "code",
   "execution_count": 228,
   "metadata": {
    "deletable": false,
    "editable": false,
    "nbgrader": {
     "checksum": "571b82826ad68ecd7a0f71bfd3f8cf33",
     "grade": false,
     "grade_id": "cell-9331c98af773eba1",
     "locked": true,
     "schema_version": 1,
     "solution": false
    }
   },
   "outputs": [
    {
     "data": {
      "text/plain": [
       "[{\"features\"=>{\"sepal_length\"=>7.0, \"sepal_width\"=>3.2, \"petal_length\"=>4.7, \"petal_width\"=>1.4}, \"label\"=>1}, {\"features\"=>{\"sepal_length\"=>5.7, \"sepal_width\"=>3.0, \"petal_length\"=>4.2, \"petal_width\"=>1.2}, \"label\"=>1}]"
      ]
     },
     "execution_count": 228,
     "metadata": {},
     "output_type": "execute_result"
    }
   ],
   "source": [
    "#Preview 2 lines from the Iris dataset\n",
    "iris = read_sparse_data_from_csv \"iris\"\n",
    "iris[\"data\"][0,2]"
   ]
  },
  {
   "cell_type": "code",
   "execution_count": 229,
   "metadata": {
    "deletable": false,
    "editable": false,
    "nbgrader": {
     "checksum": "a779203db3d892700e418595644832db",
     "grade": false,
     "grade_id": "cell-fde7898c1d8c4ad9",
     "locked": true,
     "schema_version": 1,
     "solution": false
    }
   },
   "outputs": [
    {
     "data": {
      "text/plain": [
       "[{\"features\"=>{\"word_freq_our\"=>0.27, \"word_freq_mail\"=>0.83, \"word_freq_you\"=>0.27, \"word_freq_your\"=>0.27, \"word_freq_font\"=>8.58, \"char_freq_[\"=>0.092, \"char_freq_$\"=>0.185, \"char_freq_#\"=>0.232, \"capital_run_length_average\"=>7.313, \"capital_run_length_longest\"=>99.0, \"capital_run_length_total\"=>607.0}, \"label\"=>1}, {\"features\"=>{\"word_freq_your\"=>0.9, \"word_freq_george\"=>0.9, \"word_freq_data\"=>0.9, \"char_freq_[\"=>0.14, \"capital_run_length_average\"=>3.472, \"capital_run_length_longest\"=>28.0, \"capital_run_length_total\"=>125.0}, \"label\"=>0}]"
      ]
     },
     "execution_count": 229,
     "metadata": {},
     "output_type": "execute_result"
    }
   ],
   "source": [
    "#Preview 2 lines from the Spambase dataset\n",
    "spambase = read_sparse_data_from_csv \"spambase\"\n",
    "spambase[\"data\"][0,2]"
   ]
  },
  {
   "cell_type": "markdown",
   "metadata": {
    "deletable": false,
    "editable": false,
    "nbgrader": {
     "checksum": "df95999ed7137938ffe299bf72b041d2",
     "grade": false,
     "grade_id": "cell-a4bf7d3691f65b1d",
     "locked": true,
     "schema_version": 1,
     "solution": false
    }
   },
   "source": [
    "---\n",
    "## Question 1.1 (10 Points)\n",
    "Write a function that calculates the class distribution, $p(c)$, for all classes $c$ for a dataset. "
   ]
  },
  {
   "cell_type": "code",
   "execution_count": 230,
   "metadata": {
    "deletable": false,
    "nbgrader": {
     "checksum": "a608324a45af947d974127e7f1c66a70",
     "grade": false,
     "grade_id": "cell-f722cb7c1c26d6af",
     "locked": false,
     "schema_version": 1,
     "solution": true
    }
   },
   "outputs": [
    {
     "data": {
      "text/plain": [
       ":class_distribution"
      ]
     },
     "execution_count": 230,
     "metadata": {},
     "output_type": "execute_result"
    }
   ],
   "source": [
    "def class_distribution dataset\n",
    "  # BEGIN YOUR CODE\n",
    "  class_group = dataset.group_by{|row| row[\"label\"]}\n",
    "  class_dist = Hash.new\n",
    "  ## size of rows\n",
    "  total_size = dataset.size\n",
    "  class_num = class_group.size\n",
    "  \n",
    "  class_group.each_key do |key|\n",
    "    class_dist[key] = (class_group[key].size.to_f / total_size.to_f).to_f\n",
    "  end\n",
    "  class_dist\n",
    "  #END YOUR CODE\n",
    "end"
   ]
  },
  {
   "cell_type": "code",
   "execution_count": 231,
   "metadata": {
    "deletable": false,
    "editable": false,
    "nbgrader": {
     "checksum": "0568b317183e3cc9cdbe9557611b7a5b",
     "grade": true,
     "grade_id": "cell-7effedd229c86a49",
     "locked": true,
     "points": 2.5,
     "schema_version": 1,
     "solution": false
    }
   },
   "outputs": [],
   "source": [
    "### TESTS ###\n",
    "# Check that there are three classes\n",
    "t1_iris_dist = class_distribution iris[\"data\"]\n",
    "t1_iris_num_classes = 3\n",
    "assert_equal(t1_iris_num_classes, t1_iris_dist.size)"
   ]
  },
  {
   "cell_type": "code",
   "execution_count": 232,
   "metadata": {
    "deletable": false,
    "editable": false,
    "nbgrader": {
     "checksum": "6c75dfc228ffdf1b92a266c5472bd0a8",
     "grade": true,
     "grade_id": "cell-68f03a4c2c4b24e9",
     "locked": true,
     "points": 2.5,
     "schema_version": 1,
     "solution": false
    }
   },
   "outputs": [
    {
     "data": {
      "text/plain": [
       "3"
      ]
     },
     "execution_count": 232,
     "metadata": {},
     "output_type": "execute_result"
    }
   ],
   "source": [
    "### TESTS ###\n",
    "# Check that each class has a probability 1/3\n",
    "t1_iris_dist = class_distribution iris[\"data\"]\n",
    "t1_iris_num_classes = 3\n",
    "t1_iris_num_classes.times do |cls|\n",
    "  assert_in_delta t1_iris_dist[cls], 0.33333, 1e-4\n",
    "end"
   ]
  },
  {
   "cell_type": "code",
   "execution_count": 233,
   "metadata": {
    "deletable": false,
    "editable": false,
    "nbgrader": {
     "checksum": "e6de324d70e3bc9b54a1c3aec6daf3cc",
     "grade": true,
     "grade_id": "cell-1be06f9c3b477a05",
     "locked": true,
     "points": 2.5,
     "schema_version": 1,
     "solution": false
    }
   },
   "outputs": [],
   "source": [
    "### TESTS ###\n",
    "t1_spambase_dist = class_distribution spambase[\"data\"]\n",
    "t1_spambase_num_classes = 2\n",
    "assert_equal(t1_spambase_num_classes, t1_spambase_dist.size)"
   ]
  },
  {
   "cell_type": "code",
   "execution_count": 234,
   "metadata": {
    "deletable": false,
    "editable": false,
    "nbgrader": {
     "checksum": "e7984c9d5a69ff5dea1759d823670bdd",
     "grade": true,
     "grade_id": "cell-8dbceb0d54b0eae3",
     "locked": true,
     "points": 2.5,
     "schema_version": 1,
     "solution": false
    }
   },
   "outputs": [],
   "source": [
    "### TESTS ###\n",
    "t1_spambase_dist = class_distribution spambase[\"data\"]\n",
    "assert_in_delta t1_spambase_dist[0], 0.6, 1e-1\n",
    "assert_in_delta t1_spambase_dist[1], 0.4, 1e-1"
   ]
  },
  {
   "cell_type": "markdown",
   "metadata": {
    "deletable": false,
    "editable": false,
    "nbgrader": {
     "checksum": "2524bb839951cf6e7252b0b07e46d9c0",
     "grade": false,
     "grade_id": "cell-106849099cbcbabb",
     "locked": true,
     "schema_version": 1,
     "solution": false
    }
   },
   "source": [
    "## Question 2 (20 Points)\n",
    "Adapting your code for calculating the entropy from [Assignment 1](../assignment-1/assignment-1.ipynb), use input from a hash table rather than an array. "
   ]
  },
  {
   "cell_type": "code",
   "execution_count": 260,
   "metadata": {
    "deletable": false,
    "nbgrader": {
     "checksum": "7c2e736990892c326c902c56c0765171",
     "grade": false,
     "grade_id": "cell-6e4de9e476f135ac",
     "locked": false,
     "schema_version": 1,
     "solution": true
    }
   },
   "outputs": [
    {
     "data": {
      "text/plain": [
       ":entropy"
      ]
     },
     "execution_count": 260,
     "metadata": {},
     "output_type": "execute_result"
    }
   ],
   "source": [
    "def entropy dist\n",
    "  # BEGIN YOUR CODE\n",
    "  dist_copy = dist.clone\n",
    "  sum = 0.0\n",
    "  dist_size = dist.size\n",
    "#   puts dist_size\n",
    "  dist_size.times do |i|\n",
    "    if dist_copy[i] != nil\n",
    "      sum += dist_copy[i]\n",
    "    end\n",
    "  end\n",
    "\n",
    "  if  sum == 0\n",
    "    return 0.0\n",
    "  end\n",
    "\n",
    "  \n",
    "  dist_size.times do |i|\n",
    "    if dist_copy[i] != nil\n",
    "      dist_copy[i] /= sum\n",
    "    end\n",
    "  end\n",
    "  \n",
    "  entropy = 0.0\n",
    "  dist_size.times do |i|\n",
    "    if dist_copy[i] != nil\n",
    "      if dist_copy[i] == 0.0 \n",
    "        next\n",
    "      end\n",
    "      entropy -= (dist_copy[i]) * Math.log(dist_copy[i])\n",
    "    end\n",
    "  end\n",
    "\n",
    "  entropy\n",
    "  # END YOUR CODE\n",
    "end"
   ]
  },
  {
   "cell_type": "code",
   "execution_count": 261,
   "metadata": {
    "deletable": false,
    "editable": false,
    "nbgrader": {
     "checksum": "342962510e49ae260b7fa1e55f18606f",
     "grade": true,
     "grade_id": "cell-bb1541105b009b87",
     "locked": true,
     "points": 8,
     "schema_version": 1,
     "solution": false
    }
   },
   "outputs": [],
   "source": [
    "### TESTS ###\n",
    "#Checks the class entropy for Iris dataset\n",
    "t2_iris_dist = class_distribution iris[\"data\"]\n",
    "t2_iris_entropy = entropy t2_iris_dist\n",
    "assert_in_delta(1.0986122886681096, t2_iris_entropy, 1e-4)"
   ]
  },
  {
   "cell_type": "code",
   "execution_count": 262,
   "metadata": {
    "deletable": false,
    "editable": false,
    "nbgrader": {
     "checksum": "eb42c71b5f52a987f4ed18bbea69094e",
     "grade": true,
     "grade_id": "cell-efab3da77d9538b7",
     "locked": true,
     "points": 6,
     "schema_version": 1,
     "solution": false
    }
   },
   "outputs": [],
   "source": [
    "### TESTS ###\n",
    "#Checks the class entropy for Spambase dataset\n",
    "t2_spambase_dist = class_distribution spambase[\"data\"]\n",
    "t2_spambase_entropy = entropy t2_spambase_dist\n",
    "assert_in_delta(0.6705230209876485, t2_spambase_entropy, 1e-4)"
   ]
  },
  {
   "cell_type": "code",
   "execution_count": 263,
   "metadata": {
    "deletable": false,
    "editable": false,
    "nbgrader": {
     "checksum": "9c1846fc4492c5754ee0361972e680db",
     "grade": true,
     "grade_id": "cell-65c1df605b6d0346",
     "locked": true,
     "points": 6,
     "schema_version": 1,
     "solution": false
    }
   },
   "outputs": [],
   "source": [
    "### TESTS ###\n",
    "# Checks that code handles a class with zero members of a class\n",
    "t2_zero_dist = {0 => 0.0, 1 => 107.0}\n",
    "t2_zero_entropy = entropy t2_zero_dist\n",
    "assert_in_delta(0.0, t2_zero_entropy, 1e-4)"
   ]
  },
  {
   "cell_type": "markdown",
   "metadata": {
    "deletable": false,
    "editable": false,
    "nbgrader": {
     "checksum": "df86c558a9ecf58baf14ad93307fb131",
     "grade": false,
     "grade_id": "cell-6ae8306c874e022a",
     "locked": true,
     "schema_version": 1,
     "solution": false
    }
   },
   "source": [
    "## Question 3.1 (5 points)\n",
    "\n",
    "Implement information gain given an initial entropy $H_0$ and a hash of counts, where the key of each hash is a split criterion and the value is an array of all examples matching the split. Call the ```class_distribution``` and ```entropy``` functions you have defined above.\n",
    "\n",
    "The formula for information gain is as follows:\n",
    "\n",
    "## $IG(Q, V) = H_0 - \\sum_{v\\in V} \\frac{|v|}{|V|} H(c\\mid v) $ "
   ]
  },
  {
   "cell_type": "code",
   "execution_count": 264,
   "metadata": {
    "deletable": false,
    "nbgrader": {
     "checksum": "76f2d34a6a765afdf386602ab8028fef",
     "grade": false,
     "grade_id": "cell-0451fe692dd14aa1",
     "locked": false,
     "schema_version": 1,
     "solution": true
    }
   },
   "outputs": [
    {
     "data": {
      "text/plain": [
       ":information_gain"
      ]
     },
     "execution_count": 264,
     "metadata": {},
     "output_type": "execute_result"
    }
   ],
   "source": [
    "def information_gain h0, splits\n",
    "  # BEGIN YOUR CODE\n",
    "  information_gain = 0.0\n",
    "  \n",
    "  total_size = 0.0\n",
    "  splits.each do |key, value|\n",
    "    total_size += value.size\n",
    "  end\n",
    "\n",
    "  entropy_sum = 0.0\n",
    "  splits.each do |key, value|\n",
    "    class_dist = class_distribution value\n",
    "    class_size = value.size\n",
    "    class_entropy = entropy class_dist\n",
    "    entropy_sum -= (class_size.to_f / total_size.to_f) * class_entropy.to_f\n",
    "  end\n",
    "  \n",
    "  information_gain = h0 + entropy_sum\n",
    "  information_gain\n",
    "  \n",
    "  #END YOUR CODE\n",
    "end"
   ]
  },
  {
   "cell_type": "code",
   "execution_count": 265,
   "metadata": {
    "deletable": false,
    "editable": false,
    "nbgrader": {
     "checksum": "59f79cec12bc0ffe47358e7048adbb4f",
     "grade": true,
     "grade_id": "cell-32e98e61405c6942",
     "locked": true,
     "points": 5,
     "schema_version": 1,
     "solution": false
    }
   },
   "outputs": [
    {
     "data": {
      "text/plain": [
       "1.0986122886681096"
      ]
     },
     "execution_count": 265,
     "metadata": {},
     "output_type": "execute_result"
    }
   ],
   "source": [
    "### TEST: Random Split ###\n",
    "t3_random_split = iris[\"data\"].group_by {|row| rand > 0.5 ? \"l\" : \"r\"}\n",
    "t3_entropy = entropy(class_distribution(iris[\"data\"]))\n"
   ]
  },
  {
   "cell_type": "markdown",
   "metadata": {},
   "source": [
    "## Question 3.2 (5 points)\n",
    "\n",
    "The test above verifies the information gain when the iris data is split with uniform probability. What should the information gain be here if we were to do this for the **spambase** dataset?"
   ]
  },
  {
   "cell_type": "code",
   "execution_count": null,
   "metadata": {
    "deletable": false,
    "nbgrader": {
     "checksum": "dffc31c94a9742b9cdba01863ddf6aee",
     "grade": false,
     "grade_id": "cell-3fcac656f06297da",
     "locked": false,
     "schema_version": 1,
     "solution": true
    }
   },
   "outputs": [],
   "source": [
    "## Make this function return a constant equal to your answer to the question above.\n",
    "def t3_random_information_gain_spambase\n",
    "  # BEGIN YOUR CODE\n",
    "  #    spambase = read_sparse_data_from_csv \"spambase\"\n",
    "#   t3_random_split = iris[\"data\"].group_by {|row| rand > 0.5 ? \"l\" : \"r\"}\n",
    "#   dist = class_distribution spambase[\"data\"]\n",
    "#   entropy_0 = entropy dist\n",
    "#   ig = information_gain entropy_0, t3_random_split\n",
    "#   ig\n",
    "  \n",
    "  4.888371475386677e-06\n",
    "  #END YOUR CODE\n",
    "end"
   ]
  },
  {
   "cell_type": "code",
   "execution_count": null,
   "metadata": {
    "deletable": false,
    "editable": false,
    "nbgrader": {
     "checksum": "bd6c053530e8b2b5c589e0a45253ae9c",
     "grade": true,
     "grade_id": "cell-e8af656744c354c1",
     "locked": true,
     "points": 5,
     "schema_version": 1,
     "solution": false
    }
   },
   "outputs": [],
   "source": [
    "### TEST (Hidden) ###\n",
    "assert_true(t3_random_information_gain_spambase() >= 0)"
   ]
  },
  {
   "cell_type": "markdown",
   "metadata": {},
   "source": [
    "## Question 3.3 (10 points)\n",
    "\n",
    "The test below verifies the information gain of the iris data when split by class value. What should the information gain be here if we were to do this for the **spambase** dataset?"
   ]
  },
  {
   "cell_type": "code",
   "execution_count": 243,
   "metadata": {
    "deletable": false,
    "editable": false,
    "nbgrader": {
     "checksum": "0e3574b49f607b3c36b15064dca818d5",
     "grade": true,
     "grade_id": "cell-70ec0db203c6612e",
     "locked": true,
     "points": 5,
     "schema_version": 1,
     "solution": false
    }
   },
   "outputs": [
    {
     "data": {
      "text/plain": [
       "1.0986122886681096"
      ]
     },
     "execution_count": 243,
     "metadata": {},
     "output_type": "execute_result"
    }
   ],
   "source": [
    "### TEST: Perfect split (by class)\n",
    "t3_perfect_split = iris[\"data\"].group_by {|row| row[\"label\"]}\n",
    "t3_perfect_information_gain = information_gain t3_entropy, t3_perfect_split"
   ]
  },
  {
   "cell_type": "code",
   "execution_count": 244,
   "metadata": {
    "deletable": false,
    "nbgrader": {
     "checksum": "d9ffa2c9d5bf8311e982095da0956403",
     "grade": false,
     "grade_id": "cell-9cd1a047a1565d5b",
     "locked": false,
     "schema_version": 1,
     "solution": true
    }
   },
   "outputs": [
    {
     "data": {
      "text/plain": [
       ":t3_perfect_information_gain_spambase"
      ]
     },
     "execution_count": 244,
     "metadata": {},
     "output_type": "execute_result"
    }
   ],
   "source": [
    "## Make this function return a constant equal to your answer to the question above.\n",
    "def t3_perfect_information_gain_spambase\n",
    "  # BEGIN YOUR CODE\n",
    "  0.6705230209876485\n",
    "#    spambase = read_sparse_data_from_csv \"spambase\"\n",
    "#   t3_perfect_split = spambase[\"data\"].group_by {|row| row[\"label\"]}\n",
    "#   dist = class_distribution spambase[\"data\"]\n",
    "#   entropy_0 = entropy dist\n",
    "#   ig = information_gain entropy_0, t3_perfect_split\n",
    "#   ig\n",
    "  #END YOUR CODE\n",
    "end"
   ]
  },
  {
   "cell_type": "code",
   "execution_count": 245,
   "metadata": {
    "deletable": false,
    "editable": false,
    "nbgrader": {
     "checksum": "7f8de2739f895f01f4ce1482d456c65c",
     "grade": true,
     "grade_id": "cell-54bcaa821335b592",
     "locked": true,
     "points": 5,
     "schema_version": 1,
     "solution": false
    }
   },
   "outputs": [],
   "source": [
    "### TEST (Hidden) ###\n",
    "\n",
    "assert_true (t3_perfect_information_gain_spambase() > 0) "
   ]
  },
  {
   "cell_type": "markdown",
   "metadata": {},
   "source": [
    "## Question 4 (20 points)\n",
    "Considering the only the figure below, which shows the iris dataset colored by class, what value of petal_length would have the best information gain?"
   ]
  },
  {
   "cell_type": "code",
   "execution_count": null,
   "metadata": {
    "deletable": false,
    "editable": false,
    "nbgrader": {
     "checksum": "13a1a9cd818523f3a64fb3c23cc9730c",
     "grade": false,
     "grade_id": "cell-9412e60dd35d9724",
     "locked": true,
     "schema_version": 1,
     "solution": false
    }
   },
   "outputs": [],
   "source": [
    "d = iris[\"data\"]\n",
    "df = Daru::DataFrame.new({\n",
    "  x1: d.collect{|r| r[\"features\"][\"petal_length\"]}, \n",
    "  x2: d.collect{|r| r[\"features\"][\"sepal_width\"]}, \n",
    "  label: d.collect{|r| r[\"label\"]}\n",
    "}).to_category(:label).plot(type: :scatter, x: :x1, y: :x2, categorized: {by: :label, method: :color}) do |plot, diagram|\n",
    "  plot.x_label iris[\"features\"][2]\n",
    "  plot.y_label iris[\"features\"][1]\n",
    "  plot.legend true\n",
    "end"
   ]
  },
  {
   "cell_type": "code",
   "execution_count": null,
   "metadata": {
    "deletable": false,
    "nbgrader": {
     "checksum": "117e7fa3accc6bfb6986392d0c0ca5cd",
     "grade": false,
     "grade_id": "cell-53b59f7169d52516",
     "locked": false,
     "schema_version": 1,
     "solution": true
    }
   },
   "outputs": [],
   "source": [
    "## Make this function return a constant equal to your answer to the question above.\n",
    "def t4_best_split_for_petal_length_guess\n",
    "  # BEGIN YOUR CODE\n",
    "  3\n",
    "  \n",
    "  # END YOUR CODE\n",
    "end"
   ]
  },
  {
   "cell_type": "code",
   "execution_count": null,
   "metadata": {
    "deletable": false,
    "editable": false,
    "nbgrader": {
     "checksum": "ea46911bd0e91b5cfa72da211a559fca",
     "grade": true,
     "grade_id": "cell-4bf4f45cb98ef86c",
     "locked": true,
     "points": 20,
     "schema_version": 1,
     "solution": false
    }
   },
   "outputs": [],
   "source": [
    "### TEST (Hidden) ###"
   ]
  },
  {
   "cell_type": "markdown",
   "metadata": {
    "deletable": false,
    "editable": false,
    "nbgrader": {
     "checksum": "1af2c23aea17b9de2d958a0720a04f1b",
     "grade": false,
     "grade_id": "cell-4283fab3ee1d4932",
     "locked": true,
     "schema_version": 1,
     "solution": false
    }
   },
   "source": [
    "## Question 5 (20 points)\n",
    "Implement a function which takes a feature name and a real-valued threshold and splits data into two groups: \n",
    "* Strictly less than the threshold\n",
    "* Greater than or equal to the threholds. \n",
    "\n",
    "This function returns a structure that can be used to calculate the information gain. An example is as follows:\n",
    "```\n",
    "{\"petal_length < X1\":[\n",
    "        {\"features\":{\"sepal_length\":4.8,\"sepal_width\":3.1,\"petal_length\":1.6,\"petal_width\":0.2},\"label\":0},\n",
    "],\"petal_length >= X1\":[\n",
    "        {\"features\":{\"sepal_length\":4.8,\"sepal_width\":3.1,\"petal_length\":1.6,\"petal_width\":0.2},\"label\":0},\n",
    "]}\n",
    "```"
   ]
  },
  {
   "cell_type": "code",
   "execution_count": 249,
   "metadata": {
    "deletable": false,
    "nbgrader": {
     "checksum": "2055329c09c32943fd87ca49f800e113",
     "grade": false,
     "grade_id": "cell-0a015dc7685dd60d",
     "locked": false,
     "schema_version": 1,
     "solution": true
    }
   },
   "outputs": [
    {
     "data": {
      "text/plain": [
       ":split_on_numeric_value"
      ]
     },
     "execution_count": 249,
     "metadata": {},
     "output_type": "execute_result"
    }
   ],
   "source": [
    "def split_on_numeric_value x, k, v\n",
    "  # BEGIN YOUR CODE\n",
    "  res = Hash.new\n",
    "  key_1 = k.to_s + \"<\" + v.to_s\n",
    "  key_2 = k.to_s + \">=\" + v.to_s\n",
    "  \n",
    "  res[key_1] = Array.new\n",
    "  res[key_2] = Array.new\n",
    "  \n",
    "  x.each do |row|\n",
    "    if row[\"features\"][k] != nil\n",
    "      if row[\"features\"][k] < v\n",
    "        res[key_1] << row\n",
    "      else\n",
    "        res[key_2] << row\n",
    "      end\n",
    "    else\n",
    "      res[key_1] << row\n",
    "    end\n",
    "  end\n",
    "  res\n",
    "  \n",
    "  #END YOUR CODE\n",
    "end"
   ]
  },
  {
   "cell_type": "code",
   "execution_count": 250,
   "metadata": {
    "deletable": false,
    "editable": false,
    "nbgrader": {
     "checksum": "de9d1cb2d0e73658f6d6c6a65666fdaf",
     "grade": true,
     "grade_id": "cell-ee0152623e0d79f9",
     "locked": true,
     "points": 5,
     "schema_version": 1,
     "solution": false
    }
   },
   "outputs": [],
   "source": [
    "### TEST ###\n",
    "\n",
    "# Checks for the number of examples when split on petal_length = 1.7\n",
    "t5_iris_splits = split_on_numeric_value iris[\"data\"], \"petal_length\", 1.7\n",
    "t5_split_sizes = t5_iris_splits.values.collect {|v| v.size}.sort\n",
    "t5_num_splits = 2\n",
    "assert_equal t5_num_splits, t5_split_sizes.size\n",
    "assert_equal 44, t5_split_sizes[0]\n",
    "assert_equal 106, t5_split_sizes[1]"
   ]
  },
  {
   "cell_type": "code",
   "execution_count": 251,
   "metadata": {
    "deletable": false,
    "editable": false,
    "nbgrader": {
     "checksum": "4a0e4ec86a22928c3196687c4ea5157f",
     "grade": true,
     "grade_id": "cell-977a7d0a41a9a921",
     "locked": true,
     "points": 5,
     "schema_version": 1,
     "solution": false
    }
   },
   "outputs": [],
   "source": [
    "### TEST ###\n",
    "\n",
    "# Checks the information gain for this split\n",
    "t5_iris_entropy = entropy(class_distribution(iris[\"data\"]))\n",
    "t5_iris_information_gain = information_gain t5_iris_entropy, t5_iris_splits\n",
    "assert_in_delta 0.48280104455013506, t5_iris_information_gain, 5e-2"
   ]
  },
  {
   "cell_type": "code",
   "execution_count": 252,
   "metadata": {
    "deletable": false,
    "editable": false,
    "nbgrader": {
     "checksum": "426b29c72bc44b29ca2b08e3f0eb1484",
     "grade": true,
     "grade_id": "cell-9602959f3f1bea8d",
     "locked": true,
     "points": 5,
     "schema_version": 1,
     "solution": false
    }
   },
   "outputs": [],
   "source": [
    "### TEST ###\n",
    "\n",
    "# Checks the information gain for a split on the spambase dataset\n",
    "t5_spambase_splits = split_on_numeric_value spambase[\"data\"], \"char_freq_$\", 0.056\n",
    "t5_spambase_entropy = entropy(class_distribution(spambase[\"data\"]))\n",
    "t5_spambase_information_gain = information_gain t5_spambase_entropy, t5_spambase_splits\n",
    "assert_in_delta 0.17012249631509135, t5_spambase_information_gain, 5e-2"
   ]
  },
  {
   "cell_type": "code",
   "execution_count": 253,
   "metadata": {
    "deletable": false,
    "editable": false,
    "nbgrader": {
     "checksum": "fbffeefb751936788bd199cc08b300ea",
     "grade": true,
     "grade_id": "cell-f6432bb9ba83c17a",
     "locked": true,
     "points": 5,
     "schema_version": 1,
     "solution": false
    }
   },
   "outputs": [
    {
     "data": {
      "text/html": [
       "<div id='vis-13b6a33a-0603-40b9-89b5-60c4b6a38337'></div>\n",
       "<script>\n",
       "(function(){\n",
       "    var render = function(){\n",
       "        var model = {\"panes\":[{\"diagrams\":[{\"type\":\"line\",\"options\":{\"x\":\"x\",\"y\":\"y\"},\"data\":\"a2058b0d-8870-4c15-afbe-32a9b3742eeb\"}],\"options\":{\"x_label\":\"Petal Length Threshold\",\"y_label\":\"Information Gain\",\"xrange\":[1.0,6.9],\"zoom\":true,\"width\":700,\"yrange\":[0.0,1.0986122886681096]}}],\"data\":{\"a2058b0d-8870-4c15-afbe-32a9b3742eeb\":[{\"x\":1.0,\"y\":0.0},{\"x\":1.1,\"y\":0.007368925763855394},{\"x\":1.2,\"y\":0.014829172330138585},{\"x\":1.3,\"y\":0.030033875414081868},{\"x\":1.4,\"y\":0.08654114224614062},{\"x\":1.5,\"y\":0.19846652829937883},{\"x\":1.6,\"y\":0.36762441317024375},{\"x\":1.7,\"y\":0.48280104455013506},{\"x\":1.9,\"y\":0.5708880749943684},{\"x\":3.0,\"y\":1.0986122886681096},{\"x\":3.3,\"y\":1.0657992420178874},{\"x\":3.5,\"y\":1.0217557267957706},{\"x\":3.6,\"y\":0.9869123863067223},{\"x\":3.7,\"y\":0.971492371372158},{\"x\":3.8,\"y\":0.9570696156562771},{\"x\":3.9,\"y\":0.9434855419558007},{\"x\":4.0,\"y\":0.9067102390522255},{\"x\":4.1,\"y\":0.854914667691441},{\"x\":4.2,\"y\":0.8278932357238347},{\"x\":4.3,\"y\":0.7953721422277442},{\"x\":4.4,\"y\":0.7803552045207032},{\"x\":4.5,\"y\":0.7523879486422453},{\"x\":4.6,\"y\":0.6724377935539662},{\"x\":4.7,\"y\":0.6552601829397073},{\"x\":4.8,\"y\":0.6285268850798389},{\"x\":4.9,\"y\":0.5659297967520136},{\"x\":5.0,\"y\":0.4929636359991205},{\"x\":5.1,\"y\":0.4346469123043647},{\"x\":5.2,\"y\":0.32626067487019494},{\"x\":5.3,\"y\":0.3005336653214238},{\"x\":5.4,\"y\":0.2760652012017689},{\"x\":5.5,\"y\":0.2527100690630446},{\"x\":5.6,\"y\":0.21951214867965607},{\"x\":5.7,\"y\":0.15864598561813148},{\"x\":5.8,\"y\":0.13053245657705592},{\"x\":5.9,\"y\":0.10373813181609481},{\"x\":6.0,\"y\":0.08654114224614062},{\"x\":6.1,\"y\":0.06983636023057316},{\"x\":6.3,\"y\":0.045635817309936266},{\"x\":6.4,\"y\":0.037783754878081055},{\"x\":6.6,\"y\":0.030033875414081868},{\"x\":6.7,\"y\":0.022383272446196978},{\"x\":6.9,\"y\":0.007368925763855394}]},\"extension\":[]}\n",
       "        var id_name = '#vis-13b6a33a-0603-40b9-89b5-60c4b6a38337';\n",
       "        Nyaplot.core.parse(model, id_name);\n",
       "\n",
       "        require(['downloadable'], function(downloadable){\n",
       "          var svg = d3.select(id_name).select(\"svg\");\n",
       "\t  if(!svg.empty())\n",
       "\t    svg.call(downloadable().filename('fig'));\n",
       "\t});\n",
       "    };\n",
       "    if(window['Nyaplot']==undefined){\n",
       "        window.addEventListener('load_nyaplot', render, false);\n",
       "\treturn;\n",
       "    } else {\n",
       "       render();\n",
       "    }\n",
       "})();\n",
       "</script>\n"
      ],
      "text/plain": [
       "#<Nyaplot::Plot:0x00000000041f25f8 @properties={:diagrams=>[#<Nyaplot::Diagram:0x0000000004191c58 @properties={:type=>:line, :options=>{:x=>:x, :y=>:y}, :data=>\"a2058b0d-8870-4c15-afbe-32a9b3742eeb\"}, @xrange=[1.0, 6.9], @yrange=[0.0, 1.0986122886681096]>], :options=>{:x_label=>\"Petal Length Threshold\", :y_label=>\"Information Gain\", :xrange=>[1.0, 6.9], :zoom=>true, :width=>700, :yrange=>[0.0, 1.0986122886681096]}}>"
      ]
     },
     "execution_count": 253,
     "metadata": {},
     "output_type": "execute_result"
    }
   ],
   "source": [
    "### TEST ###\n",
    "sorted_values = iris[\"data\"].collect {|r| r[\"features\"][\"petal_length\"]}.uniq.sort\n",
    "min_sl = sorted_values.first\n",
    "max_sl = sorted_values.last\n",
    "\n",
    "x = []\n",
    "y = []\n",
    "h0 = entropy(class_distribution(iris[\"data\"]))\n",
    "sorted_values.each do |t|\n",
    "  x << t\n",
    "  y << information_gain(h0, split_on_numeric_value(iris[\"data\"], \"petal_length\", t))\n",
    "end\n",
    "\n",
    "assert_equal 43, sorted_values.size\n",
    "Daru::DataFrame.new({x: x, y: y}).plot(type: :line, x: :x, y: :y) do |plot, diagram|\n",
    "  plot.x_label \"Petal Length Threshold\"\n",
    "  plot.y_label \"Information Gain\"\n",
    "  plot.xrange [min_sl,max_sl]\n",
    "end"
   ]
  },
  {
   "cell_type": "markdown",
   "metadata": {
    "deletable": false,
    "editable": false,
    "nbgrader": {
     "checksum": "2fbcae7e8aa78a9b868249a2bfa5e169",
     "grade": false,
     "grade_id": "cell-3a51e33c9c02a0fd",
     "locked": true,
     "schema_version": 1,
     "solution": false
    }
   },
   "source": [
    "## Question 6 (10 points)\n",
    "Finding the best split value by calling ```split_on_numeric_value``` on each threshold is _very_ expensive. There is a better solution. The function should return an array consisting of the best threshold and the information gain of that threshold.\n",
    "\n",
    "\n",
    "In order to find the best split, we need to find $t^\\star$ defined as follows:\n",
    "\n",
    "$ t^\\star = \\arg \\max_{t} IG(x,V(t)) $\n",
    "\n",
    "Given that a threshold is a single real value, we can simply calculate the values $IG(x,V)$ for every value of $t$ _in order_, which leads allows us to save some work by calculating information incrementally. Notice that the split sets have a specialized form, which we can write as $V(t) = \\left\\{v_L(t), v_R(t)\\right\\}$ with $v_L(t) = \\left\\{x \\mid x < t \\right\\}$ and $v_R(t) = \\left\\{x \\mid x \\ge t \\right\\}$. \n",
    "\n",
    "As we sweep $t$ from minimum to maximum values, we note the following relations:\n",
    "\n",
    "$v_R(t + \\Delta_t) = v_R(t) - v_\\Delta$\n",
    "\n",
    "$v_L(t + \\Delta_t) = v_L(t) \\cup v_\\Delta$\n",
    "\n",
    "where $v_\\Delta = \\left\\{x \\mid t < x \\le t + \\Delta_t \\right\\}$\n",
    "\n",
    "What we add to $v_L$ is exactly what was removed from $v_R$, which means that we can easily recalculate the information gain by incrementing a class-specific counter for $v_L$ and decrementing a class-specific counter for $v_R$ as we sweep through the range of the threshold.\n",
    "\n",
    "The function below returns an array with the split point and the information gain:\n",
    "```ruby\n",
    "return [t_max, ig_max]\n",
    "```\n"
   ]
  },
  {
   "cell_type": "code",
   "execution_count": 254,
   "metadata": {
    "deletable": false,
    "nbgrader": {
     "checksum": "037a80bd7065ccb928863287a1246ad6",
     "grade": false,
     "grade_id": "cell-080688f2e969fe61",
     "locked": false,
     "schema_version": 1,
     "solution": true
    }
   },
   "outputs": [
    {
     "data": {
      "text/plain": [
       ":find_split_point_numeric"
      ]
     },
     "execution_count": 254,
     "metadata": {},
     "output_type": "execute_result"
    }
   ],
   "source": [
    "def find_split_point_numeric x, h0, fname\n",
    "  # BEGIN YOUR CODE\n",
    "  t_max = 0.0\n",
    "  ig_max = 0.0\n",
    "  \n",
    "  split_l = Hash.new(0)\n",
    "  split_r = Hash.new(0)\n",
    "  \n",
    "  sorted_x = x.sort_by{|row| row[\"features\"].has_key?(fname) ? row[\"features\"][fname] : 0}\n",
    "  \n",
    "  sorted_x.each do |row|\n",
    "    split_r[row[\"label\"]] += 1\n",
    "  end\n",
    "  size = sorted_x.size\n",
    "  ig_max = 0\n",
    "  sorted_x.each_with_index do |row, index|\n",
    "    split_l[row[\"label\"]] += 1\n",
    "    split_r[row[\"label\"]] -= 1\n",
    "    if(index + 1 < size and row[\"features\"][fname] == sorted_x[index + 1][\"features\"][fname])\n",
    "      next\n",
    "    end\n",
    "   \n",
    "    p1 = (index + 1.0)/ size\n",
    "    p2 = (size - index - 1.0)/ size\n",
    "    ig = h0 - p1 * entropy(split_l) - p2 * entropy(split_r)\n",
    "    if ig > ig_max\n",
    "      ig_max = ig\n",
    "      t_max = sorted_x[index + 1][\"features\"][fname]\n",
    "    end\n",
    "  end\n",
    "  \n",
    "  return [t_max, ig_max]\n",
    "  #END YOUR CODE\n",
    "end"
   ]
  },
  {
   "cell_type": "code",
   "execution_count": 255,
   "metadata": {
    "deletable": false,
    "editable": false,
    "nbgrader": {
     "checksum": "f7b8a45c908e13b4096586f083f6bd92",
     "grade": true,
     "grade_id": "cell-2c420be7956a8e6a",
     "locked": true,
     "points": 2,
     "schema_version": 1,
     "solution": false
    }
   },
   "outputs": [],
   "source": [
    "### TEST ###\n",
    "t6_iris_entropy = entropy(class_distribution(iris[\"data\"]))\n",
    "t6_split_sepal_width = find_split_point_numeric iris[\"data\"], t6_iris_entropy, \"sepal_width\"\n",
    "assert_in_delta 3.4, t6_split_sepal_width[0], 1e-2"
   ]
  },
  {
   "cell_type": "code",
   "execution_count": 256,
   "metadata": {
    "deletable": false,
    "editable": false,
    "nbgrader": {
     "checksum": "1fe196597c5120e85c53e89544ddc274",
     "grade": true,
     "grade_id": "cell-c8030984e5051641",
     "locked": true,
     "points": 2,
     "schema_version": 1,
     "solution": false
    }
   },
   "outputs": [],
   "source": [
    "### TEST ###\n",
    "assert_in_delta 0.18570201019349364, t6_split_sepal_width[1], 1e-2"
   ]
  },
  {
   "cell_type": "code",
   "execution_count": 257,
   "metadata": {
    "deletable": false,
    "editable": false,
    "nbgrader": {
     "checksum": "325281f2354dec49fe87017de0740e35",
     "grade": true,
     "grade_id": "cell-7c70189b1104be3c",
     "locked": true,
     "points": 2,
     "schema_version": 1,
     "solution": false
    }
   },
   "outputs": [],
   "source": [
    "### TEST ###\n",
    "t6_spambase_entropy = entropy(class_distribution(spambase[\"data\"]))\n",
    "t6_split_dollar = find_split_point_numeric spambase[\"data\"], t6_spambase_entropy, \"char_freq_$\"\n",
    "assert_in_delta 0.056, t6_split_dollar[0], 1e-2"
   ]
  },
  {
   "cell_type": "code",
   "execution_count": 258,
   "metadata": {
    "deletable": false,
    "editable": false,
    "nbgrader": {
     "checksum": "7e8a504e899944affe9fb7deb81648c8",
     "grade": true,
     "grade_id": "cell-c16470ca0986f6da",
     "locked": true,
     "points": 2,
     "schema_version": 1,
     "solution": false
    }
   },
   "outputs": [],
   "source": [
    "### TEST ###\n",
    "assert_in_delta 0.17012249631509135, t6_split_dollar[1], 1e-2"
   ]
  },
  {
   "cell_type": "code",
   "execution_count": 259,
   "metadata": {
    "deletable": false,
    "editable": false,
    "nbgrader": {
     "checksum": "4e71217502cf32847dc00852a4c01c65",
     "grade": true,
     "grade_id": "cell-ae2486adb874eb71",
     "locked": true,
     "points": 2,
     "schema_version": 1,
     "solution": false
    },
    "scrolled": true
   },
   "outputs": [],
   "source": [
    "### TEST: Produces same result as split_on_numeric_value ###\n",
    "t6_iris_expected_ig = information_gain(t6_iris_entropy, split_on_numeric_value(iris[\"data\"], \"sepal_width\", 3.4))\n",
    "assert_in_delta t6_iris_expected_ig, t6_split_sepal_width[1], 1e-2\n",
    "t6_spambase_expected_ig = information_gain(t6_spambase_entropy, split_on_numeric_value(spambase[\"data\"], \"char_freq_$\", 0.056))\n",
    "assert_in_delta t6_spambase_expected_ig, t6_split_dollar[1], 1e-2"
   ]
  },
  {
   "cell_type": "code",
   "execution_count": null,
   "metadata": {},
   "outputs": [],
   "source": []
  },
  {
   "cell_type": "code",
   "execution_count": null,
   "metadata": {},
   "outputs": [],
   "source": []
  },
  {
   "cell_type": "code",
   "execution_count": null,
   "metadata": {},
   "outputs": [],
   "source": []
  },
  {
   "cell_type": "code",
   "execution_count": null,
   "metadata": {},
   "outputs": [],
   "source": []
  },
  {
   "cell_type": "code",
   "execution_count": null,
   "metadata": {},
   "outputs": [],
   "source": []
  },
  {
   "cell_type": "code",
   "execution_count": null,
   "metadata": {},
   "outputs": [],
   "source": []
  },
  {
   "cell_type": "code",
   "execution_count": null,
   "metadata": {},
   "outputs": [],
   "source": []
  },
  {
   "cell_type": "code",
   "execution_count": null,
   "metadata": {},
   "outputs": [],
   "source": []
  },
  {
   "cell_type": "code",
   "execution_count": null,
   "metadata": {},
   "outputs": [],
   "source": []
  },
  {
   "cell_type": "code",
   "execution_count": null,
   "metadata": {},
   "outputs": [],
   "source": []
  },
  {
   "cell_type": "code",
   "execution_count": null,
   "metadata": {},
   "outputs": [],
   "source": []
  },
  {
   "cell_type": "code",
   "execution_count": null,
   "metadata": {},
   "outputs": [],
   "source": []
  },
  {
   "cell_type": "code",
   "execution_count": null,
   "metadata": {},
   "outputs": [],
   "source": []
  },
  {
   "cell_type": "code",
   "execution_count": null,
   "metadata": {},
   "outputs": [],
   "source": []
  }
 ],
 "metadata": {
  "kernelspec": {
   "display_name": "Ruby 2.5.1",
   "language": "ruby",
   "name": "ruby"
  },
  "language_info": {
   "file_extension": ".rb",
   "mimetype": "application/x-ruby",
   "name": "ruby",
   "version": "2.5.1"
  }
 },
 "nbformat": 4,
 "nbformat_minor": 2
}
