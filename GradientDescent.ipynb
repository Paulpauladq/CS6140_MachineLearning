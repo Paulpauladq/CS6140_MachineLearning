{
 "cells": [
  {
   "cell_type": "markdown",
   "metadata": {},
   "source": [
    "# CS6140 Assignments\n",
    "\n",
    "**Instructions**\n",
    "1. In each assignment cell, look for the block:\n",
    " ```\n",
    "  #BEGIN YOUR CODE\n",
    "  raise NotImplementedError.new()\n",
    "  #END YOUR CODE\n",
    " ```\n",
    "1. Replace this block with your solution.\n",
    "1. Test your solution by running the cells following your block (indicated by ##TEST##)\n",
    "1. Click the \"Validate\" button above to validate the work.\n",
    "\n",
    "**Notes**\n",
    "* You may add other cells and functions as needed\n",
    "* Keep all code in the same notebook\n",
    "* In order to receive credit, code must \"Validate\" on the JupyterHub server\n",
    "\n",
    "---"
   ]
  },
  {
   "cell_type": "code",
   "execution_count": null,
   "metadata": {},
   "outputs": [],
   "source": []
  },
  {
   "cell_type": "markdown",
   "metadata": {},
   "source": [
    "# Assignment 3: Gradient Descent and Maximum Likelihood"
   ]
  },
  {
   "cell_type": "code",
   "execution_count": 7,
   "metadata": {},
   "outputs": [
    {
     "data": {
      "application/javascript": [
       "if(window['d3'] === undefined ||\n",
       "   window['Nyaplot'] === undefined){\n",
       "    var path = {\"d3\":\"https://cdnjs.cloudflare.com/ajax/libs/d3/3.5.5/d3.min\",\"downloadable\":\"http://cdn.rawgit.com/domitry/d3-downloadable/master/d3-downloadable\"};\n",
       "\n",
       "\n",
       "\n",
       "    var shim = {\"d3\":{\"exports\":\"d3\"},\"downloadable\":{\"exports\":\"downloadable\"}};\n",
       "\n",
       "    require.config({paths: path, shim:shim});\n",
       "\n",
       "\n",
       "require(['d3'], function(d3){window['d3']=d3;console.log('finished loading d3');require(['downloadable'], function(downloadable){window['downloadable']=downloadable;console.log('finished loading downloadable');\n",
       "\n",
       "\tvar script = d3.select(\"head\")\n",
       "\t    .append(\"script\")\n",
       "\t    .attr(\"src\", \"http://cdn.rawgit.com/domitry/Nyaplotjs/master/release/nyaplot.js\")\n",
       "\t    .attr(\"async\", true);\n",
       "\n",
       "\tscript[0][0].onload = script[0][0].onreadystatechange = function(){\n",
       "\n",
       "\n",
       "\t    var event = document.createEvent(\"HTMLEvents\");\n",
       "\t    event.initEvent(\"load_nyaplot\",false,false);\n",
       "\t    window.dispatchEvent(event);\n",
       "\t    console.log('Finished loading Nyaplotjs');\n",
       "\n",
       "\t};\n",
       "\n",
       "\n",
       "});});\n",
       "}\n"
      ],
      "text/plain": [
       "\"if(window['d3'] === undefined ||\\n   window['Nyaplot'] === undefined){\\n    var path = {\\\"d3\\\":\\\"https://cdnjs.cloudflare.com/ajax/libs/d3/3.5.5/d3.min\\\",\\\"downloadable\\\":\\\"http://cdn.rawgit.com/domitry/d3-downloadable/master/d3-downloadable\\\"};\\n\\n\\n\\n    var shim = {\\\"d3\\\":{\\\"exports\\\":\\\"d3\\\"},\\\"downloadable\\\":{\\\"exports\\\":\\\"downloadable\\\"}};\\n\\n    require.config({paths: path, shim:shim});\\n\\n\\nrequire(['d3'], function(d3){window['d3']=d3;console.log('finished loading d3');require(['downloadable'], function(downloadable){window['downloadable']=downloadable;console.log('finished loading downloadable');\\n\\n\\tvar script = d3.select(\\\"head\\\")\\n\\t    .append(\\\"script\\\")\\n\\t    .attr(\\\"src\\\", \\\"http://cdn.rawgit.com/domitry/Nyaplotjs/master/release/nyaplot.js\\\")\\n\\t    .attr(\\\"async\\\", true);\\n\\n\\tscript[0][0].onload = script[0][0].onreadystatechange = function(){\\n\\n\\n\\t    var event = document.createEvent(\\\"HTMLEvents\\\");\\n\\t    event.initEvent(\\\"load_nyaplot\\\",false,false);\\n\\t    window.dispatchEvent(event);\\n\\t    console.log('Finished loading Nyaplotjs');\\n\\n\\t};\\n\\n\\n});});\\n}\\n\""
      ]
     },
     "metadata": {},
     "output_type": "display_data"
    },
    {
     "data": {
      "text/plain": [
       "true"
      ]
     },
     "execution_count": 7,
     "metadata": {},
     "output_type": "execute_result"
    }
   ],
   "source": [
    "require './assignment_lib'"
   ]
  },
  {
   "cell_type": "markdown",
   "metadata": {},
   "source": [
    "## Question 1.1 (5 points)\n",
    "\n",
    "Let's implement a test function for the gradient descent optimizer, a 3D simple parabola. All gradient-optimized trainers are implemented as a objective function. The follow the same basic pattern:\n",
    "\n",
    "```ruby\n",
    "class MyGradientLearnableModel\n",
    "  def func x, w\n",
    "    #Returns the value of the objective function, \n",
    "    #  summing across all examples in x\n",
    "  end\n",
    "  def grad x, w\n",
    "    #Returns a hash of derivative values for each variable in w,\n",
    "    # gradient is summed across all examples in x\n",
    "    dw = {\"0\" => (w[\"0\"] - 1), \"1\" => (w[\"1\"] - 2)}\n",
    "  end\n",
    "  def adjust w\n",
    "    # Applies any problem-specific alterations to w\n",
    "  end\n",
    "end\n",
    "```\n",
    "\n",
    "Now, let's implement a Parabola objective function which does not depend on the data at all. It is defined as follows:\n",
    "\n",
    "### $L(w) = \\frac{1}{2}\\left( \\left(w_{0} - 1\\right)^2 + \\left(w_{1} - 2\\right)^2 \\right)$\n",
    "\n",
    "Implement the ```func``` method for the loss function, $L(w)$. "
   ]
  },
  {
   "cell_type": "code",
   "execution_count": 8,
   "metadata": {
    "deletable": false,
    "nbgrader": {
     "checksum": "54115f66272f6d5339cda445dcca261d",
     "grade": false,
     "grade_id": "cell-f52748ce9cfc537f",
     "locked": false,
     "schema_version": 1,
     "solution": true
    }
   },
   "outputs": [
    {
     "data": {
      "text/plain": [
       ":adjust"
      ]
     },
     "execution_count": 8,
     "metadata": {},
     "output_type": "execute_result"
    }
   ],
   "source": [
    "class ParabolaObjective\n",
    "  def func x, w\n",
    "    x = 0.5 * ((w[\"0\"] - 1) ** 2 + (w[\"1\"] - 2) ** 2)\n",
    "    return x\n",
    "  end\n",
    "  def adjust w\n",
    "    return w\n",
    "  end\n",
    "end"
   ]
  },
  {
   "cell_type": "code",
   "execution_count": null,
   "metadata": {},
   "outputs": [],
   "source": []
  },
  {
   "cell_type": "code",
   "execution_count": 9,
   "metadata": {
    "deletable": false,
    "editable": false,
    "nbgrader": {
     "checksum": "f730730805da8370e5bbb243d401a989",
     "grade": true,
     "grade_id": "cell-91665d329bcaad34",
     "locked": true,
     "points": 5,
     "schema_version": 1,
     "solution": false
    }
   },
   "outputs": [],
   "source": [
    "### TESTS ###\n",
    "t1 = ParabolaObjective.new\n",
    "assert_in_delta(0.0, t1.func([], {\"0\" => 1.0, \"1\" => 2.0}), 1e-3)\n",
    "assert_in_delta(0.5, t1.func([], {\"0\" => 1.0, \"1\" => 1.0}), 1e-3)\n",
    "assert_in_delta(0.5, t1.func([], {\"0\" => 1.0, \"1\" => 3.0}), 1e-3)\n",
    "assert_in_delta(2.5, t1.func([], {\"0\" => 3.0, \"1\" => 1.0}), 1e-3)\n"
   ]
  },
  {
   "cell_type": "markdown",
   "metadata": {},
   "source": [
    "## Question 1.2 (5 Points)\n",
    "\n",
    "Implement the gradient function for $L(w)$. It evaluates the gradient for the value of $x$ for each dimension of $w$. In this simple case, $L(w)$ does not depend on $x$."
   ]
  },
  {
   "cell_type": "code",
   "execution_count": 10,
   "metadata": {
    "deletable": false,
    "nbgrader": {
     "checksum": "336415156704e9b2ea16ae3940b2e032",
     "grade": false,
     "grade_id": "cell-b5c9699ed1ed88fa",
     "locked": false,
     "schema_version": 1,
     "solution": true
    }
   },
   "outputs": [
    {
     "data": {
      "text/plain": [
       ":grad"
      ]
     },
     "execution_count": 10,
     "metadata": {},
     "output_type": "execute_result"
    }
   ],
   "source": [
    "class ParabolaObjective\n",
    "  def grad x, w\n",
    "    x = Hash.new\n",
    "    x[\"0\"] =  w[\"0\"]  - 1\n",
    "    x[\"1\"] =  w[\"1\"] - 2\n",
    "    x\n",
    "  end\n",
    "end"
   ]
  },
  {
   "cell_type": "code",
   "execution_count": 11,
   "metadata": {
    "deletable": false,
    "editable": false,
    "nbgrader": {
     "checksum": "e9b03b5652d757511bb12c6642715b2d",
     "grade": true,
     "grade_id": "cell-aaa3cd8bce5fe79b",
     "locked": true,
     "points": 5,
     "schema_version": 1,
     "solution": false
    }
   },
   "outputs": [],
   "source": [
    "### TESTS ###\n",
    "t2 = ParabolaObjective.new\n",
    "w2_1 = t2.grad([], {\"0\" => 3.0, \"1\" => 7.0})\n",
    "assert_in_delta(2.0, w2_1[\"0\"], 1e-3)\n",
    "assert_in_delta(5.0, w2_1[\"1\"], 1e-3)\n",
    "\n",
    "w2_2 = t2.grad([], {\"0\" => -3.0, \"1\" => -7.0})\n",
    "assert_in_delta(-4.0, w2_2[\"0\"], 1e-3)\n",
    "assert_in_delta(-9.0, w2_2[\"1\"], 1e-3)\n"
   ]
  },
  {
   "cell_type": "markdown",
   "metadata": {},
   "source": [
    "## Question 2.1 (1 Point)\n",
    "\n",
    "\n",
    "Implement gradient descent for any objective function class. Your function must provide a callback which we will use to monitor its performance and possibly to halt execution. A simple example illustrating the callback is as follows:\n",
    "\n",
    "```ruby\n",
    "def gradient_descent_example dataset, w, obj, learning_rate, tol, max_iter, &block\n",
    "    iter = 0\n",
    "    until converged(last_loss, current_loss) do\n",
    "        w_last = w\n",
    "        loss = calc_loss(w)\n",
    "        w = update(w)\n",
    "        w = adjust(w)\n",
    "        break unless yield w, iter, loss\n",
    "        iter += 1\n",
    "    end\n",
    "    \n",
    "    return w\n",
    "end\n",
    "\n",
    "```\n",
    "\n",
    "There are three main parts to the algorithm above:\n",
    "1. Convergence is based on the absolute difference between the loss of the current and previoud iteration.\n",
    "1. The norm can be calculated as the dot product of two vectors: $||w|| = w \\cdot w$\n",
    "1. Once the loss and gradient functions are calculated, we will update the values of each weight\n",
    "\n",
    "In this first part, implement the dot product"
   ]
  },
  {
   "cell_type": "code",
   "execution_count": 14,
   "metadata": {
    "deletable": false,
    "nbgrader": {
     "checksum": "cd831dd58d1fca904a54df797cbaf64b",
     "grade": false,
     "grade_id": "cell-7af25ba96bfb8ab2",
     "locked": false,
     "schema_version": 1,
     "solution": true
    }
   },
   "outputs": [
    {
     "data": {
      "text/plain": [
       ":dot"
      ]
     },
     "execution_count": 14,
     "metadata": {},
     "output_type": "execute_result"
    }
   ],
   "source": [
    "#Implement the error function given a weight vector, w\n",
    "def dot x, w\n",
    "  \n",
    "  res = 0.0\n",
    "\n",
    "  x.each do |k, v|\n",
    "    if w[k] != nil\n",
    "      res += v * w[k]\n",
    "    end\n",
    "  end\n",
    "  return res  \n",
    "end\n"
   ]
  },
  {
   "cell_type": "code",
   "execution_count": 15,
   "metadata": {
    "deletable": false,
    "editable": false,
    "nbgrader": {
     "checksum": "729b2f04141c6e728d5a50c168864202",
     "grade": true,
     "grade_id": "cell-6e56a41a0ad960bf",
     "locked": true,
     "points": 1,
     "schema_version": 1,
     "solution": false
    }
   },
   "outputs": [],
   "source": [
    "### TEST ###\n",
    "assert_in_delta 6.0, dot({\"a\" => 2.0}, {\"a\" => 3.0}), 1e-6\n",
    "assert_in_delta 6.0, dot({\"a\" => 2.0}, {\"a\" => 3.0, \"b\" => 4.0}), 1e-6\n",
    "assert_equal 0.0, dot({}, {})\n",
    "assert_equal 0.0, dot({\"a\" => 1.0}, {\"b\" => 1.0})"
   ]
  },
  {
   "cell_type": "markdown",
   "metadata": {},
   "source": [
    "## Question 2.2 (1 Point)\n",
    "Implement the L2 norm for a vector, represented by a hash. Hint: use ```dot```."
   ]
  },
  {
   "cell_type": "code",
   "execution_count": 16,
   "metadata": {
    "deletable": false,
    "nbgrader": {
     "checksum": "87e05e64c2e89f801ccf85a4b394f421",
     "grade": false,
     "grade_id": "cell-4b9adf1cdcc42b60",
     "locked": false,
     "schema_version": 1,
     "solution": true
    }
   },
   "outputs": [
    {
     "data": {
      "text/plain": [
       ":norm"
      ]
     },
     "execution_count": 16,
     "metadata": {},
     "output_type": "execute_result"
    }
   ],
   "source": [
    "def norm w\n",
    "  return Math.sqrt(dot(w,w))\n",
    "end"
   ]
  },
  {
   "cell_type": "code",
   "execution_count": 17,
   "metadata": {
    "deletable": false,
    "editable": false,
    "nbgrader": {
     "checksum": "9c875d2607666516fcc6e381176393f8",
     "grade": true,
     "grade_id": "cell-6732c7d27e4f664a",
     "locked": true,
     "points": 1,
     "schema_version": 1,
     "solution": false
    }
   },
   "outputs": [],
   "source": [
    "### TEST ###\n",
    "assert_in_delta 2.0, norm({\"a\" => 1.41421, \"b\" => 1.41421}), 1e-2\n",
    "assert_in_delta 2.0, norm({\"a\" => -1.41421, \"b\" => 1.41421}), 1e-2\n",
    "assert_in_delta 0.0, norm({}), 1e-2"
   ]
  },
  {
   "cell_type": "markdown",
   "metadata": {},
   "source": [
    "## Question 2.3 (3 points)\n",
    "Implement a function that updates a weight vector, ```w```, given a gradient vector, ```dw```, and learning rate, ```lr```.  Do not change the original weight vector. Hint: use ```clone```."
   ]
  },
  {
   "cell_type": "code",
   "execution_count": 79,
   "metadata": {
    "deletable": false,
    "nbgrader": {
     "checksum": "a759dd69710e353e41a8435530c516cd",
     "grade": false,
     "grade_id": "cell-7353e3fd009c70fd",
     "locked": false,
     "schema_version": 1,
     "solution": true
    }
   },
   "outputs": [
    {
     "data": {
      "text/plain": [
       ":update_weights"
      ]
     },
     "execution_count": 79,
     "metadata": {},
     "output_type": "execute_result"
    }
   ],
   "source": [
    "def update_weights(w, dw, lr)\n",
    "  w_copy = w.clone()\n",
    "  dw_copy = dw.clone()\n",
    "  \n",
    "  dw_copy.each do |k, v|\n",
    "    dw_copy[k] *= lr\n",
    "  end\n",
    "  \n",
    "  w_copy.each do |k, v|\n",
    "    if dw_copy[k] != nil\n",
    "      w_copy[k] -= dw_copy[k]\n",
    "    end\n",
    "  end\n",
    "  return w_copy\n",
    "  \n",
    "end"
   ]
  },
  {
   "cell_type": "code",
   "execution_count": 80,
   "metadata": {
    "deletable": false,
    "editable": false,
    "nbgrader": {
     "checksum": "35238b8fa6c3aab46d461bb48957817e",
     "grade": true,
     "grade_id": "cell-7890d2e9cc768dbc",
     "locked": true,
     "points": 3,
     "schema_version": 1,
     "solution": false
    }
   },
   "outputs": [],
   "source": [
    "### TEST ###\n",
    "assert_in_delta 1.5, update_weights({\"a\" => 1.0}, {\"a\" => -0.25}, 2.0)[\"a\"], 1e-2\n",
    "assert_in_delta 2.5, update_weights({\"a\" => 1.0, \"b\" => 3.0}, {\"a\" => -0.25, \"b\" => 0.25}, 2.0)[\"b\"], 1e-2"
   ]
  },
  {
   "cell_type": "markdown",
   "metadata": {},
   "source": [
    "## Question 2.4 (15 Points)\n",
    "\n",
    "Now, put all these functions together to implement gradient descent. "
   ]
  },
  {
   "cell_type": "code",
   "execution_count": 84,
   "metadata": {
    "deletable": false,
    "nbgrader": {
     "checksum": "85f39c054fa15db730ee9ef290ecab75",
     "grade": false,
     "grade_id": "cell-54768dfb34dacd23",
     "locked": false,
     "schema_version": 1,
     "solution": true
    }
   },
   "outputs": [
    {
     "data": {
      "text/plain": [
       ":gradient_descent"
      ]
     },
     "execution_count": 84,
     "metadata": {},
     "output_type": "execute_result"
    }
   ],
   "source": [
    "def gradient_descent dataset, w, obj, learning_rate, tol, max_iter, &block\n",
    "  \n",
    "  iteration = 1\n",
    "  loss = tol + 1.0\n",
    "  curr_loss = obj.func(dataset[\"data\"], w)\n",
    "  \n",
    "  while loss >= tol and iteration <= max_iter\n",
    "    pre_loss = curr_loss\n",
    "    dw = obj.grad(dataset[\"data\"], w)\n",
    "    w = update_weights(w, dw, learning_rate)\n",
    "    w = obj.adjust(w)\n",
    "    curr_loss = obj.func(dataset[\"data\"], w)\n",
    "    \n",
    "    break unless yield w, iteration, curr_loss\n",
    "    loss = (curr_loss - pre_loss).abs\n",
    "    iteration += 1\n",
    "  end\n",
    "  \n",
    "  return w\n",
    "end"
   ]
  },
  {
   "cell_type": "code",
   "execution_count": 85,
   "metadata": {
    "deletable": false,
    "editable": false,
    "nbgrader": {
     "checksum": "8835ef2ae23e4ee43747f8d5d9bfcd16",
     "grade": true,
     "grade_id": "cell-e54d5e8595d96ad4",
     "locked": true,
     "points": 5,
     "schema_version": 1,
     "solution": false
    }
   },
   "outputs": [],
   "source": [
    "### TESTS ###\n",
    "\n",
    "t4 = ParabolaObjective.new\n",
    "t4_w_init = {\"0\" => 3.0, \"1\" => 7.0}\n",
    "t4_w_goal = {\"0\" => 1.0, \"1\" => 2.0}\n",
    "t4_data = {\"data\" => []}\n",
    "\n",
    "t4_loss = 1.0\n",
    "t4_w = nil\n",
    "gradient_descent t4_data, t4_w_init, t4, 0.1, 0.001, 100 do |w, iter, loss|\n",
    "  t4_loss = loss\n",
    "  t4_w = w\n",
    "end\n",
    "\n",
    "assert_in_delta 0.01, t4_loss, 1e-2\n",
    "assert_in_delta 1.0, t4_w[\"0\"], 1e-1\n",
    "assert_in_delta 2.0, t4_w[\"1\"], 1e-1"
   ]
  },
  {
   "cell_type": "code",
   "execution_count": 86,
   "metadata": {
    "deletable": false,
    "editable": false,
    "nbgrader": {
     "checksum": "9cbd3b2dae8f138bbdf3cf952fa4189f",
     "grade": true,
     "grade_id": "cell-208aaf7c7bf7b770",
     "locked": true,
     "points": 10,
     "schema_version": 1,
     "solution": false
    }
   },
   "outputs": [],
   "source": [
    "### TEST ###\n",
    "t4 = ParabolaObjective.new\n",
    "t4_w_init = {\"0\" => 3.0, \"1\" => 7.0}\n",
    "t4_data = {\"data\" => []}\n",
    "\n",
    "t4_total_loss = 0.0\n",
    "t4_iterations = []\n",
    "t4_losses = []\n",
    "gradient_descent t4_data, t4_w_init, t4, 0.1, 0.001, 100 do |w, iter, loss|\n",
    "  t4_total_loss += loss\n",
    "  t4_iterations << iter\n",
    "  t4_losses << t4_total_loss / iter + 1.0\n",
    "end\n",
    "\n",
    "assert_true t4_iterations.size > 30\n",
    "assert_true t4_losses[-1] < 3\n",
    "assert_true t4_losses[-1] > 0\n",
    "assert_true t4_iterations[-1] > 30"
   ]
  },
  {
   "cell_type": "code",
   "execution_count": 87,
   "metadata": {},
   "outputs": [
    {
     "data": {
      "text/html": [
       "<div id='vis-2e873dd7-3e8f-4079-8db7-4bb90118756b'></div>\n",
       "<script>\n",
       "(function(){\n",
       "    var render = function(){\n",
       "        var model = {\"panes\":[{\"diagrams\":[{\"type\":\"line\",\"options\":{\"x\":\"x\",\"y\":\"y\"},\"data\":\"a82574e9-ccbc-47d3-bf95-93f885815ca9\"}],\"options\":{\"x_label\":\"Iteration\",\"y_label\":\"Cumulative Loss\",\"zoom\":true,\"width\":700,\"xrange\":[1,39],\"yrange\":[2.584592728710167,12.745]}}],\"data\":{\"a82574e9-ccbc-47d3-bf95-93f885815ca9\":[{\"x\":1,\"y\":12.745},{\"x\":2,\"y\":11.629224999999998},{\"x\":3,\"y\":10.654781499999999},{\"x\":4,\"y\":9.801529761249999},{\"x\":5,\"y\":9.052391285289998},{\"x\":6,\"y\":8.392864117570749},{\"x\":7,\"y\":7.810617087341976},{\"x\":8,\"y\":7.295149860653625},{\"x\":9,\"y\":6.83750789967061},{\"x\":10,\"y\":6.430043258859874},{\"x\":11,\"y\":6.06621367243318},{\"x\":12,\"y\":5.740413651781636},{\"x\":13,\"y\":5.4478323611782695},{\"x\":14,\"y\":5.184333911657656},{\"x\":15,\"y\":4.946356437213188},{\"x\":16,\"y\":4.730826919508765},{\"x\":17,\"y\":4.535089228049035},{\"x\":18,\"y\":4.356843259457511},{\"x\":19,\"y\":4.194093406467922},{\"x\":20,\"y\":4.045104876277065},{\"x\":21,\"y\":3.9083666188423076},{\"x\":22,\"y\":3.7825598266594387},{\"x\":23,\"y\":3.6665311352639653},{\"x\":24,\"y\":3.559269793748653},{\"x\":25,\"y\":3.4598881916189526},{\"x\":26,\"y\":3.3676052261647613},{\"x\":27,\"y\":3.2817320764085136},{\"x\":28,\"y\":3.201660018251936},{\"x\":29,\"y\":3.1268499728949624},{\"x\":30,\"y\":3.0568235287767553},{\"x\":31,\"y\":2.9911552177185534},{\"x\":32,\"y\":2.9294658599035275},{\"x\":33,\"y\":2.8714168208696798},{\"x\":34,\"y\":2.816705047701369},{\"x\":35,\"y\":2.765058771819877},{\"x\":36,\"y\":2.7162337828081533},{\"x\":37,\"y\":2.6700101920725876},{\"x\":38,\"y\":2.6261896172740906},{\"x\":39,\"y\":2.584592728710167}]},\"extension\":[]}\n",
       "        var id_name = '#vis-2e873dd7-3e8f-4079-8db7-4bb90118756b';\n",
       "        Nyaplot.core.parse(model, id_name);\n",
       "\n",
       "        require(['downloadable'], function(downloadable){\n",
       "          var svg = d3.select(id_name).select(\"svg\");\n",
       "\t  if(!svg.empty())\n",
       "\t    svg.call(downloadable().filename('fig'));\n",
       "\t});\n",
       "    };\n",
       "    if(window['Nyaplot']==undefined){\n",
       "        window.addEventListener('load_nyaplot', render, false);\n",
       "\treturn;\n",
       "    } else {\n",
       "       render();\n",
       "    }\n",
       "})();\n",
       "</script>\n"
      ],
      "text/plain": [
       "#<Nyaplot::Plot:0x0000000003d1eb30 @properties={:diagrams=>[#<Nyaplot::Diagram:0x00000000034168d0 @properties={:type=>:line, :options=>{:x=>:x, :y=>:y}, :data=>\"a82574e9-ccbc-47d3-bf95-93f885815ca9\"}, @xrange=[1, 39], @yrange=[2.584592728710167, 12.745]>], :options=>{:x_label=>\"Iteration\", :y_label=>\"Cumulative Loss\", :zoom=>true, :width=>700, :xrange=>[1, 39], :yrange=>[2.584592728710167, 12.745]}}>"
      ]
     },
     "execution_count": 87,
     "metadata": {},
     "output_type": "execute_result"
    }
   ],
   "source": [
    "### Plot the cumulative loss per iteration\n",
    "Daru::DataFrame.new({x: t4_iterations, y: t4_losses}).plot(type: :line, x: :x, y: :y) do |plot, diagram|\n",
    "  plot.x_label \"Iteration\"\n",
    "  plot.y_label \"Cumulative Loss\"\n",
    "end"
   ]
  },
  {
   "cell_type": "markdown",
   "metadata": {},
   "source": [
    "## Question 3.1 (5 Points)\n",
    "\n",
    "Let's learn the parameter of a Bernoulli distribution using the method of maximum likelihood. Consider the following dataset in which we are tossing a biased coin with probability $\\mu$ of returning a success (1). There is an analytical solution for the parameter $\\mu$ given a dataset of successes and trials. Compute this analytical solution. \n",
    "\n",
    "Here the ```label``` field is either 0 or 1. "
   ]
  },
  {
   "cell_type": "code",
   "execution_count": 90,
   "metadata": {
    "deletable": false,
    "nbgrader": {
     "checksum": "908d76a78e7e78ba9a7ab1f3beed242e",
     "grade": false,
     "grade_id": "cell-5fa56022cb1d93b4",
     "locked": false,
     "schema_version": 1,
     "solution": true
    }
   },
   "outputs": [
    {
     "data": {
      "text/plain": [
       ":q31_binomial_parameter"
      ]
     },
     "execution_count": 90,
     "metadata": {},
     "output_type": "execute_result"
    }
   ],
   "source": [
    "coin_data = coin_dataset(1000)\n",
    "\n",
    "def q31_binomial_parameter(coin_data)\n",
    "  p = 0.0\n",
    "  coin_data[\"data\"].each do |value|\n",
    "    v = value[\"label\"] / coin_data[\"data\"].length\n",
    "    p += v\n",
    "  end\n",
    "  return p\n",
    "end"
   ]
  },
  {
   "cell_type": "code",
   "execution_count": 91,
   "metadata": {
    "deletable": false,
    "editable": false,
    "nbgrader": {
     "checksum": "0c9b7b7e94293f333e7c9ac657d48493",
     "grade": true,
     "grade_id": "cell-00e4a8fc6cd8141e",
     "locked": true,
     "points": 5,
     "schema_version": 1,
     "solution": false
    }
   },
   "outputs": [],
   "source": [
    "### TESTS ###\n",
    "\n",
    "t31_coin_data = coin_dataset(10000)\n",
    "assert_in_delta 0.77, q31_binomial_parameter(t31_coin_data), 5e-2"
   ]
  },
  {
   "cell_type": "markdown",
   "metadata": {},
   "source": [
    "## Question 3.2 (5 Points)\n",
    "\n",
    "Now, let's use the maximum likelihood function and gradient descent to find the same parameter value. Define the objective function for a binomial distribution for multiple samples. Remember that the ```label``` is the target value and every example has only one feature, ```bias```. Learn the weight for the ```bias``` feature should converge to $w_{bias} = \\mu$.\n",
    "\n",
    "In this first step, calculate the log likelihood function for the binomial distribution of $n$ examples."
   ]
  },
  {
   "cell_type": "code",
   "execution_count": 94,
   "metadata": {
    "deletable": false,
    "nbgrader": {
     "checksum": "0af7a42c617bf3ab3f6fb733a292f615",
     "grade": false,
     "grade_id": "cell-92354ef065795ab6",
     "locked": false,
     "schema_version": 1,
     "solution": true
    }
   },
   "outputs": [
    {
     "data": {
      "text/plain": [
       ":func"
      ]
     },
     "execution_count": 94,
     "metadata": {},
     "output_type": "execute_result"
    }
   ],
   "source": [
    "class BinomialModel\n",
    "  def func dataset, w\n",
    "    res = 0.0\n",
    "    dataset.each do |data|\n",
    "      x = data[\"label\"]\n",
    "      value = x * Math.log(w[\"bias\"]) + (1 - x) * (Math.log(1 - w[\"bias\"]))\n",
    "      res -= value\n",
    "    end\n",
    "    return res\n",
    "  end\n",
    "end"
   ]
  },
  {
   "cell_type": "code",
   "execution_count": 95,
   "metadata": {
    "deletable": false,
    "editable": false,
    "nbgrader": {
     "checksum": "16e7fc8ff420037c1f90f69378c939be",
     "grade": true,
     "grade_id": "cell-68cf9b7f4c38b214",
     "locked": true,
     "points": 5,
     "schema_version": 1,
     "solution": false
    }
   },
   "outputs": [],
   "source": [
    "### TEST ###\n",
    "t32_model = BinomialModel.new\n",
    "t32_t1 = {\"features\" => {\"bias\" => 1.0}, \"label\" => 0.0}\n",
    "t32_t2 = {\"features\" => {\"bias\" => 1.0}, \"label\" => 1.0}\n",
    "\n",
    "assert_in_delta 1.469677, t32_model.func([t32_t1], {\"bias\" => 0.77}), 1e-3\n",
    "assert_in_delta 0.261365, t32_model.func([t32_t2], {\"bias\" => 0.77}), 1e-3\n",
    "assert_in_delta 1.731041, t32_model.func([t32_t1, t32_t2], {\"bias\" => 0.77}), 1e-3\n"
   ]
  },
  {
   "cell_type": "markdown",
   "metadata": {},
   "source": [
    "## Question 3.3 (5 Points)\n",
    "\n",
    "Calculate the gradient of the binomial log likelihood function over $n$ examples."
   ]
  },
  {
   "cell_type": "code",
   "execution_count": 112,
   "metadata": {
    "deletable": false,
    "nbgrader": {
     "checksum": "8fc64cd48d7369e5c88e1262ef0ea11e",
     "grade": false,
     "grade_id": "cell-af9a1550d76082ae",
     "locked": false,
     "schema_version": 1,
     "solution": true
    }
   },
   "outputs": [
    {
     "data": {
      "text/plain": [
       ":adjust"
      ]
     },
     "execution_count": 112,
     "metadata": {},
     "output_type": "execute_result"
    }
   ],
   "source": [
    "class BinomialModel\n",
    "  def grad dataset, w\n",
    "    g = 0.0\n",
    "    dataset.each do |sample|\n",
    "      x = sample[\"label\"]\n",
    "      g -= (x / w[\"bias\"]) + ((x - 1) / (1 - w[\"bias\"]))\n",
    "    end\n",
    "    return {\"bias\" => g}\n",
    "  end\n",
    "  \n",
    "  ## Adjusts the parameter to be within the allowable range\n",
    "  def adjust w\n",
    "    w[\"bias\"] = [[0.001, w[\"bias\"]].max, 0.999].min\n",
    "    return w\n",
    "  end\n",
    "end"
   ]
  },
  {
   "cell_type": "code",
   "execution_count": 113,
   "metadata": {
    "deletable": false,
    "editable": false,
    "nbgrader": {
     "checksum": "0929e3bf098fe4ae116a9e170a78e80f",
     "grade": true,
     "grade_id": "cell-d87514aa1ef00351",
     "locked": true,
     "points": 5,
     "schema_version": 1,
     "solution": false
    }
   },
   "outputs": [],
   "source": [
    "### TEST ###\n",
    "t32_model = BinomialModel.new\n",
    "t32_t1 = {\"features\" => {\"bias\" => 1.0}, \"label\" => 0.0}\n",
    "t32_t2 = {\"features\" => {\"bias\" => 1.0}, \"label\" => 1.0}\n",
    "\n",
    "assert_in_delta 4.347826, t32_model.grad([t32_t1], {\"bias\" => 0.77})[\"bias\"], 1e-3\n",
    "assert_in_delta -1.29870, t32_model.grad([t32_t2], {\"bias\" => 0.77})[\"bias\"], 1e-3\n",
    "assert_in_delta 3.049124, t32_model.grad([t32_t1, t32_t2], {\"bias\" => 0.77})[\"bias\"], 1e-3"
   ]
  },
  {
   "cell_type": "markdown",
   "metadata": {},
   "source": [
    "## Question 3.4 (5 Points)\n",
    "\n",
    "Putting the objective function to work, use gradient descent to find the parameter for the binomial distribution. You get to set the learning rate. Return the learning rate you have obtained which works well. You may have to try a few until you get it right.\n",
    "\n",
    "Note that, while capable of returning the same value, this method reads the data many more times than the analytical solution."
   ]
  },
  {
   "cell_type": "code",
   "execution_count": 118,
   "metadata": {
    "deletable": false,
    "nbgrader": {
     "checksum": "9afa2f41321b339e15c344f2cc4070e5",
     "grade": false,
     "grade_id": "cell-ca57b6ffd6468fe0",
     "locked": false,
     "schema_version": 1,
     "solution": true
    }
   },
   "outputs": [
    {
     "data": {
      "text/plain": [
       ":q34_learning_rate"
      ]
     },
     "execution_count": 118,
     "metadata": {},
     "output_type": "execute_result"
    }
   ],
   "source": [
    "def q34_learning_rate\n",
    "  return 0.000001\n",
    "end"
   ]
  },
  {
   "cell_type": "code",
   "execution_count": 119,
   "metadata": {
    "deletable": false,
    "editable": false,
    "nbgrader": {
     "checksum": "813f8a3b8fd578724330c8b2bc5908ab",
     "grade": true,
     "grade_id": "cell-03c7000ad0157d31",
     "locked": true,
     "points": 5,
     "schema_version": 1,
     "solution": false
    }
   },
   "outputs": [
    {
     "name": "stdout",
     "output_type": "stream",
     "text": [
      "1\t{\"bias\"=>0.47105542801512973}\t\n",
      "11\t{\"bias\"=>0.5749426513332923}\t6721.281198485548\n",
      "21\t{\"bias\"=>0.6464829844591337}\t6331.551006238281\n",
      "31\t{\"bias\"=>0.6958771771311749}\t6077.09983426126\n",
      "41\t{\"bias\"=>0.7288331043414965}\t5906.3348127243935\n",
      "51\t{\"bias\"=>0.7498002747417629}\t5788.895585344201\n",
      "61\t{\"bias\"=>0.7625370003975389}\t5705.720031837799\n",
      "71\t{\"bias\"=>0.7699938671985603}\t5644.806478544068\n",
      "81\t{\"bias\"=>0.7742490269087146}\t5598.679265611323\n",
      "91\t{\"bias\"=>0.7766380347300951}\t5562.676143741344\n"
     ]
    },
    {
     "data": {
      "text/html": [
       "<div id='vis-e6650500-7bfe-4876-931b-ea78c8d843b8'></div>\n",
       "<script>\n",
       "(function(){\n",
       "    var render = function(){\n",
       "        var model = {\"panes\":[{\"diagrams\":[{\"type\":\"line\",\"options\":{\"x\":\"x\",\"y\":\"y\"},\"data\":\"50e52798-84fc-4f26-818b-0216dc7c8e5c\"}],\"options\":{\"x_label\":\"Iteration\",\"y_label\":\"Cumulative Loss\",\"zoom\":true,\"width\":700,\"xrange\":[1,100],\"yrange\":[5533.838047255882,7272.334138283188]}}],\"data\":{\"50e52798-84fc-4f26-818b-0216dc7c8e5c\":[{\"x\":1,\"y\":7272.334138283188},{\"x\":2,\"y\":7197.29186971345},{\"x\":3,\"y\":7126.361501380023},{\"x\":4,\"y\":7059.207701197738},{\"x\":5,\"y\":6995.536642190244},{\"x\":6,\"y\":6935.089105171729},{\"x\":7,\"y\":6877.634980989089},{\"x\":8,\"y\":6822.968840103817},{\"x\":9,\"y\":6770.906326852482},{\"x\":10,\"y\":6721.281198485548},{\"x\":11,\"y\":6673.942873808918},{\"x\":12,\"y\":6628.75438859433},{\"x\":13,\"y\":6585.5906786445985},{\"x\":14,\"y\":6544.337129017448},{\"x\":15,\"y\":6504.888341141647},{\"x\":16,\"y\":6467.147079607959},{\"x\":17,\"y\":6431.023368121773},{\"x\":18,\"y\":6396.4337100644825},{\"x\":19,\"y\":6363.300413764797},{\"x\":20,\"y\":6331.551006238281},{\"x\":21,\"y\":6301.117722053354},{\"x\":22,\"y\":6271.9370562955655},{\"x\":23,\"y\":6243.949372457829},{\"x\":24,\"y\":6217.098557586537},{\"x\":25,\"y\":6191.331718230724},{\"x\":26,\"y\":6166.598911740085},{\"x\":27,\"y\":6142.852908273959},{\"x\":28,\"y\":6120.048979561659},{\"x\":29,\"y\":6098.144711014673},{\"x\":30,\"y\":6077.09983426126},{\"x\":31,\"y\":6056.87607756581},{\"x\":32,\"y\":6037.437031929909},{\"x\":33,\"y\":6018.748030951817},{\"x\":34,\"y\":6000.776042763599},{\"x\":35,\"y\":5983.489572571069},{\"x\":36,\"y\":5966.858574501404},{\"x\":37,\"y\":5950.854371618474},{\"x\":38,\"y\":5935.449583102017},{\"x\":39,\"y\":5920.6180577069945},{\"x\":40,\"y\":5906.3348127243935},{\"x\":41,\"y\":5892.575977760139},{\"x\":42,\"y\":5879.318742730784},{\"x\":43,\"y\":5866.541309550896},{\"x\":44,\"y\":5854.222847052981},{\"x\":45,\"y\":5842.343448741294},{\"x\":46,\"y\":5830.884093033833},{\"x\":47,\"y\":5819.8266056955235},{\"x\":48,\"y\":5809.153624207053},{\"x\":49,\"y\":5798.848563852808},{\"x\":50,\"y\":5788.895585344201},{\"x\":51,\"y\":5779.279563823707},{\"x\":52,\"y\":5769.986059121482},{\"x\":53,\"y\":5761.00128715762},{\"x\":54,\"y\":5752.312092402942},{\"x\":55,\"y\":5743.905921326615},{\"x\":56,\"y\":5735.770796773351},{\"x\":57,\"y\":5727.895293223409},{\"x\":58,\"y\":5720.268512898388},{\"x\":59,\"y\":5712.880062682837},{\"x\":60,\"y\":5705.720031837799},{\"x\":61,\"y\":5698.778970486483},{\"x\":62,\"y\":5692.047868855853},{\"x\":63,\"y\":5685.51813725993},{\"x\":64,\"y\":5679.181586812432},{\"x\":65,\"y\":5673.0304108566415},{\"x\":66,\"y\":5667.0571671012995},{\"x\":67,\"y\":5661.254760450768},{\"x\":68,\"y\":5655.616426517527},{\"x\":69,\"y\":5650.135715804534},{\"x\":70,\"y\":5644.806478544068},{\"x\":71,\"y\":5639.622850178947},{\"x\":72,\"y\":5634.579237471293},{\"x\":73,\"y\":5629.670305223274},{\"x\":74,\"y\":5624.890963593311},{\"x\":75,\"y\":5620.2363559907535},{\"x\":76,\"y\":5615.701847531375},{\"x\":77,\"y\":5611.283014035807},{\"x\":78,\"y\":5606.9756315523255},{\"x\":79,\"y\":5602.775666385417},{\"x\":80,\"y\":5598.679265611323},{\"x\":81,\"y\":5594.682748061746},{\"x\":82,\"y\":5590.782595756934},{\"x\":83,\"y\":5586.975445769456},{\"x\":84,\"y\":5583.258082500436},{\"x\":85,\"y\":5579.627430349817},{\"x\":86,\"y\":5576.080546763186},{\"x\":87,\"y\":5572.614615637569},{\"x\":88,\"y\":5569.226941069485},{\"x\":89,\"y\":5565.914941428615},{\"x\":90,\"y\":5562.676143741344},{\"x\":91,\"y\":5559.508178368643},{\"x\":92,\"y\":5556.408773963616},{\"x\":93,\"y\":5553.375752694388},{\"x\":94,\"y\":5550.407025718562},{\"x\":95,\"y\":5547.500588896334},{\"x\":96,\"y\":5544.654518729381},{\"x\":97,\"y\":5541.866968513996},{\"x\":98,\"y\":5539.136164696531},{\"x\":99,\"y\":5536.460403420662},{\"x\":100,\"y\":5533.838047255882}]},\"extension\":[]}\n",
       "        var id_name = '#vis-e6650500-7bfe-4876-931b-ea78c8d843b8';\n",
       "        Nyaplot.core.parse(model, id_name);\n",
       "\n",
       "        require(['downloadable'], function(downloadable){\n",
       "          var svg = d3.select(id_name).select(\"svg\");\n",
       "\t  if(!svg.empty())\n",
       "\t    svg.call(downloadable().filename('fig'));\n",
       "\t});\n",
       "    };\n",
       "    if(window['Nyaplot']==undefined){\n",
       "        window.addEventListener('load_nyaplot', render, false);\n",
       "\treturn;\n",
       "    } else {\n",
       "       render();\n",
       "    }\n",
       "})();\n",
       "</script>\n"
      ],
      "text/plain": [
       "#<Nyaplot::Plot:0x00000000048a8c58 @properties={:diagrams=>[#<Nyaplot::Diagram:0x0000000004865818 @properties={:type=>:line, :options=>{:x=>:x, :y=>:y}, :data=>\"50e52798-84fc-4f26-818b-0216dc7c8e5c\"}, @xrange=[1, 100], @yrange=[5533.838047255882, 7272.334138283188]>], :options=>{:x_label=>\"Iteration\", :y_label=>\"Cumulative Loss\", :zoom=>true, :width=>700, :xrange=>[1, 100], :yrange=>[5533.838047255882, 7272.334138283188]}}>"
      ]
     },
     "execution_count": 119,
     "metadata": {},
     "output_type": "execute_result"
    }
   ],
   "source": [
    "### TEST ###\n",
    "t34 = BinomialModel.new\n",
    "t34_w_init = {\"bias\" => rand}\n",
    "t34_data = coin_dataset(10000)\n",
    "\n",
    "t34_learning_rate = q34_learning_rate()\n",
    "\n",
    "t34_total_loss = 0.0\n",
    "t34_iterations = []\n",
    "t34_losses = []\n",
    "t34_w = t34_w_init\n",
    "gradient_descent t34_data, t34_w_init, t34, t34_learning_rate, 0.001, 100 do |w, iter, loss|\n",
    "  puts [iter, w, t34_losses[-1]].join(\"\\t\") if iter % 10 == 1\n",
    "  t34_total_loss += loss\n",
    "  t34_iterations << iter\n",
    "  t34_losses << t34_total_loss / iter.to_f\n",
    "  t34_w = w\n",
    "end\n",
    "\n",
    "\n",
    "assert_true(t34_losses[-1] < 8000)\n",
    "assert_true(t34_losses[-1] > 0)\n",
    "assert_true(t34_iterations[-1] > 30)\n",
    "assert_in_delta 0.77, t34_w[\"bias\"], 5e-2\n",
    "\n",
    "### Plot the cumulative loss per iteration\n",
    "Daru::DataFrame.new({x: t34_iterations, y: t34_losses}).plot(type: :line, x: :x, y: :y) do |plot, diagram|\n",
    "  plot.x_label \"Iteration\"\n",
    "  plot.y_label \"Cumulative Loss\"\n",
    "end"
   ]
  },
  {
   "cell_type": "markdown",
   "metadata": {},
   "source": [
    "## Question 4.1 (10 Points)\n",
    "\n",
    "The maximum likelihood method above reads the data multiple times and can benefit from prior knowledge in the form of a prior distribution for the parameter, $\\mu$. Using the Beta distribution as the conjugate prior, implement the likelihood function and its gradient. Now we are learning three parameters altogether: $w_{bias} = \\mu$, $\\alpha$, $\\beta$.\n",
    "\n",
    "First, let's compute the closed form estimator for $\\mu$ with a fixed $\\alpha$ and $\\beta$."
   ]
  },
  {
   "cell_type": "code",
   "execution_count": 120,
   "metadata": {
    "deletable": false,
    "nbgrader": {
     "checksum": "7fe610db1d60504b6baacd8c486dcfde",
     "grade": false,
     "grade_id": "cell-97d4bb1bc5d5a0f3",
     "locked": false,
     "schema_version": 1,
     "solution": true
    }
   },
   "outputs": [
    {
     "data": {
      "text/plain": [
       ":q41_closed_form_beta_binomial"
      ]
     },
     "execution_count": 120,
     "metadata": {},
     "output_type": "execute_result"
    }
   ],
   "source": [
    "def q41_closed_form_beta_binomial(coin_data, alpha, beta)\n",
    "  res = 0.0\n",
    "  coin_data[\"data\"].each do |sample|\n",
    "    sample_value = sample[\"label\"]\n",
    "    res += sample_value / coin_data[\"data\"].length\n",
    "  end\n",
    "  return res\n",
    "end"
   ]
  },
  {
   "cell_type": "code",
   "execution_count": 121,
   "metadata": {
    "deletable": false,
    "editable": false,
    "nbgrader": {
     "checksum": "af6ab15034ba413fb34cf9c99f3f715f",
     "grade": true,
     "grade_id": "cell-e089341132a19f54",
     "locked": true,
     "points": 10,
     "schema_version": 1,
     "solution": false
    }
   },
   "outputs": [],
   "source": [
    "### TEST ###\n",
    "t41_coin_data = coin_dataset(10000)\n",
    "assert_in_delta 0.77, q41_closed_form_beta_binomial(t41_coin_data, 7743, 10000 - 7743), 1e-1"
   ]
  },
  {
   "cell_type": "markdown",
   "metadata": {},
   "source": [
    "## Question 4.2 (10 points)\n",
    "\n",
    "Implement the negative log likelihood function for the beta + binomial values. Checkout this [Wikipedia](https://en.wikipedia.org/wiki/Beta_distribution#Maximum_likelihood) definition of the likelihood function. Remember we are interested in he negative log likelihood.\n",
    "\n",
    "A special function is needed ```GSL::Sf::lnbeta(a, b)```."
   ]
  },
  {
   "cell_type": "code",
   "execution_count": 144,
   "metadata": {
    "deletable": false,
    "nbgrader": {
     "checksum": "ae3b18deff351186867bca1e042c1992",
     "grade": false,
     "grade_id": "cell-0c423e99f1c034e0",
     "locked": false,
     "schema_version": 1,
     "solution": true
    }
   },
   "outputs": [
    {
     "data": {
      "text/plain": [
       ":adjust"
      ]
     },
     "execution_count": 144,
     "metadata": {},
     "output_type": "execute_result"
    }
   ],
   "source": [
    "class BetaBinomialModel\n",
    "  def func dataset, w\n",
    "\n",
    "    res = 0.0\n",
    "    alpha = w[\"alpha\"]\n",
    "    beta = w[\"beta\"]\n",
    "    p = w[\"bias\"]\n",
    "    c = GSL::Sf::lnbeta(alpha, beta)\n",
    "    dataset.each do |data|\n",
    "      data_value = data[\"label\"]\n",
    "      res -= (data_value + alpha - 1)* Math.log(p) +\n",
    "        (beta-data_value) * Math.log(1-p) - c\n",
    "    end\n",
    "    return res\n",
    "\n",
    "end\n",
    "  def adjust w\n",
    "    w[\"bias\"] = [[0.001, w[\"bias\"]].max, 0.999].min\n",
    "    w[\"beta\"] = [0.0001, w[\"beta\"]].max\n",
    "    return w\n",
    "  end\n",
    "end"
   ]
  },
  {
   "cell_type": "code",
   "execution_count": 145,
   "metadata": {
    "deletable": false,
    "editable": false,
    "nbgrader": {
     "checksum": "18a9751dfa872fc62f990d54afd87b64",
     "grade": true,
     "grade_id": "cell-c3da75938a85ae1b",
     "locked": true,
     "points": 10,
     "schema_version": 1,
     "solution": false
    }
   },
   "outputs": [],
   "source": [
    "### TESTS ###\n",
    "\n",
    "t42 = BetaBinomialModel.new\n",
    "srand 777 #seed random number generator\n",
    "t42_data = coin_dataset(1000)[\"data\"]\n",
    "t42_w = Hash.new {|h,k| h[k] = 0.1}\n",
    "t42_w[\"alpha\"] = 7.0\n",
    "t42_w[\"beta\"] = 3.0\n",
    "\n",
    "assert_in_delta 10373.126026759332, t42.func(t42_data, t42_w), 1e-2"
   ]
  },
  {
   "cell_type": "markdown",
   "metadata": {},
   "source": [
    "## Question 4.3 (10 points)\n",
    "\n",
    "Implement the negative log likelihood gradient for all the parameters. Checkout this [Wikipedia](https://en.wikipedia.org/wiki/Beta_distribution#Maximum_likelihood) definition of the likelihood function. Remember we are interested in he negative log likelihood.\n",
    "\n",
    "A special function is needed ```GSL::Sf::psi(a + b)```."
   ]
  },
  {
   "cell_type": "code",
   "execution_count": 152,
   "metadata": {
    "deletable": false,
    "nbgrader": {
     "checksum": "17bd13df38d687cdb957a67a4a762db0",
     "grade": false,
     "grade_id": "cell-9d4f8012ea73cfa8",
     "locked": false,
     "schema_version": 1,
     "solution": true
    }
   },
   "outputs": [
    {
     "data": {
      "text/plain": [
       ":grad"
      ]
     },
     "execution_count": 152,
     "metadata": {},
     "output_type": "execute_result"
    }
   ],
   "source": [
    "class BetaBinomialModel\n",
    "  def grad dataset, w\n",
    "    bias_res = 0.0\n",
    "    p = w[\"bias\"]\n",
    "    alpha = w[\"alpha\"]\n",
    "    beta = w[\"beta\"]\n",
    "    d_alpha = GSL::Sf::psi(alpha) - GSL::Sf::psi(alpha + beta)\n",
    "    d_beta = GSL::Sf::psi(beta) - GSL::Sf::psi(alpha + beta)\n",
    "    alpha_res = -(Math.log(p) - d_alpha) * dataset.length\n",
    "    beta_res = -(Math.log(1-p) - d_beta) * dataset.length\n",
    "    dataset.each do |sample|\n",
    "      x = sample[\"label\"]\n",
    "      bias_res -= ((x+alpha-1)/p) + ((x-beta)/(1-p))\n",
    "    end\n",
    "    return {\"bias\" => bias_res, \"alpha\" => alpha_res, \"beta\" => beta_res}\n",
    "    end\n",
    "end"
   ]
  },
  {
   "cell_type": "code",
   "execution_count": 153,
   "metadata": {
    "deletable": false,
    "editable": false,
    "nbgrader": {
     "checksum": "7d0cedb739f3c1aeb50cc2c127d2be97",
     "grade": true,
     "grade_id": "cell-2752de436c18d1fd",
     "locked": true,
     "points": 10,
     "schema_version": 1,
     "solution": false
    }
   },
   "outputs": [],
   "source": [
    "### TESTS ###\n",
    "\n",
    "t43 = BetaBinomialModel.new\n",
    "srand 777 #seed random number generator\n",
    "t43_data = coin_dataset(1000)[\"data\"]\n",
    "t43_w = Hash.new {|h,k| h[k] = 0.1}\n",
    "t43_w[\"alpha\"] = 7.0\n",
    "t43_w[\"beta\"] = 3.0\n",
    "\n",
    "t43_grad = t43.grad(t43_data, t43_w)\n",
    "\n",
    "assert_in_delta -65622.22222222318, t43_grad[\"bias\"], 1e2\n",
    "assert_in_delta 1923.6168390257724, t43_grad[\"alpha\"], 1e2\n",
    "assert_in_delta -1223.6077383104214, t43_grad[\"beta\"], 1e2\n"
   ]
  },
  {
   "cell_type": "markdown",
   "metadata": {},
   "source": [
    "## Question 4.4 (20 points)\n",
    "\n",
    "Run the gradient descent by selecting the initial weights and learning rate. Try a few values. "
   ]
  },
  {
   "cell_type": "code",
   "execution_count": 164,
   "metadata": {
    "deletable": false,
    "nbgrader": {
     "checksum": "706ade57f59434796197e6bd977d6a95",
     "grade": false,
     "grade_id": "cell-963091d78ac84fe4",
     "locked": false,
     "schema_version": 1,
     "solution": true
    }
   },
   "outputs": [
    {
     "data": {
      "text/plain": [
       ":q44_weights_and_learning_rate"
      ]
     },
     "execution_count": 164,
     "metadata": {},
     "output_type": "execute_result"
    }
   ],
   "source": [
    "def q44_weights_and_learning_rate\n",
    "  w = {\"bias\" => 0.6, \"alpha\" => 7.0, \"beta\" => 3.0}\n",
    "  lr = 0.0000001\n",
    "  return [w, lr]\n",
    "end"
   ]
  },
  {
   "cell_type": "code",
   "execution_count": 165,
   "metadata": {
    "deletable": false,
    "editable": false,
    "nbgrader": {
     "checksum": "445d5c9fb43b646e7d49fd0774b9c231",
     "grade": true,
     "grade_id": "cell-2bf436344900b4d6",
     "locked": true,
     "points": 20,
     "schema_version": 1,
     "solution": false
    }
   },
   "outputs": [
    {
     "name": "stdout",
     "output_type": "stream",
     "text": [
      "1\t{\"bias\"=>0.6057066666666661, \"alpha\"=>6.999868142630202, \"beta\"=>3.0004126775220943}\t\n",
      "11\t{\"bias\"=>0.6532964922022375, \"alpha\"=>6.999012980082409, \"beta\"=>3.003787863989772}\t-1742.3299467101874\n",
      "21\t{\"bias\"=>0.6867713412415584, \"alpha\"=>6.998792986263423, \"beta\"=>3.005990528619002}\t-2585.3776887925696\n",
      "31\t{\"bias\"=>0.7097028688860274, \"alpha\"=>6.998991985715376, \"beta\"=>3.007289584913607}\t-3138.8565877981077\n",
      "41\t{\"bias\"=>0.7249675181035382, \"alpha\"=>6.999464490130551, \"beta\"=>3.0079284780967965}\t-3509.322291152765\n",
      "51\t{\"bias\"=>0.7348769914785794, \"alpha\"=>7.0001126552167, \"beta\"=>3.00810858380498}\t-3764.1894720858777\n",
      "61\t{\"bias\"=>0.741190370813419, \"alpha\"=>7.000871862571391, \"beta\"=>3.007982719126448}\t-3945.4266678684344\n",
      "71\t{\"bias\"=>0.7451650834131278, \"alpha\"=>7.001700360702411, \"beta\"=>3.0076589907725304}\t-4078.853280614123\n",
      "81\t{\"bias\"=>0.7476541346324725, \"alpha\"=>7.0025716834024365, \"beta\"=>3.0072100129547263}\t-4180.369519467079\n",
      "91\t{\"bias\"=>0.7492144345218215, \"alpha\"=>7.00346929366775, \"beta\"=>3.006682842957476}\t-4259.906132536405\n"
     ]
    },
    {
     "data": {
      "text/html": [
       "<div id='vis-30cf0ee6-c42c-4bb1-8e54-d2cbf12f34c9'></div>\n",
       "<script>\n",
       "(function(){\n",
       "    var render = function(){\n",
       "        var model = {\"panes\":[{\"diagrams\":[{\"type\":\"line\",\"options\":{\"x\":\"x\",\"y\":\"y\"},\"data\":\"33d19442-e7fe-47dd-b479-c443bb3767ed\"}],\"options\":{\"x_label\":\"Iteration\",\"y_label\":\"Cumulative Loss\",\"zoom\":true,\"width\":700,\"xrange\":[1,100],\"yrange\":[-4323.813507298308,-598.6218808814729]}}],\"data\":{\"33d19442-e7fe-47dd-b479-c443bb3767ed\":[{\"x\":1,\"y\":-598.6218808814729},{\"x\":2,\"y\":-749.2204070734758},{\"x\":3,\"y\":-893.2795350568007},{\"x\":4,\"y\":-1031.1051089299895},{\"x\":5,\"y\":-1162.9862869201318},{\"x\":6,\"y\":-1289.1968289295853},{\"x\":7,\"y\":-1409.9962453108742},{\"x\":8,\"y\":-1525.630824332363},{\"x\":9,\"y\":-1636.3345533572365},{\"x\":10,\"y\":-1742.3299467101874},{\"x\":11,\"y\":-1843.828791477681},{\"x\":12,\"y\":-1941.0328210203786},{\"x\":13,\"y\":-2034.134324725274},{\"x\":14,\"y\":-2123.31670145588},{\"x\":15,\"y\":-2208.754963236504},{\"x\":16,\"y\":-2290.6161949120096},{\"x\":17,\"y\":-2369.059974833586},{\"x\":18,\"y\":-2444.238761019104},{\"x\":19,\"y\":-2516.298246711198},{\"x\":20,\"y\":-2585.3776887925696},{\"x\":21,\"y\":-2651.610212111411},{\"x\":22,\"y\":-2715.123092409931},{\"x\":23,\"y\":-2776.03802022972},{\"x\":24,\"y\":-2834.471347884379},{\"x\":25,\"y\":-2890.5343213380443},{\"x\":26,\"y\":-2944.3332986042133},{\"x\":27,\"y\":-2995.969956079793},{\"x\":28,\"y\":-3045.5414840509243},{\"x\":29,\"y\":-3093.1407724494748},{\"x\":30,\"y\":-3138.8565877981077},{\"x\":31,\"y\":-3182.7737421575207},{\"x\":32,\"y\":-3224.973254779053},{\"x\":33,\"y\":-3265.5325070682793},{\"x\":34,\"y\":-3304.5253913807937},{\"x\":35,\"y\":-3342.0224540955846},{\"x\":36,\"y\":-3378.0910333477505},{\"x\":37,\"y\":-3412.7953917446043},{\"x\":38,\"y\":-3446.1968443427995},{\"x\":39,\"y\":-3478.3538821214797},{\"x\":40,\"y\":-3509.322291152765},{\"x\":41,\"y\":-3539.1552676409397},{\"x\":42,\"y\":-3567.9035289784856},{\"x\":43,\"y\":-3595.6154209464344},{\"x\":44,\"y\":-3622.337021171833},{\"x\":45,\"y\":-3648.1122389412653},{\"x\":46,\"y\":-3672.982911460821},{\"x\":47,\"y\":-3696.9888966449666},{\"x\":48,\"y\":-3720.1681625116967},{\"x\":49,\"y\":-3742.5568732577976},{\"x\":50,\"y\":-3764.1894720858777},{\"x\":51,\"y\":-3785.0987608534415},{\"x\":52,\"y\":-3805.3159766142294},{\"x\":53,\"y\":-3824.8708651222237},{\"x\":54,\"y\":-3843.79175136943},{\"x\":55,\"y\":-3862.10560722983},{\"x\":56,\"y\":-3879.838116282583},{\"x\":57,\"y\":-3897.0137358894362},{\"x\":58,\"y\":-3913.6557566019483},{\"x\":59,\"y\":-3929.78635897559},{\"x\":60,\"y\":-3945.4266678684344},{\"x\":61,\"y\":-3960.5968043032694},{\"x\":62,\"y\":-3975.315934972048},{\"x\":63,\"y\":-3989.6023194621275},{\"x\":64,\"y\":-4003.4733552837615},{\"x\":65,\"y\":-4016.945620778158},{\"x\":66,\"y\":-4030.0349159846187},{\"x\":67,\"y\":-4042.7563015450064},{\"x\":68,\"y\":-4055.1241357227727},{\"x\":69,\"y\":-4067.1521096123784},{\"x\":70,\"y\":-4078.853280614123},{\"x\":71,\"y\":-4090.2401042475003},{\"x\":72,\"y\":-4101.324464374865},{\"x\":73,\"y\":-4112.1177019054},{\"x\":74,\"y\":-4122.63064204744},{\"x\":75,\"y\":-4132.873620175376},{\"x\":76,\"y\":-4142.856506375355},{\"x\":77,\"y\":-4152.588728731902},{\"x\":78,\"y\":-4162.079295415421},{\"x\":79,\"y\":-4171.33681562854},{\"x\":80,\"y\":-4180.369519467079},{\"x\":81,\"y\":-4189.185276749256},{\"x\":82,\"y\":-4197.791614864515},{\"x\":83,\"y\":-4206.195735691627},{\"x\":84,\"y\":-4214.404531633031},{\"x\":85,\"y\":-4222.424600811056},{\"x\":86,\"y\":-4230.262261468855},{\"x\":87,\"y\":-4237.923565617785},{\"x\":88,\"y\":-4245.414311970268},{\"x\":89,\"y\":-4252.740058195888},{\"x\":90,\"y\":-4259.906132536405},{\"x\":91,\"y\":-4266.917644813664},{\"x\":92,\"y\":-4273.779496862745},{\"x\":93,\"y\":-4280.496392421103},{\"x\":94,\"y\":-4287.072846502842},{\"x\":95,\"y\":-4293.513194285774},{\"x\":96,\"y\":-4299.821599537508},{\"x\":97,\"y\":-4306.0020626055275},{\"x\":98,\"y\":-4312.058427994709},{\"x\":99,\"y\":-4317.994391554721},{\"x\":100,\"y\":-4323.813507298308}]},\"extension\":[]}\n",
       "        var id_name = '#vis-30cf0ee6-c42c-4bb1-8e54-d2cbf12f34c9';\n",
       "        Nyaplot.core.parse(model, id_name);\n",
       "\n",
       "        require(['downloadable'], function(downloadable){\n",
       "          var svg = d3.select(id_name).select(\"svg\");\n",
       "\t  if(!svg.empty())\n",
       "\t    svg.call(downloadable().filename('fig'));\n",
       "\t});\n",
       "    };\n",
       "    if(window['Nyaplot']==undefined){\n",
       "        window.addEventListener('load_nyaplot', render, false);\n",
       "\treturn;\n",
       "    } else {\n",
       "       render();\n",
       "    }\n",
       "})();\n",
       "</script>\n"
      ],
      "text/plain": [
       "#<Nyaplot::Plot:0x0000000004df9ce8 @properties={:diagrams=>[#<Nyaplot::Diagram:0x0000000004d420e8 @properties={:type=>:line, :options=>{:x=>:x, :y=>:y}, :data=>\"33d19442-e7fe-47dd-b479-c443bb3767ed\"}, @xrange=[1, 100], @yrange=[-4323.813507298308, -598.6218808814729]>], :options=>{:x_label=>\"Iteration\", :y_label=>\"Cumulative Loss\", :zoom=>true, :width=>700, :xrange=>[1, 100], :yrange=>[-4323.813507298308, -598.6218808814729]}}>"
      ]
     },
     "execution_count": 165,
     "metadata": {},
     "output_type": "execute_result"
    }
   ],
   "source": [
    "### TEST ###\n",
    "t44 = BetaBinomialModel.new\n",
    "t44_data = coin_dataset(10000)\n",
    "\n",
    "t44_w_init, t44_learning_rate = q44_weights_and_learning_rate()\n",
    "\n",
    "t44_total_loss = 0.0\n",
    "t44_iterations = []\n",
    "t44_losses = []\n",
    "t44_w = t34_w_init\n",
    "gradient_descent t44_data, t44_w_init, t44, t44_learning_rate, 0.001, 100 do |w, iter, loss|\n",
    "  puts [iter, w, t44_losses[-1]].join(\"\\t\") if iter % 10 == 1\n",
    "  t44_total_loss += loss\n",
    "  t44_iterations << iter\n",
    "  t44_losses << t44_total_loss / iter.to_f\n",
    "  t44_w = w\n",
    "end\n",
    "\n",
    "\n",
    "assert_true(t44_losses[-1] < 8000)\n",
    "assert_true(t44_iterations[-1] > 30)\n",
    "assert_in_delta 0.77, t44_w[\"bias\"], 5e-2\n",
    "\n",
    "### Plot the cumulative loss per iteration\n",
    "Daru::DataFrame.new({x: t44_iterations, y: t44_losses}).plot(type: :line, x: :x, y: :y) do |plot, diagram|\n",
    "  plot.x_label \"Iteration\"\n",
    "  plot.y_label \"Cumulative Loss\"\n",
    "end"
   ]
  },
  {
   "cell_type": "code",
   "execution_count": null,
   "metadata": {},
   "outputs": [],
   "source": []
  },
  {
   "cell_type": "code",
   "execution_count": null,
   "metadata": {},
   "outputs": [],
   "source": []
  }
 ],
 "metadata": {
  "kernelspec": {
   "display_name": "Ruby 2.5.1",
   "language": "ruby",
   "name": "ruby"
  },
  "language_info": {
   "file_extension": ".rb",
   "mimetype": "application/x-ruby",
   "name": "ruby",
   "version": "2.5.1"
  }
 },
 "nbformat": 4,
 "nbformat_minor": 2
}
