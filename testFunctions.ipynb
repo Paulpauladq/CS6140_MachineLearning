{
 "cells": [
  {
   "cell_type": "markdown",
   "metadata": {},
   "source": [
    "# CS6140 Assignments\n",
    "\n",
    "**Instructions**\n",
    "1. In each assignment cell, look for the block:\n",
    " ```\n",
    "  #BEGIN YOUR CODE\n",
    "  raise NotImplementedError.new()\n",
    "  #END YOUR CODE\n",
    " ```\n",
    "1. Replace this block with your solution.\n",
    "1. Test your solution by running the cells following your block (indicated by ##TEST##)\n",
    "1. Click the \"Validate\" button above to validate the work.\n",
    "\n",
    "**Notes**\n",
    "* You may add other cells and functions as needed\n",
    "* Keep all code in the same notebook\n",
    "* In order to receive credit, code must \"Validate\" on the JupyterHub server\n",
    "\n",
    "---"
   ]
  },
  {
   "cell_type": "code",
   "execution_count": null,
   "metadata": {},
   "outputs": [],
   "source": []
  },
  {
   "cell_type": "markdown",
   "metadata": {
    "deletable": false,
    "editable": false,
    "nbgrader": {
     "checksum": "c6392a9123326cbe6b5236c01a291b38",
     "grade": false,
     "grade_id": "cell-d7462501e48ebaf8",
     "locked": true,
     "schema_version": 1,
     "solution": false
    }
   },
   "source": [
    "# Assignment 1: Environment Setup\n",
    "\n",
    "This assignment tests your access to the environment and ability to run through the basic steps.\n"
   ]
  },
  {
   "cell_type": "code",
   "execution_count": 3,
   "metadata": {},
   "outputs": [
    {
     "data": {
      "text/plain": [
       "Object"
      ]
     },
     "execution_count": 3,
     "metadata": {},
     "output_type": "execute_result"
    }
   ],
   "source": [
    "require 'test/unit/assertions'\n",
    "include Test::Unit::Assertions"
   ]
  },
  {
   "cell_type": "markdown",
   "metadata": {},
   "source": [
    "## Question 1: 50 Points\n",
    "\n",
    "Calculate the mean of an array of numbers."
   ]
  },
  {
   "cell_type": "code",
   "execution_count": 24,
   "metadata": {
    "deletable": false,
    "nbgrader": {
     "checksum": "d8da9fb441e8592edad3d5a949de70fa",
     "grade": false,
     "grade_id": "cell-182ea74825cac608",
     "locked": false,
     "schema_version": 1,
     "solution": true
    }
   },
   "outputs": [
    {
     "data": {
      "text/plain": [
       ":mean"
      ]
     },
     "execution_count": 24,
     "metadata": {},
     "output_type": "execute_result"
    }
   ],
   "source": [
    "def mean x\n",
    "  # BEGIN YOUR CODE\n",
    "  sum = 0.0\n",
    "  for item in x\n",
    "    sum = sum + item\n",
    "  end\n",
    "  return sum / x.size\n",
    "#   raise NotImplementedError.new()\n",
    "  #END YOUR CODE\n",
    "end"
   ]
  },
  {
   "cell_type": "code",
   "execution_count": 25,
   "metadata": {
    "deletable": false,
    "editable": false,
    "nbgrader": {
     "checksum": "0fbb700cb38f76cd6e5910ad4b3de67d",
     "grade": true,
     "grade_id": "cell-872ecd07d4058711",
     "locked": true,
     "points": 25,
     "schema_version": 1,
     "solution": false
    }
   },
   "outputs": [],
   "source": [
    "### TEST ###\n",
    "test_1 = [3.0, 4.0, 5.0]\n",
    "assert_equal(4.0, mean(test_1))"
   ]
  },
  {
   "cell_type": "code",
   "execution_count": 26,
   "metadata": {
    "deletable": false,
    "editable": false,
    "nbgrader": {
     "checksum": "948585145790839155f63b1daf0ac5ac",
     "grade": true,
     "grade_id": "cell-a29b65bc2c64efbf",
     "locked": true,
     "points": 25,
     "schema_version": 1,
     "solution": false
    }
   },
   "outputs": [],
   "source": [
    "### TEST ###\n",
    "def mean_solution x\n",
    "  x.inject(0.0) {|u,v| u += v} / x.size.to_f \n",
    "end\n",
    "assert_equal(mean_solution(test_1), mean(test_1))"
   ]
  },
  {
   "cell_type": "markdown",
   "metadata": {},
   "source": [
    "---\n",
    "## Question 2: 50 Points\n",
    "\n",
    "Calculate the entropy of a distribution of positive values. First, normalize them to sum to 1. Next, take special care to handle the case where a probability value is zero. Assume we use ruby's ```Math.log``` function.\n",
    "\n",
    "The formula is as follows:\n",
    "\n",
    "# $H(X) = -\\sum_{x \\in X} P(x) \\log P(x)$\n"
   ]
  },
  {
   "cell_type": "code",
   "execution_count": 79,
   "metadata": {
    "deletable": false,
    "nbgrader": {
     "checksum": "cb2499748b49666251a63fe9f40ec2d3",
     "grade": false,
     "grade_id": "cell-ad0650cc8b09869e",
     "locked": false,
     "schema_version": 1,
     "solution": true
    }
   },
   "outputs": [
    {
     "data": {
      "text/plain": [
       ":entropy"
      ]
     },
     "execution_count": 79,
     "metadata": {},
     "output_type": "execute_result"
    }
   ],
   "source": [
    "def entropy freq_x\n",
    "  # BEGIN YOUR CODE\n",
    "  sum = 0.0\n",
    "  for item in freq_x\n",
    "    sum += item\n",
    "  end\n",
    "  if sum == 0\n",
    "    return 0.0\n",
    "  end\n",
    "  freq_x.collect!{|x| x / sum}\n",
    "  entropy = 0.0\n",
    "  for item in freq_x\n",
    "    if item == 0.0\n",
    "      next\n",
    "    end\n",
    "    entropy -= (item) * Math.log(item)\n",
    "  end\n",
    "  entropy\n",
    "#   raise NotImplementedError.new()\n",
    "  #END YOUR CODE\n",
    "end"
   ]
  },
  {
   "cell_type": "code",
   "execution_count": 80,
   "metadata": {
    "deletable": false,
    "editable": false,
    "nbgrader": {
     "checksum": "d74e740f64feb2a682dc616ad5e46432",
     "grade": true,
     "grade_id": "cell-dcc0a20e2049b7ea",
     "locked": true,
     "points": 13,
     "schema_version": 1,
     "solution": false
    }
   },
   "outputs": [],
   "source": [
    "### TEST ###\n",
    "test_2_1 = [4, 4, 4, 4]\n",
    "assert_in_delta(-Math.log(0.25), entropy(test_2_1), 1e-5)"
   ]
  },
  {
   "cell_type": "code",
   "execution_count": 81,
   "metadata": {
    "deletable": false,
    "editable": false,
    "nbgrader": {
     "checksum": "4e8db5b003e7598a70994f766ed1a686",
     "grade": true,
     "grade_id": "cell-dc11f755a63c6709",
     "locked": true,
     "points": 13,
     "schema_version": 1,
     "solution": false
    }
   },
   "outputs": [],
   "source": [
    "### TEST ###\n",
    "test_2_2 = [4, 4, 0, 4]\n",
    "assert_in_delta(-Math.log(1.0 / 3.0), entropy(test_2_2), 1e-5)"
   ]
  },
  {
   "cell_type": "code",
   "execution_count": 82,
   "metadata": {
    "deletable": false,
    "editable": false,
    "nbgrader": {
     "checksum": "d6336659775f1e8fc000884914f1e16b",
     "grade": true,
     "grade_id": "cell-b6fa0c4bd9ffa9e6",
     "locked": true,
     "points": 12,
     "schema_version": 1,
     "solution": false
    }
   },
   "outputs": [],
   "source": [
    "### TEST ###\n",
    "test_2_3 = [4]\n",
    "assert_in_delta(0.0, entropy(test_2_3), 1e-5)"
   ]
  },
  {
   "cell_type": "code",
   "execution_count": 83,
   "metadata": {
    "deletable": false,
    "editable": false,
    "nbgrader": {
     "checksum": "3a35befeace4b1cb42b6389d5f3a64cb",
     "grade": true,
     "grade_id": "cell-f3203b70d5afd577",
     "locked": true,
     "points": 12,
     "schema_version": 1,
     "solution": false
    }
   },
   "outputs": [],
   "source": [
    "### TEST ###\n",
    "test_2_4 = [0,0,0,0,0]\n",
    "assert_in_delta(0.0, entropy(test_2_4), 1e-5)"
   ]
  },
  {
   "cell_type": "code",
   "execution_count": null,
   "metadata": {},
   "outputs": [],
   "source": []
  },
  {
   "cell_type": "code",
   "execution_count": null,
   "metadata": {},
   "outputs": [],
   "source": []
  },
  {
   "cell_type": "code",
   "execution_count": null,
   "metadata": {},
   "outputs": [],
   "source": []
  },
  {
   "cell_type": "code",
   "execution_count": null,
   "metadata": {},
   "outputs": [],
   "source": []
  },
  {
   "cell_type": "code",
   "execution_count": null,
   "metadata": {},
   "outputs": [],
   "source": []
  },
  {
   "cell_type": "code",
   "execution_count": null,
   "metadata": {},
   "outputs": [],
   "source": []
  }
 ],
 "metadata": {
  "kernelspec": {
   "display_name": "Ruby 2.5.1",
   "language": "ruby",
   "name": "ruby"
  },
  "language_info": {
   "file_extension": ".rb",
   "mimetype": "application/x-ruby",
   "name": "ruby",
   "version": "2.5.1"
  }
 },
 "nbformat": 4,
 "nbformat_minor": 2
}
